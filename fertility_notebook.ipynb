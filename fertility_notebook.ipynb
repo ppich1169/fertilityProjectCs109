{
 "cells": [
  {
   "cell_type": "markdown",
   "id": "c1586e42",
   "metadata": {},
   "source": [
    "**Import Libraries**"
   ]
  },
  {
   "cell_type": "code",
   "execution_count": 100,
   "id": "7423c6bb",
   "metadata": {},
   "outputs": [],
   "source": [
    "from collections import Counter\n",
    "import math\n",
    "import time\n",
    "\n",
    "import matplotlib as mpl\n",
    "import matplotlib.pyplot as plt\n",
    "import numpy as np\n",
    "import pandas as pd\n",
    "import seaborn as sns\n",
    "from scipy import stats\n",
    "from sklearn.linear_model import Lasso, LassoCV\n",
    "from sklearn.linear_model import LinearRegression\n",
    "from sklearn.metrics import mean_squared_error\n",
    "from sklearn.model_selection import cross_validate\n",
    "from sklearn.model_selection import train_test_split\n",
    "from sklearn.preprocessing import PolynomialFeatures\n",
    "from sklearn.utils import shuffle\n",
    "from sklearn.preprocessing import MinMaxScaler\n",
    "import re \n",
    "\n",
    "from warnings import simplefilter\n",
    "simplefilter('ignore', category=FutureWarning)"
   ]
  },
  {
   "cell_type": "markdown",
   "id": "8d882ae3",
   "metadata": {},
   "source": [
    "Please note, we will be collaborating via Git. Please find our project at https://github.com/ppich1169/fertilityProjectCs109"
   ]
  },
  {
   "cell_type": "markdown",
   "id": "d461283f",
   "metadata": {},
   "source": [
    "# Milestone 1: Proposal"
   ]
  },
  {
   "cell_type": "markdown",
   "id": "07556bb7",
   "metadata": {},
   "source": [
    "Over the past fifty years, fertility rates in the US have plummeted and are currently at a historic low. Conversations about why fertility has fallen so substantially and how we can address the implications of this shift for government programs like social security have been quite salient in recent public discourse and in the 2024 election cycle. \n",
    "\n",
    "Interestingly, there is significant variation in fertility rates across US states. We’d like to understand the relative importance of various factors in determining a state’s fertility rate. \n",
    "\n",
    "We plan to run a multiple regression of fertility rate (can get state-by-state here from the CDC’s National Center for Health Statistics) on a number of regressors"
   ]
  },
  {
   "cell_type": "markdown",
   "id": "9d422fe2",
   "metadata": {},
   "source": [
    "**Goal:** Create a regression that can predict the fertility rate of a state. Then, analyze coefficients and/or use causal inference to understand what factors most strongly predict a low fertility rate."
   ]
  },
  {
   "cell_type": "markdown",
   "id": "0ac2306c",
   "metadata": {},
   "source": [
    "# Milestone 2: Preprocessing"
   ]
  },
  {
   "cell_type": "markdown",
   "id": "1091b7ea",
   "metadata": {},
   "source": [
    "## 1. Access the data that you will be using for the final project by downloading, collecting, or scraping* from the relevant source(s)"
   ]
  },
  {
   "cell_type": "markdown",
   "id": "87a6af71",
   "metadata": {},
   "source": [
    "### Response Variable"
   ]
  },
  {
   "cell_type": "markdown",
   "id": "b35ab7e9",
   "metadata": {},
   "source": [
    "Our response variable is **fertility rate by state over time** which can be found at https://www.cdc.gov/nchs/pressroom/sosmap/fertility_rate/fertility_rates.htm. \n",
    "\n",
    "We accessed it via download and saved it as `fertility_rate_census.csv`. \n",
    "\n",
    "Please note, fertility rate is defined as  **total number of births per 1,000 women aged 15-44** and our dataset looks at fertility rate for each of the 50 states over 9 years (2014-2022)."
   ]
  },
  {
   "cell_type": "markdown",
   "id": "16b4bfa7",
   "metadata": {},
   "source": [
    "### Predictors\n",
    "We created an **X** dataset of predictors that we believe may influence fertility rates based on the factors surfaced most frequently in economics literature about fertility rates at the nation-wide level and our assumptions about other factors that might be relevant. \n",
    "\n",
    "Because fertility rate is evaluated statewide , and states vary significantly in population size, we have decided that for all of the predictors, we are going to essentially **normalize** them by looking at the percentage of each state that fall into a specific category. "
   ]
  },
  {
   "cell_type": "markdown",
   "id": "a0005638",
   "metadata": {},
   "source": [
    "**ISABELLA SECTION**"
   ]
  },
  {
   "cell_type": "markdown",
   "metadata": {},
   "source": [
    "We care about basic demographic data which we downloaded get from the **census** at [**THIS LINK INSERT HERE**]\n",
    "\n",
    "Here is the census data we consider important (based on our own subjective opinions):\n",
    "- race\n",
    "- socio economic status (household income) - percentage of households below the poverty line\n",
    "- education level - share that are high school graduates \n",
    "- immigration status\n",
    "\n",
    "And obviously we need **age**, **sex** , **year** , and **state**  in order to aggregate our data\n",
    "\n",
    "We accessed it by [**SCRAPING (CODE BELOW) / DOWNLOADING**] and saved it in `dataset_name.csv` in our data folder\n",
    "\n",
    "Some things to consider include: [**INSERT HERE**] "
   ]
  },
  {
   "cell_type": "markdown",
   "metadata": {},
   "source": [
    "We also care about religion, political makeup, and whether certain abortion laws are in place (all of which are not in the census). We will find them different ways."
   ]
  },
  {
   "cell_type": "markdown",
   "id": "8f00aeee",
   "metadata": {},
   "source": [
    "**PETER SECTION**"
   ]
  },
  {
   "cell_type": "markdown",
   "id": "e576fc93",
   "metadata": {},
   "source": [
    "We decided to determine people's **religiousness** based off of [**INSERT HERE**] which can be found at [**INSERT LINK HERE**]\n",
    "\n",
    "We accessed it by [**SCRAPING (CODE BELOW) / DOWNLOADING**] and saved it in `dataset_name.csv` in our data folder\n",
    "\n",
    "Some things to consider include: [**INSERT HERE**] "
   ]
  },
  {
   "cell_type": "markdown",
   "id": "d7b77098",
   "metadata": {},
   "source": [
    "**ELIZA SECTION**"
   ]
  },
  {
   "cell_type": "markdown",
   "id": "762ce4a9",
   "metadata": {},
   "source": [
    "We decided to determine people's **political orienation** based off of the **Cook Partisan Voting Index (Cook PVI)**, which is a measure of each state's political leaning relative to the nation as a whole. \n",
    "\n",
    "**The primary challenge with using this index is that the methodology was switched in 2022 to weigh the last presidential election 0.75 and the second to last 0.25, as opposed to the even (50/50) weighting of both years that was used in prior years. We will either figure out how to reweight the outcomes based on the raw data if we can get it or exclude 2022 from our analysis.**\n",
    "\n",
    "The calculation of the index is described in more detail here: https://www.cookpolitical.com/cook-pvi\n",
    "\n",
    "We will follow a similar methodology to that used in \"State-level Political Partisanship Strongly Correlates with Health Outcomes for US Children,\" (full citation below).* We converted the PVI's to numerical values, with negative values representing Democratic PVIs and positive numbers representing Republican ones (an arbitrary choice). Then, we scaled those values with sklearn's MinMaxScaler() so that states have a rating between 0 and 1 representing how conservative they are, with 1 being most conservatve and 0 being most liberal.\n",
    "\n",
    "We accessed the data for 2022 from this source: https://datawrapper.dwcdn.net/0djXs/2/ and saved it in `cook_pvi_2022.csv` in our data folder. We tried scraping the website but the data is not in the html but instead pulled from a source so we were unable to access the data using the same strategy as HW 1. \n",
    "\n",
    "*Paul, M., Zhang, R., Liu, B. et al. State-level political partisanship strongly correlates with health outcomes for US children. Eur J Pediatr 181, 273–280 (2022). https://doi.org/10.1007/s00431-021-04203-y"
   ]
  },
  {
   "cell_type": "code",
   "execution_count": 115,
   "id": "7a627da1",
   "metadata": {},
   "outputs": [
    {
     "data": {
      "text/html": [
       "<div>\n",
       "<style scoped>\n",
       "    .dataframe tbody tr th:only-of-type {\n",
       "        vertical-align: middle;\n",
       "    }\n",
       "\n",
       "    .dataframe tbody tr th {\n",
       "        vertical-align: top;\n",
       "    }\n",
       "\n",
       "    .dataframe thead th {\n",
       "        text-align: right;\n",
       "    }\n",
       "</style>\n",
       "<table border=\"1\" class=\"dataframe\">\n",
       "  <thead>\n",
       "    <tr style=\"text-align: right;\">\n",
       "      <th></th>\n",
       "      <th>State</th>\n",
       "      <th>2022_PVI</th>\n",
       "      <th>2020_Biden</th>\n",
       "      <th>2020_Trump</th>\n",
       "      <th>2016_Clinton</th>\n",
       "      <th>2016_Trump</th>\n",
       "      <th>unscaled_rating</th>\n",
       "      <th>scaled_rating</th>\n",
       "    </tr>\n",
       "  </thead>\n",
       "  <tbody>\n",
       "    <tr>\n",
       "      <th>0</th>\n",
       "      <td>Alabama</td>\n",
       "      <td>R+15</td>\n",
       "      <td>36.60%</td>\n",
       "      <td>62.00%</td>\n",
       "      <td>34.40%</td>\n",
       "      <td>62.10%</td>\n",
       "      <td>15</td>\n",
       "      <td>0.756098</td>\n",
       "    </tr>\n",
       "    <tr>\n",
       "      <th>1</th>\n",
       "      <td>Alaska</td>\n",
       "      <td>R+8</td>\n",
       "      <td>42.80%</td>\n",
       "      <td>52.80%</td>\n",
       "      <td>36.60%</td>\n",
       "      <td>51.30%</td>\n",
       "      <td>8</td>\n",
       "      <td>0.585366</td>\n",
       "    </tr>\n",
       "    <tr>\n",
       "      <th>2</th>\n",
       "      <td>Arizona</td>\n",
       "      <td>R+2</td>\n",
       "      <td>49.40%</td>\n",
       "      <td>49.10%</td>\n",
       "      <td>44.60%</td>\n",
       "      <td>48.10%</td>\n",
       "      <td>2</td>\n",
       "      <td>0.439024</td>\n",
       "    </tr>\n",
       "    <tr>\n",
       "      <th>3</th>\n",
       "      <td>Arkansas</td>\n",
       "      <td>R+16</td>\n",
       "      <td>34.80%</td>\n",
       "      <td>62.40%</td>\n",
       "      <td>33.70%</td>\n",
       "      <td>60.60%</td>\n",
       "      <td>16</td>\n",
       "      <td>0.780488</td>\n",
       "    </tr>\n",
       "    <tr>\n",
       "      <th>4</th>\n",
       "      <td>California</td>\n",
       "      <td>D+13</td>\n",
       "      <td>63.50%</td>\n",
       "      <td>34.30%</td>\n",
       "      <td>61.70%</td>\n",
       "      <td>31.60%</td>\n",
       "      <td>-13</td>\n",
       "      <td>0.073171</td>\n",
       "    </tr>\n",
       "    <tr>\n",
       "      <th>5</th>\n",
       "      <td>Colorado</td>\n",
       "      <td>D+4</td>\n",
       "      <td>55.40%</td>\n",
       "      <td>41.90%</td>\n",
       "      <td>48.20%</td>\n",
       "      <td>43.30%</td>\n",
       "      <td>-4</td>\n",
       "      <td>0.292683</td>\n",
       "    </tr>\n",
       "    <tr>\n",
       "      <th>6</th>\n",
       "      <td>Connecticut</td>\n",
       "      <td>D+7</td>\n",
       "      <td>59.30%</td>\n",
       "      <td>39.20%</td>\n",
       "      <td>54.60%</td>\n",
       "      <td>40.90%</td>\n",
       "      <td>-7</td>\n",
       "      <td>0.219512</td>\n",
       "    </tr>\n",
       "    <tr>\n",
       "      <th>7</th>\n",
       "      <td>Delaware</td>\n",
       "      <td>D+7</td>\n",
       "      <td>58.70%</td>\n",
       "      <td>39.80%</td>\n",
       "      <td>53.10%</td>\n",
       "      <td>41.70%</td>\n",
       "      <td>-7</td>\n",
       "      <td>0.219512</td>\n",
       "    </tr>\n",
       "    <tr>\n",
       "      <th>8</th>\n",
       "      <td>Florida</td>\n",
       "      <td>R+3</td>\n",
       "      <td>47.90%</td>\n",
       "      <td>51.20%</td>\n",
       "      <td>47.80%</td>\n",
       "      <td>49.00%</td>\n",
       "      <td>3</td>\n",
       "      <td>0.463415</td>\n",
       "    </tr>\n",
       "    <tr>\n",
       "      <th>9</th>\n",
       "      <td>Georgia</td>\n",
       "      <td>R+3</td>\n",
       "      <td>49.50%</td>\n",
       "      <td>49.20%</td>\n",
       "      <td>45.60%</td>\n",
       "      <td>50.80%</td>\n",
       "      <td>3</td>\n",
       "      <td>0.463415</td>\n",
       "    </tr>\n",
       "    <tr>\n",
       "      <th>10</th>\n",
       "      <td>Hawaii</td>\n",
       "      <td>D+14</td>\n",
       "      <td>63.70%</td>\n",
       "      <td>34.30%</td>\n",
       "      <td>62.20%</td>\n",
       "      <td>30.00%</td>\n",
       "      <td>-14</td>\n",
       "      <td>0.048780</td>\n",
       "    </tr>\n",
       "    <tr>\n",
       "      <th>11</th>\n",
       "      <td>Idaho</td>\n",
       "      <td>R+18</td>\n",
       "      <td>33.10%</td>\n",
       "      <td>63.80%</td>\n",
       "      <td>27.50%</td>\n",
       "      <td>59.30%</td>\n",
       "      <td>18</td>\n",
       "      <td>0.829268</td>\n",
       "    </tr>\n",
       "    <tr>\n",
       "      <th>12</th>\n",
       "      <td>Illinois</td>\n",
       "      <td>D+7</td>\n",
       "      <td>57.50%</td>\n",
       "      <td>40.60%</td>\n",
       "      <td>55.80%</td>\n",
       "      <td>38.80%</td>\n",
       "      <td>-7</td>\n",
       "      <td>0.219512</td>\n",
       "    </tr>\n",
       "    <tr>\n",
       "      <th>13</th>\n",
       "      <td>Indiana</td>\n",
       "      <td>R+11</td>\n",
       "      <td>41.00%</td>\n",
       "      <td>57.00%</td>\n",
       "      <td>37.90%</td>\n",
       "      <td>56.80%</td>\n",
       "      <td>11</td>\n",
       "      <td>0.658537</td>\n",
       "    </tr>\n",
       "    <tr>\n",
       "      <th>14</th>\n",
       "      <td>Iowa</td>\n",
       "      <td>R+6</td>\n",
       "      <td>44.90%</td>\n",
       "      <td>53.10%</td>\n",
       "      <td>41.70%</td>\n",
       "      <td>51.20%</td>\n",
       "      <td>6</td>\n",
       "      <td>0.536585</td>\n",
       "    </tr>\n",
       "    <tr>\n",
       "      <th>15</th>\n",
       "      <td>Kansas</td>\n",
       "      <td>R+10</td>\n",
       "      <td>41.60%</td>\n",
       "      <td>56.20%</td>\n",
       "      <td>36.10%</td>\n",
       "      <td>56.70%</td>\n",
       "      <td>10</td>\n",
       "      <td>0.634146</td>\n",
       "    </tr>\n",
       "    <tr>\n",
       "      <th>16</th>\n",
       "      <td>Kentucky</td>\n",
       "      <td>R+16</td>\n",
       "      <td>36.20%</td>\n",
       "      <td>62.10%</td>\n",
       "      <td>32.70%</td>\n",
       "      <td>62.50%</td>\n",
       "      <td>16</td>\n",
       "      <td>0.780488</td>\n",
       "    </tr>\n",
       "    <tr>\n",
       "      <th>17</th>\n",
       "      <td>Louisiana</td>\n",
       "      <td>R+12</td>\n",
       "      <td>39.90%</td>\n",
       "      <td>58.50%</td>\n",
       "      <td>38.50%</td>\n",
       "      <td>58.10%</td>\n",
       "      <td>12</td>\n",
       "      <td>0.682927</td>\n",
       "    </tr>\n",
       "    <tr>\n",
       "      <th>18</th>\n",
       "      <td>Maine</td>\n",
       "      <td>D+2</td>\n",
       "      <td>53.10%</td>\n",
       "      <td>44.00%</td>\n",
       "      <td>47.80%</td>\n",
       "      <td>44.90%</td>\n",
       "      <td>-2</td>\n",
       "      <td>0.341463</td>\n",
       "    </tr>\n",
       "    <tr>\n",
       "      <th>19</th>\n",
       "      <td>Maryland</td>\n",
       "      <td>D+14</td>\n",
       "      <td>65.40%</td>\n",
       "      <td>32.20%</td>\n",
       "      <td>60.30%</td>\n",
       "      <td>33.90%</td>\n",
       "      <td>-14</td>\n",
       "      <td>0.048780</td>\n",
       "    </tr>\n",
       "    <tr>\n",
       "      <th>20</th>\n",
       "      <td>Massachusetts</td>\n",
       "      <td>D+15</td>\n",
       "      <td>65.60%</td>\n",
       "      <td>32.10%</td>\n",
       "      <td>60.00%</td>\n",
       "      <td>32.80%</td>\n",
       "      <td>-15</td>\n",
       "      <td>0.024390</td>\n",
       "    </tr>\n",
       "    <tr>\n",
       "      <th>21</th>\n",
       "      <td>Michigan</td>\n",
       "      <td>R+1</td>\n",
       "      <td>50.60%</td>\n",
       "      <td>47.80%</td>\n",
       "      <td>47.30%</td>\n",
       "      <td>47.50%</td>\n",
       "      <td>1</td>\n",
       "      <td>0.414634</td>\n",
       "    </tr>\n",
       "    <tr>\n",
       "      <th>22</th>\n",
       "      <td>Minnesota</td>\n",
       "      <td>D+1</td>\n",
       "      <td>52.40%</td>\n",
       "      <td>45.30%</td>\n",
       "      <td>46.40%</td>\n",
       "      <td>44.90%</td>\n",
       "      <td>-1</td>\n",
       "      <td>0.365854</td>\n",
       "    </tr>\n",
       "    <tr>\n",
       "      <th>23</th>\n",
       "      <td>Mississippi</td>\n",
       "      <td>R+11</td>\n",
       "      <td>41.10%</td>\n",
       "      <td>57.60%</td>\n",
       "      <td>40.10%</td>\n",
       "      <td>57.90%</td>\n",
       "      <td>11</td>\n",
       "      <td>0.658537</td>\n",
       "    </tr>\n",
       "    <tr>\n",
       "      <th>24</th>\n",
       "      <td>Missouri</td>\n",
       "      <td>R+10</td>\n",
       "      <td>41.40%</td>\n",
       "      <td>56.80%</td>\n",
       "      <td>38.10%</td>\n",
       "      <td>56.80%</td>\n",
       "      <td>10</td>\n",
       "      <td>0.634146</td>\n",
       "    </tr>\n",
       "    <tr>\n",
       "      <th>25</th>\n",
       "      <td>Montana</td>\n",
       "      <td>R+11</td>\n",
       "      <td>40.60%</td>\n",
       "      <td>56.90%</td>\n",
       "      <td>35.80%</td>\n",
       "      <td>56.20%</td>\n",
       "      <td>11</td>\n",
       "      <td>0.658537</td>\n",
       "    </tr>\n",
       "    <tr>\n",
       "      <th>26</th>\n",
       "      <td>Nebraska</td>\n",
       "      <td>R+13</td>\n",
       "      <td>39.20%</td>\n",
       "      <td>58.20%</td>\n",
       "      <td>33.70%</td>\n",
       "      <td>58.80%</td>\n",
       "      <td>13</td>\n",
       "      <td>0.707317</td>\n",
       "    </tr>\n",
       "    <tr>\n",
       "      <th>27</th>\n",
       "      <td>Nevada</td>\n",
       "      <td>R+1</td>\n",
       "      <td>50.10%</td>\n",
       "      <td>47.70%</td>\n",
       "      <td>47.90%</td>\n",
       "      <td>45.50%</td>\n",
       "      <td>1</td>\n",
       "      <td>0.414634</td>\n",
       "    </tr>\n",
       "    <tr>\n",
       "      <th>28</th>\n",
       "      <td>New Hampshire</td>\n",
       "      <td>D+1</td>\n",
       "      <td>52.70%</td>\n",
       "      <td>45.40%</td>\n",
       "      <td>47.00%</td>\n",
       "      <td>46.60%</td>\n",
       "      <td>-1</td>\n",
       "      <td>0.365854</td>\n",
       "    </tr>\n",
       "    <tr>\n",
       "      <th>29</th>\n",
       "      <td>New Jersey</td>\n",
       "      <td>D+6</td>\n",
       "      <td>57.30%</td>\n",
       "      <td>41.40%</td>\n",
       "      <td>55.50%</td>\n",
       "      <td>41.40%</td>\n",
       "      <td>-6</td>\n",
       "      <td>0.243902</td>\n",
       "    </tr>\n",
       "    <tr>\n",
       "      <th>30</th>\n",
       "      <td>New Mexico</td>\n",
       "      <td>D+3</td>\n",
       "      <td>54.30%</td>\n",
       "      <td>43.50%</td>\n",
       "      <td>48.30%</td>\n",
       "      <td>40.00%</td>\n",
       "      <td>-3</td>\n",
       "      <td>0.317073</td>\n",
       "    </tr>\n",
       "    <tr>\n",
       "      <th>31</th>\n",
       "      <td>New York</td>\n",
       "      <td>D+10</td>\n",
       "      <td>60.90%</td>\n",
       "      <td>37.80%</td>\n",
       "      <td>59.00%</td>\n",
       "      <td>36.50%</td>\n",
       "      <td>-10</td>\n",
       "      <td>0.146341</td>\n",
       "    </tr>\n",
       "    <tr>\n",
       "      <th>32</th>\n",
       "      <td>North Carolina</td>\n",
       "      <td>R+3</td>\n",
       "      <td>48.60%</td>\n",
       "      <td>49.90%</td>\n",
       "      <td>46.20%</td>\n",
       "      <td>49.80%</td>\n",
       "      <td>3</td>\n",
       "      <td>0.463415</td>\n",
       "    </tr>\n",
       "    <tr>\n",
       "      <th>33</th>\n",
       "      <td>North Dakota</td>\n",
       "      <td>R+20</td>\n",
       "      <td>31.80%</td>\n",
       "      <td>65.10%</td>\n",
       "      <td>27.20%</td>\n",
       "      <td>63.00%</td>\n",
       "      <td>20</td>\n",
       "      <td>0.878049</td>\n",
       "    </tr>\n",
       "    <tr>\n",
       "      <th>34</th>\n",
       "      <td>Ohio</td>\n",
       "      <td>R+6</td>\n",
       "      <td>45.20%</td>\n",
       "      <td>53.30%</td>\n",
       "      <td>43.60%</td>\n",
       "      <td>51.70%</td>\n",
       "      <td>6</td>\n",
       "      <td>0.536585</td>\n",
       "    </tr>\n",
       "    <tr>\n",
       "      <th>35</th>\n",
       "      <td>Oklahoma</td>\n",
       "      <td>R+20</td>\n",
       "      <td>32.30%</td>\n",
       "      <td>65.40%</td>\n",
       "      <td>28.90%</td>\n",
       "      <td>65.30%</td>\n",
       "      <td>20</td>\n",
       "      <td>0.878049</td>\n",
       "    </tr>\n",
       "    <tr>\n",
       "      <th>36</th>\n",
       "      <td>Oregon</td>\n",
       "      <td>D+6</td>\n",
       "      <td>56.50%</td>\n",
       "      <td>40.40%</td>\n",
       "      <td>50.10%</td>\n",
       "      <td>39.10%</td>\n",
       "      <td>-6</td>\n",
       "      <td>0.243902</td>\n",
       "    </tr>\n",
       "    <tr>\n",
       "      <th>37</th>\n",
       "      <td>Pennsylvania</td>\n",
       "      <td>R+2</td>\n",
       "      <td>50.00%</td>\n",
       "      <td>48.80%</td>\n",
       "      <td>47.50%</td>\n",
       "      <td>48.20%</td>\n",
       "      <td>2</td>\n",
       "      <td>0.439024</td>\n",
       "    </tr>\n",
       "    <tr>\n",
       "      <th>38</th>\n",
       "      <td>Rhode Island</td>\n",
       "      <td>D+8</td>\n",
       "      <td>59.40%</td>\n",
       "      <td>38.60%</td>\n",
       "      <td>54.40%</td>\n",
       "      <td>38.90%</td>\n",
       "      <td>-8</td>\n",
       "      <td>0.195122</td>\n",
       "    </tr>\n",
       "    <tr>\n",
       "      <th>39</th>\n",
       "      <td>South Carolina</td>\n",
       "      <td>R+8</td>\n",
       "      <td>43.40%</td>\n",
       "      <td>55.10%</td>\n",
       "      <td>40.70%</td>\n",
       "      <td>54.90%</td>\n",
       "      <td>8</td>\n",
       "      <td>0.585366</td>\n",
       "    </tr>\n",
       "    <tr>\n",
       "      <th>40</th>\n",
       "      <td>South Dakota</td>\n",
       "      <td>R+16</td>\n",
       "      <td>35.60%</td>\n",
       "      <td>61.80%</td>\n",
       "      <td>31.70%</td>\n",
       "      <td>61.50%</td>\n",
       "      <td>16</td>\n",
       "      <td>0.780488</td>\n",
       "    </tr>\n",
       "    <tr>\n",
       "      <th>41</th>\n",
       "      <td>Tennessee</td>\n",
       "      <td>R+14</td>\n",
       "      <td>37.50%</td>\n",
       "      <td>60.70%</td>\n",
       "      <td>34.70%</td>\n",
       "      <td>60.70%</td>\n",
       "      <td>14</td>\n",
       "      <td>0.731707</td>\n",
       "    </tr>\n",
       "    <tr>\n",
       "      <th>42</th>\n",
       "      <td>Texas</td>\n",
       "      <td>R+5</td>\n",
       "      <td>46.50%</td>\n",
       "      <td>52.10%</td>\n",
       "      <td>43.20%</td>\n",
       "      <td>52.20%</td>\n",
       "      <td>5</td>\n",
       "      <td>0.512195</td>\n",
       "    </tr>\n",
       "    <tr>\n",
       "      <th>43</th>\n",
       "      <td>Utah</td>\n",
       "      <td>R+13</td>\n",
       "      <td>37.70%</td>\n",
       "      <td>58.10%</td>\n",
       "      <td>27.50%</td>\n",
       "      <td>45.50%</td>\n",
       "      <td>13</td>\n",
       "      <td>0.707317</td>\n",
       "    </tr>\n",
       "    <tr>\n",
       "      <th>44</th>\n",
       "      <td>Vermont</td>\n",
       "      <td>D+16</td>\n",
       "      <td>66.10%</td>\n",
       "      <td>30.70%</td>\n",
       "      <td>56.70%</td>\n",
       "      <td>30.30%</td>\n",
       "      <td>-16</td>\n",
       "      <td>0.000000</td>\n",
       "    </tr>\n",
       "    <tr>\n",
       "      <th>45</th>\n",
       "      <td>Virginia</td>\n",
       "      <td>D+3</td>\n",
       "      <td>54.10%</td>\n",
       "      <td>44.00%</td>\n",
       "      <td>49.70%</td>\n",
       "      <td>44.40%</td>\n",
       "      <td>-3</td>\n",
       "      <td>0.317073</td>\n",
       "    </tr>\n",
       "    <tr>\n",
       "      <th>46</th>\n",
       "      <td>Washington</td>\n",
       "      <td>D+8</td>\n",
       "      <td>58.00%</td>\n",
       "      <td>38.80%</td>\n",
       "      <td>52.50%</td>\n",
       "      <td>36.80%</td>\n",
       "      <td>-8</td>\n",
       "      <td>0.195122</td>\n",
       "    </tr>\n",
       "    <tr>\n",
       "      <th>47</th>\n",
       "      <td>West Virginia</td>\n",
       "      <td>R+22</td>\n",
       "      <td>29.70%</td>\n",
       "      <td>68.60%</td>\n",
       "      <td>26.40%</td>\n",
       "      <td>68.50%</td>\n",
       "      <td>22</td>\n",
       "      <td>0.926829</td>\n",
       "    </tr>\n",
       "    <tr>\n",
       "      <th>48</th>\n",
       "      <td>Wisconsin</td>\n",
       "      <td>R+2</td>\n",
       "      <td>49.50%</td>\n",
       "      <td>48.80%</td>\n",
       "      <td>46.50%</td>\n",
       "      <td>47.20%</td>\n",
       "      <td>2</td>\n",
       "      <td>0.439024</td>\n",
       "    </tr>\n",
       "    <tr>\n",
       "      <th>49</th>\n",
       "      <td>Wyoming</td>\n",
       "      <td>R+25</td>\n",
       "      <td>26.60%</td>\n",
       "      <td>69.90%</td>\n",
       "      <td>21.90%</td>\n",
       "      <td>68.20%</td>\n",
       "      <td>25</td>\n",
       "      <td>1.000000</td>\n",
       "    </tr>\n",
       "  </tbody>\n",
       "</table>\n",
       "</div>"
      ],
      "text/plain": [
       "             State 2022_PVI 2020_Biden 2020_Trump 2016_Clinton 2016_Trump  \\\n",
       "0          Alabama     R+15     36.60%     62.00%       34.40%     62.10%   \n",
       "1           Alaska      R+8     42.80%     52.80%       36.60%     51.30%   \n",
       "2          Arizona      R+2     49.40%     49.10%       44.60%     48.10%   \n",
       "3         Arkansas     R+16     34.80%     62.40%       33.70%     60.60%   \n",
       "4       California     D+13     63.50%     34.30%       61.70%     31.60%   \n",
       "5         Colorado      D+4     55.40%     41.90%       48.20%     43.30%   \n",
       "6      Connecticut      D+7     59.30%     39.20%       54.60%     40.90%   \n",
       "7         Delaware      D+7     58.70%     39.80%       53.10%     41.70%   \n",
       "8          Florida      R+3     47.90%     51.20%       47.80%     49.00%   \n",
       "9          Georgia      R+3     49.50%     49.20%       45.60%     50.80%   \n",
       "10          Hawaii     D+14     63.70%     34.30%       62.20%     30.00%   \n",
       "11           Idaho     R+18     33.10%     63.80%       27.50%     59.30%   \n",
       "12        Illinois      D+7     57.50%     40.60%       55.80%     38.80%   \n",
       "13         Indiana     R+11     41.00%     57.00%       37.90%     56.80%   \n",
       "14            Iowa      R+6     44.90%     53.10%       41.70%     51.20%   \n",
       "15          Kansas     R+10     41.60%     56.20%       36.10%     56.70%   \n",
       "16        Kentucky     R+16     36.20%     62.10%       32.70%     62.50%   \n",
       "17       Louisiana     R+12     39.90%     58.50%       38.50%     58.10%   \n",
       "18           Maine      D+2     53.10%     44.00%       47.80%     44.90%   \n",
       "19        Maryland     D+14     65.40%     32.20%       60.30%     33.90%   \n",
       "20   Massachusetts     D+15     65.60%     32.10%       60.00%     32.80%   \n",
       "21        Michigan      R+1     50.60%     47.80%       47.30%     47.50%   \n",
       "22       Minnesota      D+1     52.40%     45.30%       46.40%     44.90%   \n",
       "23     Mississippi     R+11     41.10%     57.60%       40.10%     57.90%   \n",
       "24        Missouri     R+10     41.40%     56.80%       38.10%     56.80%   \n",
       "25         Montana     R+11     40.60%     56.90%       35.80%     56.20%   \n",
       "26        Nebraska     R+13     39.20%     58.20%       33.70%     58.80%   \n",
       "27          Nevada      R+1     50.10%     47.70%       47.90%     45.50%   \n",
       "28   New Hampshire      D+1     52.70%     45.40%       47.00%     46.60%   \n",
       "29      New Jersey      D+6     57.30%     41.40%       55.50%     41.40%   \n",
       "30      New Mexico      D+3     54.30%     43.50%       48.30%     40.00%   \n",
       "31        New York     D+10     60.90%     37.80%       59.00%     36.50%   \n",
       "32  North Carolina      R+3     48.60%     49.90%       46.20%     49.80%   \n",
       "33    North Dakota     R+20     31.80%     65.10%       27.20%     63.00%   \n",
       "34            Ohio      R+6     45.20%     53.30%       43.60%     51.70%   \n",
       "35        Oklahoma     R+20     32.30%     65.40%       28.90%     65.30%   \n",
       "36          Oregon      D+6     56.50%     40.40%       50.10%     39.10%   \n",
       "37    Pennsylvania      R+2     50.00%     48.80%       47.50%     48.20%   \n",
       "38    Rhode Island      D+8     59.40%     38.60%       54.40%     38.90%   \n",
       "39  South Carolina      R+8     43.40%     55.10%       40.70%     54.90%   \n",
       "40    South Dakota     R+16     35.60%     61.80%       31.70%     61.50%   \n",
       "41       Tennessee     R+14     37.50%     60.70%       34.70%     60.70%   \n",
       "42           Texas      R+5     46.50%     52.10%       43.20%     52.20%   \n",
       "43            Utah     R+13     37.70%     58.10%       27.50%     45.50%   \n",
       "44         Vermont     D+16     66.10%     30.70%       56.70%     30.30%   \n",
       "45        Virginia      D+3     54.10%     44.00%       49.70%     44.40%   \n",
       "46      Washington      D+8     58.00%     38.80%       52.50%     36.80%   \n",
       "47   West Virginia     R+22     29.70%     68.60%       26.40%     68.50%   \n",
       "48       Wisconsin      R+2     49.50%     48.80%       46.50%     47.20%   \n",
       "49         Wyoming     R+25     26.60%     69.90%       21.90%     68.20%   \n",
       "\n",
       "    unscaled_rating  scaled_rating  \n",
       "0                15       0.756098  \n",
       "1                 8       0.585366  \n",
       "2                 2       0.439024  \n",
       "3                16       0.780488  \n",
       "4               -13       0.073171  \n",
       "5                -4       0.292683  \n",
       "6                -7       0.219512  \n",
       "7                -7       0.219512  \n",
       "8                 3       0.463415  \n",
       "9                 3       0.463415  \n",
       "10              -14       0.048780  \n",
       "11               18       0.829268  \n",
       "12               -7       0.219512  \n",
       "13               11       0.658537  \n",
       "14                6       0.536585  \n",
       "15               10       0.634146  \n",
       "16               16       0.780488  \n",
       "17               12       0.682927  \n",
       "18               -2       0.341463  \n",
       "19              -14       0.048780  \n",
       "20              -15       0.024390  \n",
       "21                1       0.414634  \n",
       "22               -1       0.365854  \n",
       "23               11       0.658537  \n",
       "24               10       0.634146  \n",
       "25               11       0.658537  \n",
       "26               13       0.707317  \n",
       "27                1       0.414634  \n",
       "28               -1       0.365854  \n",
       "29               -6       0.243902  \n",
       "30               -3       0.317073  \n",
       "31              -10       0.146341  \n",
       "32                3       0.463415  \n",
       "33               20       0.878049  \n",
       "34                6       0.536585  \n",
       "35               20       0.878049  \n",
       "36               -6       0.243902  \n",
       "37                2       0.439024  \n",
       "38               -8       0.195122  \n",
       "39                8       0.585366  \n",
       "40               16       0.780488  \n",
       "41               14       0.731707  \n",
       "42                5       0.512195  \n",
       "43               13       0.707317  \n",
       "44              -16       0.000000  \n",
       "45               -3       0.317073  \n",
       "46               -8       0.195122  \n",
       "47               22       0.926829  \n",
       "48                2       0.439024  \n",
       "49               25       1.000000  "
      ]
     },
     "execution_count": 115,
     "metadata": {},
     "output_type": "execute_result"
    }
   ],
   "source": [
    "pol_df = pd.read_csv('data/cook_pvi_2022.csv')\n",
    "\n",
    "#Drop DC because it's not a state: \n",
    "pol_df = pol_df[pol_df['State'] != 'District of Columbia']\n",
    "pol_df.reset_index(drop=True, inplace=True)\n",
    "\n",
    "unscaled_ratings=[]\n",
    "for i in range(len(pol_df)):\n",
    "    magnitude = re.search(r\"(?<=\\+).*\", pol_df['2022_PVI'][i])\n",
    "    magnitude = int(magnitude.group())\n",
    "    \n",
    "    if pol_df['2022_PVI'][i][0] == 'R':\n",
    "        unscaled_ratings.append(magnitude)\n",
    "    else:\n",
    "        unscaled_ratings.append(magnitude * -1)\n",
    "\n",
    "pol_df['unscaled_rating'] = unscaled_ratings\n",
    "\n",
    "pol_rating_scaler = MinMaxScaler()\n",
    "scaled_pol_ratings = pol_rating_scaler.fit_transform(pol_df['unscaled_rating'].values.reshape(-1, 1))\n",
    "\n",
    "pol_df['scaled_rating'] = scaled_pol_ratings\n",
    "pol_df.head()\n",
    "\n",
    "pol_df['unscaled_rating'].min()\n",
    "\n",
    "pol_df"
   ]
  },
  {
   "cell_type": "markdown",
   "id": "11f7f12c",
   "metadata": {},
   "source": [
    "**MAIA SECTION**"
   ]
  },
  {
   "cell_type": "markdown",
   "id": "4a98418d",
   "metadata": {},
   "source": [
    "We decided to determine state's **abortion laws** based off of how late into pregnancy, abortion is legally allowed which can be found at https://lawatlas.org/datasets/abortion-bans. We chose this dataset because it is the only one on the internet showing abortion bans in the 2014-2022 time frame and how they change (most just show abortion bans now)\n",
    "\n",
    "We accessed it by downloading it, converting from xlsx to csv, and saved it in `abortion_data.csv` in our data folder\n",
    "\n",
    "The main thing to consider is that **just because abortion is legal, doesn't mean it is accessible**. Many states may technically allow abortion but only have one clinic, so its not attainable. That said, we have chosen this metric (when is abortion legal), to coincide with current political debate about whether abortion should be legalized. \n",
    "\n",
    "There will be significant preprocessing required as the data is in format `Effective Date`, `Valid Through Date` for each law which must simply be converted into year (whichever law was the majority of the year), and each ban `6 weeks`, `8 weeks` etc is categorical! It would make more sense to simply make a variable listing the latest week aborition is legal (0,6,8,12,52 etc).  "
   ]
  },
  {
   "cell_type": "markdown",
   "metadata": {},
   "source": [
    "## 2. Load the data into a Jupyter notebook and understand the data by examining, among other characteristics of interest, data missingness, imbalance, and scaling issues."
   ]
  },
  {
   "cell_type": "markdown",
   "metadata": {},
   "source": [
    "Some issues we preliminary have considered before even inspecting the data includes:\n",
    "\n",
    "\n",
    "- **under reporting immigration status**: via google, people tend to underreport whether they are immigrants. This is potentially a missingness issue\n",
    "\n",
    "-  **multicollinearity**: There is most likely a relationship between racial background / household income and an individual's birth country (immigration status) so we can't use both as predictors in the same equation. We don't know how strong this correlation will be so are not worried yet, but would love to talk about it with a TF\n",
    "\n",
    "- **is this just too much data??**: looking at each of these attributes for each state for each year may just be too many dimensions. Is there really a big difference accross years? Should we just look at 1? If so, which? "
   ]
  },
  {
   "cell_type": "markdown",
   "metadata": {},
   "source": [
    "Now we are going to import and inspect each dataset, looking for missingness, imbalance, and scaling issues!"
   ]
  },
  {
   "cell_type": "markdown",
   "id": "955ebdcb",
   "metadata": {},
   "source": [
    "### Fertility Rate Data"
   ]
  },
  {
   "cell_type": "code",
   "execution_count": 14,
   "metadata": {},
   "outputs": [
    {
     "ename": "ModuleNotFoundError",
     "evalue": "No module named 'pandas'",
     "output_type": "error",
     "traceback": [
      "\u001b[0;31m---------------------------------------------------------------------------\u001b[0m",
      "\u001b[0;31mModuleNotFoundError\u001b[0m                       Traceback (most recent call last)",
      "Cell \u001b[0;32mIn[14], line 1\u001b[0m\n\u001b[0;32m----> 1\u001b[0m \u001b[38;5;28;01mimport\u001b[39;00m \u001b[38;5;21;01mpandas\u001b[39;00m\n\u001b[1;32m      2\u001b[0m \u001b[38;5;28mprint\u001b[39m(pandas\u001b[38;5;241m.\u001b[39m\u001b[38;5;18m__file__\u001b[39m)\n\u001b[1;32m      5\u001b[0m fertility_rate \u001b[38;5;241m=\u001b[39m pd\u001b[38;5;241m.\u001b[39mread_csv(\u001b[38;5;124m'\u001b[39m\u001b[38;5;124mdata/fertility_rate_census.csv\u001b[39m\u001b[38;5;124m'\u001b[39m)\n",
      "\u001b[0;31mModuleNotFoundError\u001b[0m: No module named 'pandas'"
     ]
    }
   ],
   "source": [
    "import pandas\n",
    "print(pandas.__file__)\n",
    "\n",
    "\n",
    "fertility_rate = pd.read_csv('data/fertility_rate_census.csv')\n",
    "print(fertility_rate.isna().sum(axis=0))\n",
    "fertility_rate.describe()"
   ]
  },
  {
   "cell_type": "markdown",
   "id": "016931d7",
   "metadata": {},
   "source": [
    "Things to Consider:\n",
    "\n",
    "**Missingness**:\n",
    "\n",
    "**Imbalance**:\n",
    "\n",
    "**Scaling**:\n",
    "\n",
    "**Other**:"
   ]
  },
  {
   "cell_type": "markdown",
   "metadata": {},
   "source": [
    "### Census Data"
   ]
  },
  {
   "cell_type": "code",
   "execution_count": null,
   "id": "90e5b4ca",
   "metadata": {},
   "outputs": [],
   "source": [
    "census_data = pd.read_csv('data/')\n",
    "print(census_data.isna().sum(axis=0))\n",
    "census_data.describe()"
   ]
  },
  {
   "cell_type": "markdown",
   "id": "0276f4f3",
   "metadata": {},
   "source": [
    "Things to Consider:\n",
    "\n",
    "**Missingness**:\n",
    "\n",
    "**Imbalance**:\n",
    "\n",
    "**Scaling**:\n",
    "\n",
    "**Other**:"
   ]
  },
  {
   "cell_type": "markdown",
   "id": "d1eaf37b",
   "metadata": {},
   "source": [
    "### Religion Data"
   ]
  },
  {
   "cell_type": "code",
   "execution_count": null,
   "id": "1cfa113d",
   "metadata": {},
   "outputs": [],
   "source": [
    "religion_data = pd.read_csv('data/')\n",
    "print(religion_data.isna().sum(axis=0))\n",
    "religion_data.describe()"
   ]
  },
  {
   "cell_type": "markdown",
   "id": "496b6996",
   "metadata": {},
   "source": [
    "Things to Consider:\n",
    "\n",
    "**Missingness**:\n",
    "\n",
    "**Imbalance**:\n",
    "\n",
    "**Scaling**:\n",
    "\n",
    "**Other**:"
   ]
  },
  {
   "cell_type": "markdown",
   "id": "6741289e",
   "metadata": {},
   "source": [
    "### Politics Data"
   ]
  },
  {
   "cell_type": "code",
   "execution_count": null,
   "id": "5916baaf",
   "metadata": {},
   "outputs": [],
   "source": [
    "politics_data = pd.read_csv('data/')\n",
    "print(politics_data.isna().sum(axis=0))\n",
    "politics_data.describe()"
   ]
  },
  {
   "cell_type": "markdown",
   "id": "5b47016b",
   "metadata": {},
   "source": [
    "Things to Consider:\n",
    "\n",
    "**Missingness**:\n",
    "\n",
    "**Imbalance**:\n",
    "\n",
    "**Scaling**:\n",
    "\n",
    "**Other**:"
   ]
  },
  {
   "cell_type": "markdown",
   "id": "5e7a65ab",
   "metadata": {},
   "source": [
    "### Abortion Data"
   ]
  },
  {
   "cell_type": "code",
   "execution_count": null,
   "id": "29abc0ed",
   "metadata": {},
   "outputs": [],
   "source": [
    "abortion_data = pd.read_csv('data/')\n",
    "print(abortion_data.isna().sum(axis=0))\n",
    "abortion_data.describe()"
   ]
  },
  {
   "cell_type": "markdown",
   "id": "aae04e9c",
   "metadata": {},
   "source": [
    "Things to Consider:\n",
    "\n",
    "**Missingness**:\n",
    "\n",
    "**Imbalance**:\n",
    "\n",
    "**Scaling**:\n",
    "\n",
    "**Other**:"
   ]
  },
  {
   "cell_type": "markdown",
   "metadata": {},
   "source": [
    "## 3. Understand and describe the preprocessing required such that data is in a form amenable to later downstream tasks such as visualizing and modeling, as is appropriate to the specific project goals.\n",
    "\n"
   ]
  },
  {
   "cell_type": "markdown",
   "id": "616e8d54",
   "metadata": {},
   "source": [
    "One of our biggest considerations is that our predictor variables, X, is essentially 3d (reshaped), not 2d. We are looking at a bunch of predictors **over state** and **over time**. This might make our predictions complicated, especially because we are trying to see **why** fertility is changing over time (so the reason that there are less babies in 2022 can't simply be that it is 2022). Thus, it might make more sense to choose only **one year** to regress on. Also, it may be hard to **visualize** multiple years and states simultaniously as, for example, if we drew a map and colored each state by predictor category, we would have to choose one specific time to do so (and vice versa).  PLEASE LET US KNOW WHAT YOU THINK!"
   ]
  },
  {
   "cell_type": "markdown",
   "id": "1a0aff50",
   "metadata": {},
   "source": [
    "It also may make sense to just try to minimize predictors in general as we don't want to get too specific!"
   ]
  },
  {
   "cell_type": "markdown",
   "id": "3b047880",
   "metadata": {},
   "source": [
    "### This is how we envision generally preprocessing..."
   ]
  }
 ],
 "metadata": {
  "kernelspec": {
   "display_name": "Python 3",
   "language": "python",
   "name": "python3"
  },
  "language_info": {
   "codemirror_mode": {
    "name": "ipython",
    "version": 3
   },
   "file_extension": ".py",
   "mimetype": "text/x-python",
   "name": "python",
   "nbconvert_exporter": "python",
   "pygments_lexer": "ipython3",
   "version": "3.12.5"
  },
  "otter": {
   "OK_FORMAT": true,
   "tests": {
    "q1": {
     "name": "q1",
     "points": 10,
     "suites": [
      {
       "cases": [
        {
         "code": ">>> expected_url = './data/html/screenboston.html'\n>>> assert os.path.isfile(expected_url), f'Expected local file {expected_url}'\n",
         "hidden": false,
         "locked": false,
         "points": 3
        },
        {
         "code": ">>> expected_url = './data/html/screenboston.html'\n>>> with open(expected_url, 'r') as f:\n...     content = f.read()\n...     s = BeautifulSoup(content)\n...     assert s.select_one('p').text == 'Screen Boston', f'Content of file saved from {expected_url} should contain a <p> tag with the page name.'\n",
         "hidden": false,
         "locked": false,
         "points": 4
        },
        {
         "code": ">>> \n",
         "hidden": false,
         "locked": false
        }
       ],
       "scored": true,
       "setup": "",
       "teardown": "",
       "type": "doctest"
      }
     ]
    },
    "q2": {
     "name": "q2",
     "points": 15,
     "suites": [
      {
       "cases": [
        {
         "code": ">>> n = 50\n>>> assert len(movies) > n, f'`movies` should contain more than {n} elements; you have {len(movies)}.'\n>>> assert all((isinstance(m, dict) for m in movies)), 'Elements of `movies` should all be dictionaries.'\n",
         "hidden": false,
         "locked": false,
         "points": 4
        },
        {
         "code": ">>> keys = {'title', 'directors', 'year', 'genre', 'runtime', 'theater', 'screen_date', 'screen_times'}\n>>> assert all((set(keys).issubset(m.keys()) for m in movies)), f'Each dictionary in `movies` should contain all of these keys: {', '.join(keys)}. At least one dictionary is missing one or more keys.'\n",
         "hidden": false,
         "locked": false,
         "points": 4
        },
        {
         "code": ">>> assert all((isinstance(m['year'], int) for m in movies)), \"The 'year' value should be an integer in all dictionaries.\"\n",
         "hidden": false,
         "locked": false,
         "points": 2
        }
       ],
       "scored": true,
       "setup": "",
       "teardown": "",
       "type": "doctest"
      }
     ]
    },
    "q3": {
     "name": "q3",
     "points": 15,
     "suites": [
      {
       "cases": [
        {
         "code": ">>> snapshots = glob.glob('./data/html/snapshot_*.html')\n>>> assert len(snapshots) >= 4, f'You should have at least 4 snapshots, but found {len(snapshots)} files with paths like ./data/html/snapshot_*.html'\n",
         "hidden": false,
         "locked": false,
         "points": 3
        },
        {
         "code": ">>> snapshots = glob.glob('./data/html/snapshot_*.html')\n>>> assert all((re.match('snapshot_\\\\d{8}\\\\.html', os.path.basename(f)) for f in snapshots)), \"All snapshot files should be named in the format 'snapshot_YYYYMMDD.html'\"\n",
         "hidden": false,
         "locked": false,
         "points": 2
        },
        {
         "code": ">>> assert os.path.isfile('data/movies.json'), \"The file 'data/movies.json' should exist.\"\n",
         "hidden": false,
         "locked": false,
         "points": 2
        },
        {
         "code": ">>> with open('data/movies.json', 'r') as f:\n...     movies = json.load(f)\n>>> n = 300\n>>> assert len(movies) > n, f'`movies` should now contain more than {n} elements; you have {len(movies)}.'\n",
         "hidden": false,
         "locked": false,
         "points": 3
        },
        {
         "code": ">>> keys = {'title', 'directors', 'year', 'genre', 'runtime', 'theater', 'screen_date', 'screen_times'}\n>>> assert all((isinstance(m, dict) and set(keys).issubset(m.keys()) for m in movies)), f'Each dictionary in `movies` should contain all of these keys: {', '.join(keys)}. At least one dictionary is missing one or more keys.'\n",
         "hidden": false,
         "locked": false,
         "points": 5
        }
       ],
       "scored": true,
       "setup": "",
       "teardown": "",
       "type": "doctest"
      }
     ]
    },
    "q4": {
     "name": "q4",
     "points": 15,
     "suites": [
      {
       "cases": [
        {
         "code": ">>> assert isinstance(df, pd.DataFrame), \"You should have stored your DataFrame in a variable called 'df'\"\n>>> assert df.shape[1] == 8, 'Your DataFrame, df, should have 8 columns'\n",
         "hidden": false,
         "locked": false,
         "points": 3
        },
        {
         "code": ">>> assert df.shape[0] > 300, 'You should have found at least 300 non-duplicate rows'\n>>> assert df.shape[0] == df.drop_duplicates().shape[0], 'There are still duplicate rows in your DataFrame'\n",
         "hidden": false,
         "locked": false,
         "points": 3
        },
        {
         "code": ">>> def is_datetime_column_hacky(column):\n...     dtype_str = str(column.dtype)\n...     valid_types = ['date', 'timestamp', 'timedelta', 'duration']\n...     return any((t in dtype_str.lower() for t in valid_types))\n>>> assert is_datetime_column_hacky(df['screen_date']), \"The 'screen_date' column must be either a Pandas or PyArrow date/datetime type.\"\n",
         "hidden": false,
         "locked": false,
         "points": 2
        },
        {
         "code": ">>> def is_datetime_column_hacky(column):\n...     dtype_str = str(column.dtype)\n...     valid_types = ['date', 'timestamp', 'timedelta', 'duration']\n...     return any((t in dtype_str.lower() for t in valid_types))\n>>> assert is_datetime_column_hacky(df['runtime']), \"The 'runtime' column must be either a Pandas or PyArrow timedelta type.\"\n",
         "hidden": false,
         "locked": false,
         "points": 2
        },
        {
         "code": ">>> assert df['screen_date'].is_monotonic_increasing, \"The 'screen_date' column is not sorted in ascending order\"\n",
         "hidden": false,
         "locked": false,
         "points": 2
        },
        {
         "code": ">>> \n",
         "hidden": false,
         "locked": false
        }
       ],
       "scored": true,
       "setup": "",
       "teardown": "",
       "type": "doctest"
      }
     ]
    },
    "q6": {
     "name": "q6",
     "points": 7,
     "suites": [
      {
       "cases": [
        {
         "code": ">>> assert 'wiki_id' in df.columns, \"`df` should now have a column called 'wiki_id'.\"\n",
         "hidden": false,
         "locked": false,
         "points": 2
        },
        {
         "code": ">>> p = 0.5\n>>> assert (q := df['wiki_id'].notna().mean()) >= p, f'You should have been able to find wiki IDs for at least {p:.0%} of the screenings. You found {q:.0%}.'\n",
         "hidden": false,
         "locked": false,
         "points": 3
        },
        {
         "code": ">>> \n",
         "hidden": false,
         "locked": false
        }
       ],
       "scored": true,
       "setup": "",
       "teardown": "",
       "type": "doctest"
      }
     ]
    },
    "q7": {
     "name": "q7",
     "points": 3,
     "suites": [
      {
       "cases": [
        {
         "code": ">>> assert 'wiki_html' in df.columns, \"`df` should now have a column called 'wiki_html'.\"\n",
         "hidden": false,
         "locked": false,
         "points": 1
        },
        {
         "code": ">>> p = 0.5\n>>> assert (q := df['wiki_html'].notna().mean()) >= p, f'You should have been able to acquire wiki page HTML content for at least {p:.0%} of the screenings. You found {q:.0%}.'\n",
         "hidden": false,
         "locked": false,
         "points": 2
        }
       ],
       "scored": true,
       "setup": "",
       "teardown": "",
       "type": "doctest"
      }
     ]
    },
    "wrapup": {
     "name": "wrapup",
     "points": 5,
     "suites": [
      {
       "cases": [
        {
         "code": ">>> assert float(hours_spent_on_hw), 'Please select a time in hours (int or float) to specify how long you spent on this assignment.'\n",
         "hidden": false,
         "locked": false
        }
       ],
       "scored": true,
       "setup": "",
       "teardown": "",
       "type": "doctest"
      }
     ]
    }
   }
  }
 },
 "nbformat": 4,
 "nbformat_minor": 5
}
