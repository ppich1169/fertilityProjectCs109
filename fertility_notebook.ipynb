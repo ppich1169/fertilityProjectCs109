{
 "cells": [
  {
   "cell_type": "markdown",
   "id": "c1586e42",
   "metadata": {},
   "source": [
    "**Import Libraries**"
   ]
  },
  {
   "cell_type": "code",
   "execution_count": 28,
   "id": "7423c6bb",
   "metadata": {},
   "outputs": [],
   "source": [
    "#!pip install plotly\n",
    "import plotly.express as px\n",
    "from sklearn.preprocessing import StandardScaler, PolynomialFeatures, MinMaxScaler\n",
    "from sklearn.decomposition import PCA\n",
    "import requests\n",
    "from bs4 import BeautifulSoup\n",
    "import re\n",
    "import os\n",
    "import matplotlib as mpl\n",
    "import matplotlib.pyplot as plt\n",
    "import numpy as np\n",
    "import pandas as pd\n",
    "import glob\n",
    "import seaborn as sns\n",
    "from scipy import stats\n",
    "from sklearn.linear_model import Lasso, LassoCV\n",
    "from sklearn.linear_model import LinearRegression\n",
    "from sklearn.metrics import mean_squared_error\n",
    "from sklearn.model_selection import cross_validate\n",
    "from sklearn.model_selection import train_test_split\n",
    "from sklearn.preprocessing import PolynomialFeatures\n",
    "from sklearn.utils import shuffle\n",
    "from warnings import simplefilter\n",
    "from functools import reduce\n",
    "from sklearn.cluster import KMeans\n",
    "\n",
    "\n",
    "simplefilter('ignore', category=FutureWarning)"
   ]
  },
  {
   "cell_type": "markdown",
   "id": "8d882ae3",
   "metadata": {},
   "source": [
    "Please note, we will be collaborating via Git. Please find our project at https://github.com/ppich1169/fertilityProjectCs109"
   ]
  },
  {
   "cell_type": "markdown",
   "id": "d461283f",
   "metadata": {},
   "source": [
    "# Milestone 1: Proposal"
   ]
  },
  {
   "cell_type": "markdown",
   "id": "07556bb7",
   "metadata": {},
   "source": [
    "Over the past fifty years, fertility rates in the US have plummeted and are currently at a historic low. Conversations about why fertility has fallen so substantially and how we can address the implications of this shift for government programs like social security have been quite salient in recent public discourse and in the 2024 election cycle. \n",
    "\n",
    "Interestingly, there is significant variation in fertility rates across US states. We’d like to understand the relative importance of various factors in determining a state’s fertility rate. \n",
    "\n",
    "We plan to run a multiple regression of fertility rate (can get state-by-state here from the CDC’s National Center for Health Statistics) on a number of regressors"
   ]
  },
  {
   "cell_type": "markdown",
   "id": "9d422fe2",
   "metadata": {},
   "source": [
    "**Goal:** Create a regression that can predict the fertility rate of a state. Then, analyze coefficients and/or use causal inference to understand why fertility rate is going down"
   ]
  },
  {
   "cell_type": "markdown",
   "id": "0ac2306c",
   "metadata": {},
   "source": [
    "# Milestone 2: Preprocessing"
   ]
  },
  {
   "cell_type": "markdown",
   "id": "1091b7ea",
   "metadata": {},
   "source": [
    "## Access data via webscrape or downnlaod and explore"
   ]
  },
  {
   "cell_type": "markdown",
   "id": "225eca3b",
   "metadata": {},
   "source": [
    "**TL;DR** Hi! We didn't know how long to make our doc but wanted to get as much feedback as possible so included everything here. We are more than happy to procide an abridged version. Essentially, we aquired data with a combination of webscraping and downloading from websites. Most of the data has some element of missingess as there are some gaps in years. We would fill this missingness by creating a linear regression on the data we have, and filling in our unknown data. We also needed to scale some of our data into the range 0-1. Finally, we proprocessed that data by making some categorical variables ordinal, others one-hot encoded, and finally putting all our individal data sets together (linking on year and state). Thank you for taking the time to read this!!"
   ]
  },
  {
   "cell_type": "markdown",
   "id": "87a6af71",
   "metadata": {},
   "source": [
    "### Response Variable"
   ]
  },
  {
   "cell_type": "markdown",
   "id": "b35ab7e9",
   "metadata": {},
   "source": [
    "Our response variable is **fertility rate by state over time** which can be found at https://www.cdc.gov/nchs/pressroom/sosmap/fertility_rate/fertility_rates.htm. \n",
    "\n",
    "We accessed it via download and saved it as `fertility_rate_census.csv`. \n",
    "\n",
    "Please note, fertility rate is defined as  **total number of births per 1,000 women aged 15-44** and our dataset looks at fertility rate for each of the 50 states over 9 years (2014-2022)."
   ]
  },
  {
   "cell_type": "markdown",
   "id": "b656d151",
   "metadata": {},
   "source": [
    "Things to Consider:\n",
    "\n",
    "**Missingness**: While there is no empty cell in the original dataset, we see if we pivot it by year, Washington DC only shows up in 2022. We can simply delete this row as Washington DC isn't technically a state. This is Missing at Random because we know the reason there was no Washington DC from 2014-2021 is that DC isn't considered a state\n",
    "\n",
    "**Imbalance**: Since we aren't looking at different classes there is no imbalance\n",
    "\n",
    "**Scaling**: By considering Fertility Rate (and not Number of Births), we are essentially normalizing our data as we are dividing it by total population. This will be enough in order to scale the data as it takes into account the populations of each state such that no state is overly weighed. In addition, since fertility rate is a response variable, not a predictor, we don't have to consider how large our data is in relation to other variables. Thus, we don't have to scale it any further.\n",
    "\n",
    "**Other**: We need to encode the state variable as categorical if it will be used in modeling by creating dummy variables or one-hot encoding. This issue will be true for all datasets!"
   ]
  },
  {
   "cell_type": "markdown",
   "id": "16b4bfa7",
   "metadata": {},
   "source": [
    "### Predictors\n",
    "_We used our previous knowledge and assumptions to create an **X** dataset of predictors that we believe may influence fertility rates_\n",
    "\n",
    "Because fertility rate is evaluated statewide , and states vary significantly in population size, we have decided that for all of the predictors, we are going to essentially **normalize** them by looking at the percentage of each state that fall into a specific category. "
   ]
  },
  {
   "cell_type": "markdown",
   "id": "a0005638",
   "metadata": {},
   "source": [
    "## CENSUS DATA"
   ]
  },
  {
   "cell_type": "markdown",
   "id": "6fa6b619",
   "metadata": {},
   "source": [
    "We began by collecting essential demographic data from the U.S. Census Bureau's website (https://www.census.gov) to analyze trends across the U.S. population. This data included indicators such as socioeconomic status, foreign-born populations, education levels, and racial demographics. We organized the data into separate data frames—`SPM_df`, `foreignborn_df`, `education_dfs`, and `race_dfs`—to facilitate efficient management and analysis.\n",
    "\n",
    "The **SPM (Supplemental Poverty Measure)** data, loaded from `SPM.csv`, provides a broad measure of poverty across states, capturing household income levels below the poverty line and accounting for both cash income and non-cash benefits. Although this data originates from the Census Bureau, we accessed it through Statista (https://www.statista.com/statistics/312701/percentage-of-population-foreign-born-in-the-us-by-state/), where it was already aggregated and prepared for analysis. Upon examination, we found no missing values, making it straightforward to integrate into our analysis without additional preprocessing. The structure, with a single column for each state’s poverty estimate, is simple and well-suited for analysis.\n",
    "\n",
    "The **foreign-born population dataset**, sourced directly from Census data in `foreignborn2022.csv`, records the percentage of foreign-born individuals by state for 2022. This dataset offers insights into immigration trends, which may impact fertility rates, and was found to be free from missing values. The data is cleanly structured with only two columns (`State` and `Percent`), making it ready for immediate use in analysis.\n",
    "\n",
    "The **education data** files, loaded from various `*education.csv` files, provide shares of educational attainment across different age groups, offering a nuanced view of educational levels within each state. Each file includes detailed demographic breakdowns with hierarchical labels representing educational categories, such as `Total`, `Percent`, and specific demographic groupings (like age, gender). When analyzing these files, we found a complex column structure and hierarchical labels, which will require additional preprocessing for effective analysis. Moreover, each state had some missing values across specific columns, likely due to unavailable data for certain demographic subgroups. These missing values will need to be handled through imputation or selective removal of columns with excessive gaps.\n",
    "\n",
    "Finally, the **race data** files, loaded from various `*race.csv` files, provide demographic breakdowns by race for each state. This dataset mirrors the structure of the education data, with hierarchical labels that represent various racial categories and demographic details. Similar to the education data, the race data was found to have missing values and a complex structure. The intricate labeling and demographic specificity will require careful preprocessing to flatten the hierarchical labels and manage missing values, ensuring consistency with other datasets."
   ]
  },
  {
   "cell_type": "markdown",
   "id": "072fb112",
   "metadata": {},
   "source": [
    "### SPM Dataset\n",
    "\n",
    "**Missingness**: The SPM data, sourced from `SPM.csv`, contains no missing values, making it easy to integrate into the analysis without any imputation. The completeness of this dataset ensures we can use it directly to assess the relationship between poverty levels and fertility rates across states.\n",
    "\n",
    "**Imbalance**: This dataset represents one measurement (poverty estimate) per state, so there are no categorical classes that could lead to imbalance. Each state has a single poverty estimate, meaning no particular state is over- or underrepresented in terms of poverty measurement.\n",
    "\n",
    "**Scaling**: The SPM dataset is already normalized, as it provides the percentage of households below the poverty line for each state. This percentage-based format allows us to make direct comparisons between states without additional scaling, as the data is inherently comparable across geographic areas.\n",
    "\n",
    "### Foreign-Born Population Dataset\n",
    "\n",
    "**Missingness**: The foreign-born population dataset, from `foreignborn2022.csv`, is also complete with no missing values. This allows for straightforward inclusion in the analysis, with no need for handling missing data.\n",
    "\n",
    "**Imbalance**: This dataset has no categorical classes and represents a single percentage (foreign-born population) per state. There is, therefore, no issue of imbalance in this dataset, as each state is equally represented with one percentage value.\n",
    "\n",
    "**Scaling**:  The data is already in percentage form, representing the share of foreign-born individuals in each state's population. This normalized format allows for direct comparison across states without further scaling, as each percentage reflects a relative measure rather than an absolute count.\n",
    "\n",
    "### Education Dataset\n",
    "\n",
    "**Missingness**: The education data files, loaded from `*education.csv`, contain missing values across some columns, particularly in specific demographic breakdowns within each state. This missingness appears sporadically, likely due to data limitations in certain subgroups or categories. Handling these missing values will require careful consideration, with options to either impute values based on related data points or exclude columns with excessive gaps.\n",
    "\n",
    "**Imbalance**:  \n",
    "Imbalance is not a significant concern for the education dataset, as each state is represented with comprehensive data on various age and educational attainment levels. The dataset does not rely on categorical classes that could lead to imbalance issues, and all states provide data across similar categories of educational attainment.\n",
    "\n",
    "**Scaling**:  \n",
    "Since the education data is provided by age group, we need to scale it by the population size of each age group within each state to ensure accuracy when comparing educational attainment percentages. Scaling by age group population will allow us to make accurate cross-state comparisons of educational attainment levels, as it controls for differences in the age distributions across states. This normalization will make the educational attainment percentages more representative and comparable in relation to each state's age demographics.\n",
    "\n",
    "### Race Dataset\n",
    "\n",
    "**Missingness**:  \n",
    "The race data files, loaded from `*race.csv`, exhibit some missing values, likely due to unavailable data for certain racial categories or demographic subgroups within states. Similar to the education dataset, we will need to address these missing values through imputation or by selectively excluding columns with significant gaps.\n",
    "\n",
    "**Imbalance**:  \n",
    "This dataset contains detailed racial breakdowns across states, with some racial categories potentially having fewer entries than others. If analyzing racial subgroups individually, imbalance may occur due to underrepresentation of smaller demographic groups in certain states, which could lead to biased interpretations. Grouping data by broader racial categories or considering population weights may help to mitigate this issue.\n",
    "\n",
    "**Scaling**:  \n",
    "The data is already in percentage form, representing the share of individuals of differet races in each state's population. "
   ]
  },
  {
   "cell_type": "markdown",
   "id": "4e3e521c",
   "metadata": {},
   "source": [
    "We also care about religion, political makeup, and whether certain abortion laws are in place (all of which are not in the census). We will find them different ways."
   ]
  },
  {
   "cell_type": "markdown",
   "id": "7006199e",
   "metadata": {},
   "source": [
    "## RELIGION DATA"
   ]
  },
  {
   "cell_type": "markdown",
   "id": "e576fc93",
   "metadata": {},
   "source": [
    "We decided to determine people's **religiousness** based off of a state's adherence rate (number of people who adhere to their religion across 1000 ) which can be found at (https://www.thearda.com/us-religion/maps/us-state-maps)\n",
    "\n",
    "We accessed it by webscraping and saved it in `religion_data.csv` in our data folder"
   ]
  },
  {
   "cell_type": "code",
   "execution_count": 29,
   "id": "60bf9ad3",
   "metadata": {},
   "outputs": [
    {
     "name": "stdout",
     "output_type": "stream",
     "text": [
      "['UT', 'ND', 'DC', 'SD', 'MA', 'RI', 'MN', 'OK', 'WI', 'NY', 'NE', 'LA', 'IA', 'NM', 'PA', 'CT', 'NJ', 'AR', 'TX', 'IL', 'AL', 'MS', 'KY', 'MO', 'TN', 'KS', 'ID', 'NH', 'SC', 'WY', 'CA', 'NC', 'OH', 'GA', 'MT', 'MD', 'IN', 'MI', 'VA', 'FL', 'DE', 'AZ', 'CO', 'VT', 'ME', 'HI', 'WV', 'AK', 'NV', 'WA', 'OR']\n",
      "51\n"
     ]
    },
    {
     "name": "stderr",
     "output_type": "stream",
     "text": [
      "/var/folders/y8/22y1cb995pg8pbgkn831zt8m0000gn/T/ipykernel_37196/4089814893.py:12: DeprecationWarning:\n",
      "\n",
      "The 'text' argument to find()-type methods is deprecated. Use 'string' instead.\n",
      "\n"
     ]
    }
   ],
   "source": [
    "url2020 = \"https://www.thearda.com/us-religion/maps/us-state-maps\"\n",
    "url2010 = \"https://www.thearda.com/us-religion/maps/us-state-maps?color=orange&m1=2_2_9999_2010\"\n",
    "url2000 = \"https://www.thearda.com/us-religion/maps/us-state-maps?color=orange&m1=2_2_9999_2000\"\n",
    "response = requests.get(url2000)\n",
    "soup = BeautifulSoup(response.content, 'html.parser')\n",
    "\n",
    "if response.status_code == 200:\n",
    "    soup = BeautifulSoup(response.content, 'html.parser')\n",
    "else:\n",
    "    print(f\"Failed to retrieve the webpage. Status code: {response.status_code}\")\n",
    "    \n",
    "script_tag = soup.find('script', text=re.compile(r'usa_map_div299992000_data = '))\n",
    "script_content = script_tag.string\n",
    "start_index = script_content.find('usa_map_div299992000_data =')\n",
    "semicolon_index = script_content.find(';', start_index)\n",
    "mapData = script_content[start_index:semicolon_index]\n",
    "\n",
    "quoted_strings = re.findall(r'\"(.*?)\"', mapData)\n",
    "values_strings = re.findall(r'(\\d+\\.\\d+)', mapData)\n",
    "years_to_append = []\n",
    "for i in range(len(values_strings)):\n",
    "    years_to_append.append(2000)\n",
    "\n",
    "last_two_chars = [s[-2:] for s in quoted_strings]\n",
    "print(last_two_chars)\n",
    "print(len(values_strings))\n",
    "\n",
    "file_paths = [\n",
    "    'data/AllReligionAdherence_2000.csv',\n",
    "    'data/AllReligionAdherence_2010.csv',\n",
    "    'data/AllReligionAdherence_2020.csv'\n",
    "]\n",
    "\n",
    "dfs = []\n",
    "\n",
    "for file_path in file_paths:\n",
    "    file_name = os.path.basename(file_path)\n",
    "    years_found = file_name.split('_')[-1].split('.')[0]\n",
    "    df = pd.read_csv(file_path)\n",
    "    df['Year'] = years_found\n",
    "    dfs.append(df)\n",
    "\n",
    "combined_df = pd.concat(dfs, ignore_index=True)"
   ]
  },
  {
   "cell_type": "markdown",
   "id": "c0ff1449",
   "metadata": {},
   "source": [
    "Things to Consider:\n",
    "\n",
    "**Missingness**: After webscraping ARDA, there are no missing values in any cells, but definitely in the number of years (153 vs 451 above). This is because this index is only calculated every 10 years (2000, 2010, 2020). We have to decide how we want to impute this data. One option is to create a line going through the 2000, 2010, and 2020 datapoints, and then impute the data that would sit on this line for 2011-2019 and 2021-2022. \n",
    "\n",
    "**Imbalance**: Although the actual number of state datapoints are equal and fine, the source of the imbalance stems from which religions do these data sets stem from. All the main categories listed on the Association of Religious Digital Archives are branches of Christianity. I have no idea if these are actually the most popular religions in the US or is the source biased towards it.\n",
    "\n",
    "**Scaling**: Since adherence rates range widely (e.g., from 272.19 to 791.06), standardizing or normalizing values might be beneficial, particularly if this data will be used for machine learning or statistical modeling. Standardization (e.g., Z-score) could be applied if you want each adherence rate centered around zero, while min-max normalization scales values between a range like [0, 1]."
   ]
  },
  {
   "cell_type": "markdown",
   "id": "d7b77098",
   "metadata": {},
   "source": [
    "## POLITICS DATA"
   ]
  },
  {
   "cell_type": "markdown",
   "id": "762ce4a9",
   "metadata": {},
   "source": [
    "We decided to determine people's political orienation based off of the Cook Partisan Voting Index (Cook PVI), which is a measure of each state's political leaning relative to the nation as a whole.\n",
    "\n",
    "The primary challenge with using this index is that the methodology was switched in 2022 to weigh the last presidential election 0.75 and the second to last 0.25, as opposed to the even (50/50) weighting of both years that was used in prior years. We will either figure out how to reweight the outcomes based on the raw data if we can get it or exclude 2022 from our analysis.\n",
    "\n",
    "The calculation of the index is described in more detail here: https://www.cookpolitical.com/cook-pvi"
   ]
  },
  {
   "cell_type": "markdown",
   "id": "0ed61383",
   "metadata": {},
   "source": [
    "**Missingness and imbalance**: None in the dataset \n",
    "\n",
    "**Scaling:** We will follow a similar methodology to that used in \"State-level Political Partisanship Strongly Correlates with Health Outcomes for US Children,\" (full citation below).* We converted the PVI's to numerical values, with negative values representing Democratic PVIs and positive numbers representing Republican ones (an arbitrary choice). Then, we scaled those values with sklearn's MinMaxScaler() so that states have a rating between 0 and 1 representing how conservative they are, with 1 being most conservatve and 0 being most liberal.\n",
    "\n",
    "We accessed the data for 2022 from this source: https://datawrapper.dwcdn.net/0djXs/2/ and saved it in cook_pvi_2022.csv in our data folder. We tried scraping the website but the data is not in the html but instead pulled from a source so we were unable to access the data using the same strategy as HW 1.\n",
    "\n",
    "The 2022 data is saved in `data/cook_pvi_2022.csv.`\n",
    "\n",
    "*Paul, M., Zhang, R., Liu, B. et al. State-level political partisanship strongly correlates with health outcomes for US children. Eur J Pediatr 181, 273–280 (2022). https://doi.org/10.1007/s00431-021-04203-y"
   ]
  },
  {
   "cell_type": "markdown",
   "id": "eff0a8dc",
   "metadata": {},
   "source": [
    "## ABORTION DATA"
   ]
  },
  {
   "cell_type": "markdown",
   "id": "4a98418d",
   "metadata": {},
   "source": [
    "We decided to determine state's **abortion laws** based off of how late into pregnancy, abortion is legally allowed which can be found at https://lawatlas.org/datasets/abortion-bans. We chose this dataset because it is the only one on the internet showing abortion bans in the 2014-2022 time frame and how they change (most just show abortion bans now)\n",
    "\n",
    "We accessed it by downloading it, converting from xlsx to csv, and saved it in `abortion_data.csv` in our data folder\n",
    "\n",
    "The main thing to consider is that **just because abortion is legal, doesn't mean it is accessible**. Many states may technically allow abortion but only have one clinic, so its not attainable. That said, we have chosen this metric (when is abortion legal), to coincide with current political debate about whether abortion should be legalized. \n",
    "\n",
    "There will be significant preprocessing required as the data is in format `Effective Date`, `Valid Through Date` for each law which must simply be converted into year (whichever law was the majority of the year), and each ban `6 weeks`, `8 weeks` etc is categorical! It would make more sense to simply make a variable listing the latest week aborition is legal (0,6,8,12,52 etc).  "
   ]
  },
  {
   "cell_type": "markdown",
   "id": "8de58eb7",
   "metadata": {},
   "source": [
    "Things to Consider:\n",
    "\n",
    "**Missingness**: We see while there are no null cells in our dataset, there are 113 \"missing cells\" from what would be expected (one for every state for every year). This is simply because of how our dataset was made -- there is only a new row if a new law is enacted (not one per year). Thus, if we are missing a row for a certain year, we can simply **impute** the data by copying the previous row. \n",
    "\n",
    "**Imbalance**: There is no imbalance as there is no population sampling. \n",
    "\n",
    "**Scaling**: We don't need to scale the data by itself but might scale data as a whole later so they don't have stds that are too high. \n",
    "\n",
    "**Other**: We decided to change our data from a 1-hot encoded dataset, to 1 quantitative varaible. We did this because there seems to be a clear relatonship between the previously encoded categories (a 10 week ban is stronger than a 15 week ban and less strong than a 4 week ban). Thus, we made it ordinal. In additon, note that if there was no abortion ban, we arbitrarily set this ordinal variable to 40, the length of the average pregancy. It might make some sense to add an **indicator variable** to be 0 if there is no abortion ban at all (40 weeks) and 1 if there is an abortion ban. "
   ]
  },
  {
   "cell_type": "markdown",
   "id": "9d87cb5b",
   "metadata": {},
   "source": [
    "Some issues we preliminary have considered before even inspecting the data includes:\n",
    "\n",
    "\n",
    "- **under reporting immigration status**: via google, people tend to underreport whether they are immigrants. This is potentially a missingness issue\n",
    "\n",
    "-  **multicollinearity**: There is most likely a relationship between racial background / household income and an individual's birth country (immigration status) so we can't use both as predictors in the same equation. We don't know how strong this correlation will be so are not worried yet, but would love to talk about it with a TF\n",
    "\n",
    "- **is this just too much data??**: looking at each of these attributes for each state for each year may just be too many dimensions. Is there really a big difference accross years? Should we just look at 1? If so, which? "
   ]
  },
  {
   "cell_type": "markdown",
   "id": "735b1745",
   "metadata": {},
   "source": [
    "Now we are going to import and inspect each dataset, looking for missingness, imbalance, and scaling issues!"
   ]
  },
  {
   "cell_type": "markdown",
   "id": "dcef9b79",
   "metadata": {},
   "source": [
    "## 3. Preprocessing Desc\n",
    "\n"
   ]
  },
  {
   "cell_type": "markdown",
   "id": "616e8d54",
   "metadata": {},
   "source": [
    "One of our biggest considerations is that our predictor variables, X, is essentially 3d (reshaped), not 2d. We are looking at a bunch of predictors **over state** and **over time**. This might make our predictions complicated, especially because we are trying to see **why** fertility is changing over time (so the reason that there are less babies in 2022 can't simply be that it is 2022). Thus, it might make more sense to choose only **one year** to regress on. Also, it may be hard to **visualize** multiple years and states simultaniously as, for example, if we drew a map and colored each state by predictor category, we would have to choose one specific time to do so (and vice versa).  PLEASE LET US KNOW WHAT YOU THINK!"
   ]
  },
  {
   "cell_type": "markdown",
   "id": "1a0aff50",
   "metadata": {},
   "source": [
    "It also may make sense to just try to minimize predictors in general as we don't want to get too specific!"
   ]
  },
  {
   "cell_type": "markdown",
   "id": "3b047880",
   "metadata": {},
   "source": [
    "### This is how we envision generally preprocessing..."
   ]
  },
  {
   "cell_type": "markdown",
   "id": "0171592b",
   "metadata": {},
   "source": [
    "As you can see, we generally started preprocessign above. For example, we changed abortion laws from categorical variables into an orderinal variable. In addition, as seen below, we standardized the poltical data by scaling it between 0 and 1. "
   ]
  },
  {
   "cell_type": "markdown",
   "id": "bac5c084",
   "metadata": {},
   "source": [
    "Below is the preprocessing for political data. We scale the Cook PVI scores to be on a scale of 0 to 1, where 1 is most conservative and 0 is least conservative. We drop DC because it is not a state. There is no missingness in this dataset."
   ]
  },
  {
   "cell_type": "markdown",
   "id": "ba52a21a",
   "metadata": {},
   "source": [
    "To prepare the education dataset for analysis, we began by iterating through each *education.csv file. We extracted the year from each file name to ensure we could track data across different time periods. Within each file, we removed the rows labeled \"Population 25 years and over\" along with the following nine rows, as they did not provide useful information for our analysis. We then isolated columns relevant to our study, retaining only the primary label column and columns ending with \"!!Percent Females!!Estimate,\" which represent the estimated educational attainment percentages for females in each state.\n",
    "\n",
    "For each age group (e.g., \"Population 18 to 24 years\"), we calculated weighted values for educational attainment percentages based on the total population for that group. This scaling ensures that educational attainment percentages are accurately reflected relative to each age group’s size, enabling meaningful comparisons across states. After processing each file, we created a consolidated data frame containing columns for Label, Year, State, Female Estimate (weighted educational attainment percentage), and Population. Finally, we dropped rows where \"Female Estimate\" values were missing, resulting in a cleaned and structured education_df ready for analysis.\n",
    "\n",
    "For the race dataset, we followed a similar iterative approach, processing each *race.csv file individually and extracting the year from each file name. Each file was loaded while skipping the first two lines to focus only on relevant data, and we added a Year column to track temporal changes. To simplify the dataset, we removed columns representing less relevant racial categories (such as “American Indian or Alaska Native,” “Native Hawaiian or Pacific Islander”) and redundant summary columns (like “Total” and “Footnotes”). We also excluded rows containing data for \"United States\" as an aggregate, ensuring that only state-level data remained. Finally, we dropped any rows where \"White\" values were missing, creating a clean and consistent structure across files. The processed race data frames were combined into a single race_df for use in further analysis.\n",
    "\n",
    "These steps produced two organized, cleaned data frames, education_df and race_df, each containing essential demographic details by year and state. The education data is now scaled appropriately by age group population, and both datasets are free of unnecessary or missing values, allowing for more accurate analysis of the relationships between education, race, and fertility rates across states."
   ]
  },
  {
   "cell_type": "markdown",
   "id": "b2e68086",
   "metadata": {},
   "source": [
    "We will also **impute/delete missingness** as described in each section above. This is especially relevent when we are missing certain years.\n",
    "Finally, we will combine all our data into one DF and **make the state variable categorical.**"
   ]
  },
  {
   "cell_type": "markdown",
   "id": "885408a2",
   "metadata": {},
   "source": [
    "# Milestone 3: EDA"
   ]
  },
  {
   "cell_type": "markdown",
   "id": "0fe03f89",
   "metadata": {},
   "source": [
    "## First off, we impute all our misising data and reshape it"
   ]
  },
  {
   "cell_type": "markdown",
   "id": "f0fa6aeb",
   "metadata": {},
   "source": [
    "We started off by imputing/cleaning the data as described above. Our goal is to have 450 rows per data frame (50 states, 9 years from 2014-2022) and them to combine them along state and year axes. "
   ]
  },
  {
   "cell_type": "markdown",
   "id": "35f16670",
   "metadata": {},
   "source": [
    "### Universal Variables"
   ]
  },
  {
   "cell_type": "code",
   "execution_count": 30,
   "id": "1ca32655",
   "metadata": {},
   "outputs": [],
   "source": [
    "states = [\n",
    "    'Alabama', 'Alaska', 'Arizona', 'Arkansas', 'California', 'Colorado', 'Connecticut', \n",
    "    'Delaware', 'Florida', 'Georgia', 'Hawaii', 'Idaho', 'Illinois', 'Indiana', 'Iowa', \n",
    "    'Kansas', 'Kentucky', 'Louisiana', 'Maine', 'Maryland', 'Massachusetts', 'Michigan', \n",
    "    'Minnesota', 'Mississippi', 'Missouri', 'Montana', 'Nebraska', 'Nevada', 'New Hampshire', \n",
    "    'New Jersey', 'New Mexico', 'New York', 'North Carolina', 'North Dakota', 'Ohio', \n",
    "    'Oklahoma', 'Oregon', 'Pennsylvania', 'Rhode Island', 'South Carolina', 'South Dakota', \n",
    "    'Tennessee', 'Texas', 'Utah', 'Vermont', 'Virginia', 'Washington', 'West Virginia', \n",
    "    'Wisconsin', 'Wyoming'\n",
    "]\n",
    "state_abbrev_to_name = {\n",
    "    'AL': 'Alabama', 'AK': 'Alaska', 'AZ': 'Arizona', 'AR': 'Arkansas', 'CA': 'California',\n",
    "    'CO': 'Colorado', 'CT': 'Connecticut', 'DE': 'Delaware', 'FL': 'Florida', 'GA': 'Georgia',\n",
    "    'HI': 'Hawaii', 'ID': 'Idaho', 'IL': 'Illinois', 'IN': 'Indiana', 'IA': 'Iowa',\n",
    "    'KS': 'Kansas', 'KY': 'Kentucky', 'LA': 'Louisiana', 'ME': 'Maine', 'MD': 'Maryland',\n",
    "    'MA': 'Massachusetts', 'MI': 'Michigan', 'MN': 'Minnesota', 'MS': 'Mississippi', 'MO': 'Missouri',\n",
    "    'MT': 'Montana', 'NE': 'Nebraska', 'NV': 'Nevada', 'NH': 'New Hampshire', 'NJ': 'New Jersey',\n",
    "    'NM': 'New Mexico', 'NY': 'New York', 'NC': 'North Carolina', 'ND': 'North Dakota', 'OH': 'Ohio',\n",
    "    'OK': 'Oklahoma', 'OR': 'Oregon', 'PA': 'Pennsylvania', 'RI': 'Rhode Island', 'SC': 'South Carolina',\n",
    "    'SD': 'South Dakota', 'TN': 'Tennessee', 'TX': 'Texas', 'UT': 'Utah', 'VT': 'Vermont',\n",
    "    'VA': 'Virginia', 'WA': 'Washington', 'WV': 'West Virginia', 'WI': 'Wisconsin', 'WY': 'Wyoming'\n",
    "}\n",
    "law_to_week = {\n",
    "    \"State\": \"State\",\n",
    "    \"Effective Date\": \"start\",\n",
    "    \"Valid Through Date\": \"end\",\n",
    "    \"Bans_gest_4 weeks postfertilization (6 weeks LMP) \": \"4\",\n",
    "    \"Bans_gest_6 weeks postfertilization (8 weeks LMP) \": \"6\",\n",
    "    \"Bans_gest_8 weeks postfertilization (10 weeks LMP)\": \"8\",\n",
    "    \"Bans_gest_10 weeks postfertilization (12 weeks LMP) \": \"10\",\n",
    "    \"Bans_gest_12 weeks postfertilization (14 weeks LMP)\": \"12\",\n",
    "    \"Bans_gest_13 weeks postfertilization (15 weeks LMP)\": \"13\",\n",
    "    \"Bans_gest_16 weeks postfertilization (18 weeks LMP) \": \"16\",\n",
    "    \"Bans_gest_18 weeks postfertilization (20 weeks LMP)\": \"18\",\n",
    "    \"Bans_gest_19 weeks postfertilization (21 weeks LMP)\": \"19\",\n",
    "    \"Bans_gest20 weeks postfertilization (22 weeks LMP)\": \"20\",\n",
    "    \"Bans_gest_21 weeks postfertilization (23 weeks LMP) \": \"21\",\n",
    "    \"Bans_gest_22 weeks postfertilization (24 weeks LMP)\": \"22\",\n",
    "    \"Bans_gest_24 weeks postfertilization (26 weeks LMP)\": \"24\",\n",
    "    \"Bans_gestViability\": \"24\", #chose via google\n",
    "    \"Bans_gest_Fetus is capable of feeling pain\": \"25\", #chose via google\n",
    "    \"Bans_gest_3rd trimester\": \"28\" #chose via google\n",
    "}\n",
    "\n",
    "years = list(range(2014, 2023))"
   ]
  },
  {
   "cell_type": "markdown",
   "id": "f05e2138",
   "metadata": {},
   "source": [
    "### Census Data Preprocessing"
   ]
  },
  {
   "cell_type": "markdown",
   "id": "7b8783f4",
   "metadata": {},
   "source": [
    "Isabella -- please describe what you did!"
   ]
  },
  {
   "cell_type": "markdown",
   "id": "b7fd3449",
   "metadata": {},
   "source": [
    "#### Load Files:"
   ]
  },
  {
   "cell_type": "code",
   "execution_count": 31,
   "id": "9e67fb0c",
   "metadata": {},
   "outputs": [],
   "source": [
    "# Function to load files matching a pattern\n",
    "def load_data_files(file_pattern, description):\n",
    "    files = glob.glob(file_pattern)\n",
    "    data_frames = {}\n",
    "    \n",
    "    for file in files:\n",
    "        try:\n",
    "            # Try loading with comma separator\n",
    "            df = pd.read_csv(file, sep=',', on_bad_lines='skip')\n",
    "            data_frames[file] = df\n",
    "        except pd.errors.ParserError:\n",
    "            df = pd.read_csv(file, sep='\\t', on_bad_lines='skip')\n",
    "            data_frames[file] = df\n",
    "\n",
    "    \n",
    "    return data_frames"
   ]
  },
  {
   "cell_type": "markdown",
   "id": "459858ff",
   "metadata": {},
   "source": [
    "#### Impute race"
   ]
  },
  {
   "cell_type": "code",
   "execution_count": 32,
   "id": "28d7da8c",
   "metadata": {},
   "outputs": [],
   "source": [
    "if not os.path.exists('processed_data/race_state_year.csv'):\n",
    "\n",
    "    race_dfs = load_data_files(\"data/*race.csv\", \"Race\")\n",
    "\n",
    "    df_list = []\n",
    "\n",
    "    # Process each race file\n",
    "    for file_path in race_dfs:\n",
    "        # Get the year\n",
    "        year_to_choose = file_path.split('/')[-1].split('race')[0]\n",
    "        \n",
    "        try:\n",
    "            # Load the CSV\n",
    "            df = pd.read_csv(file_path, skiprows=2, delimiter=',')\n",
    "            \n",
    "            # Add the year\n",
    "            df['Year'] = year_to_choose\n",
    "            \n",
    "            # Drop columns\n",
    "            columns_to_drop = ['American Indian or Alaska Native', 'Native Hawaiian or Pacific Islander', 'Total', 'Footnotes']\n",
    "            df = df.loc[:, ~df.columns.str.contains('|'.join(columns_to_drop), na=False)]\n",
    "            \n",
    "            # Remove rows with \"United States\" \n",
    "            df = df[~df.iloc[:, 0].str.strip().str.lower().eq(\"united states\")]\n",
    "            \n",
    "            # Remove rows where \"White\" is NaN\n",
    "            df = df.dropna(subset=[\"White\"])\n",
    "            \n",
    "            # Append\n",
    "            df_list.append(df)\n",
    "        \n",
    "        except pd.errors.ParserError:\n",
    "            print(f\"Could not parse {file_path}. Skipping this file.\")\n",
    "        except Exception as e:\n",
    "            print(f\"An error occurred with file {file_path}: {e}\")\n",
    "\n",
    "    # Concatenate\n",
    "    race_df = pd.concat(df_list, ignore_index=True)\n",
    "\n",
    "    # Define demographic columns\n",
    "    demographic_columns = [\"White\", \"Black\", \"Hispanic\", \"Asian\", \"Multiple Races\"]\n",
    "\n",
    "    # Create a DF with combinations of years and states\n",
    "    all_combinations = pd.DataFrame([(year, state) for year in years for state in states], columns=['Year', 'Location'])\n",
    "\n",
    "    all_combinations['Year'] = all_combinations['Year'].astype(int)\n",
    "    race_df['Year'] = race_df['Year'].astype(int)\n",
    "\n",
    "    # Merge all_combinations\n",
    "    race_df_full = all_combinations.merge(race_df, on=['Year', 'Location'], how='left')\n",
    "\n",
    "    # Convert to numeric\n",
    "    for col in demographic_columns:\n",
    "        race_df_full[col] = pd.to_numeric(race_df_full[col], errors='coerce')\n",
    "\n",
    "    # Impute function\n",
    "    def impute_multiple_columns(row, df, columns):\n",
    "        for col in columns:\n",
    "            if pd.notnull(row[col]):\n",
    "                continue \n",
    "\n",
    "            prev_year_value = df[(df['Location'] == row['Location']) & (df['Year'] == row['Year'] - 1)][col].values\n",
    "            next_year_value = df[(df['Location'] == row['Location']) & (df['Year'] == row['Year'] + 1)][col].values\n",
    "            if prev_year_value.size > 0 and next_year_value.size > 0:\n",
    "                row[col] = (prev_year_value[0] + next_year_value[0]) / 2\n",
    "            elif prev_year_value.size > 0:\n",
    "                row[col] = prev_year_value[0]\n",
    "            elif next_year_value.size > 0:\n",
    "                row[col] = next_year_value[0]\n",
    "        return row\n",
    "\n",
    "    # Impute\n",
    "    race_df_full = race_df_full.apply(impute_multiple_columns, axis=1, df=race_df_full, columns=demographic_columns)\n",
    "\n",
    "    # Drop rows\n",
    "    race_df_full.dropna(subset=demographic_columns, inplace=True)\n",
    "\n",
    "    # Fix montana\n",
    "    missing_years = [2015, 2016, 2017, 2018]\n",
    "\n",
    "    if not race_df_full[(race_df_full['Year'] == 2014) & (race_df_full['Location'] == 'Montana')].empty and \\\n",
    "    not race_df_full[(race_df_full['Year'] == 2019) & (race_df_full['Location'] == 'Montana')].empty:\n",
    "\n",
    "        montana_data_2014 = race_df_full[(race_df_full['Year'] == 2014) & (race_df_full['Location'] == 'Montana')].iloc[0]\n",
    "        montana_data_2019 = race_df_full[(race_df_full['Year'] == 2019) & (race_df_full['Location'] == 'Montana')].iloc[0]\n",
    "\n",
    "        montana_missing_rows = pd.DataFrame({'Year': missing_years, 'Location': 'Montana'})\n",
    "        for col in demographic_columns:\n",
    "            if col in montana_data_2014 and col in montana_data_2019:\n",
    "                avg_value = (montana_data_2014[col] + montana_data_2019[col]) / 2\n",
    "                montana_missing_rows[col] = avg_value\n",
    "            else:\n",
    "                montana_missing_rows[col] = np.nan  # Handle missing columns gracefully\n",
    "\n",
    "        race_state_year = pd.concat([race_df_full, montana_missing_rows], ignore_index=True)\n",
    "\n",
    "    # Reset the index \n",
    "    race_state_year.reset_index(drop=True, inplace=True)\n",
    "    race_state_year.rename(columns={'Location': 'State', 'White': 'percent_white', 'Black': 'percent_black', 'Hispanic': 'percent_hispanic', 'Asian':'percent_asian', 'Multiple Races': 'percent_mixed_race'}, inplace=True)\n",
    "    race_state_year.to_csv('processed_data/race_state_year.csv', index=False)"
   ]
  },
  {
   "cell_type": "markdown",
   "id": "6e3b812a",
   "metadata": {},
   "source": [
    "#### Impute education"
   ]
  },
  {
   "cell_type": "code",
   "execution_count": 33,
   "id": "a9a0a141",
   "metadata": {},
   "outputs": [],
   "source": [
    "if not os.path.exists('processed_data/education_state_year.csv'):\n",
    "    \n",
    "    # Load education data \n",
    "    education_dfs = load_data_files(\"data/*education.csv\", \"Education\")\n",
    "\n",
    "    df_list = []\n",
    "\n",
    "    # Process each education file\n",
    "    for file in education_dfs:\n",
    "        # Get year from the file name\n",
    "        year = file.split('/')[-1][:4]\n",
    "\n",
    "        # Load CSV file\n",
    "        df = pd.read_csv(file)\n",
    "\n",
    "        # Drop \"Population 25 years and over\" and the nine rows following it\n",
    "        pop_25_index = df[df.iloc[:, 0] == \"Population 25 years and over\"].index\n",
    "        if not pop_25_index.empty:\n",
    "            df = df.drop(index=range(pop_25_index[0], pop_25_index[0] + 10)).reset_index(drop=True)\n",
    "\n",
    "        # Keep only the first column (label) and columns ending with \"!!Percent Females!!Estimate\"\n",
    "        label_column = df.columns[0]\n",
    "        columns_to_keep = [label_column] + [col for col in df.columns if col.endswith(\"!!Percent Females!!Estimate\")]\n",
    "        df = df[columns_to_keep]\n",
    "\n",
    "        # Process each age group section to calculate weighted averages\n",
    "        selected_data = []\n",
    "        current_population = None\n",
    "        total_population = 0 \n",
    "        for index, row in df.iterrows():\n",
    "            label = row[label_column]\n",
    "\n",
    "            # Check if row is a population group \n",
    "            if \"Population\" in label:\n",
    "                # Get population number and set as title\n",
    "                try:\n",
    "                    total_population = int(label.split()[1]) if label.split()[1].isdigit() else None\n",
    "                except ValueError:\n",
    "                    total_population = None\n",
    "                current_population = total_population \n",
    "            elif current_population and \"Percent\" not in label:\n",
    "                # Calculate weighted value for educational attainment percentages based on the total population\n",
    "                for col in df.columns[1:]:  # Exclude the label column\n",
    "                    state = col.split(\"!!\")[0]\n",
    "                    percent_str = row[col]\n",
    "                    try:\n",
    "                        percent = float(str(percent_str).replace(\"%\", \"\").strip()) if percent_str else None\n",
    "                    except ValueError:\n",
    "                        percent = None  # Set as None if conversion fails\n",
    "\n",
    "                    if percent is not None:\n",
    "                        scaled_value = (percent / 100)\n",
    "                    else:\n",
    "                        scaled_value = None\n",
    "\n",
    "                    # Append the result\n",
    "                    selected_data.append({\n",
    "                        \"Label\": label,\n",
    "                        \"Year\": year,\n",
    "                        \"State\": state,\n",
    "                        \"Female Estimate\": scaled_value,\n",
    "                        \"Population\": total_population\n",
    "                    })\n",
    "\n",
    "        # Append to df_list\n",
    "        temp_df = pd.DataFrame(selected_data)\n",
    "        df_list.append(temp_df)\n",
    "\n",
    "    # Combine all data frames\n",
    "    education_df = pd.concat(df_list, ignore_index=True)\n",
    "\n",
    "    # Drop rows with NaN in \"Female Estimate\" column\n",
    "    education_df.dropna(subset=[\"Female Estimate\"], inplace=True)\n",
    "\n",
    "    # Filter the dataset to only include Population values 18, 25, or 35\n",
    "    education_df_filtered = education_df[education_df['Population'].isin([18, 25, 35])]\n",
    "\n",
    "    # Set year and state columns\n",
    "    education_df_filtered['year'] = education_df_filtered['Year']\n",
    "    education_df_filtered['state'] = education_df_filtered['State']\n",
    "\n",
    "    # Pivot the data\n",
    "    education_pivoted = education_df_filtered.pivot_table(\n",
    "        index=[\"year\", \"state\"],\n",
    "        columns=\"Label\",\n",
    "        values=\"Female Estimate\",\n",
    "        aggfunc='first'\n",
    "    )\n",
    "\n",
    "    # Reset the index\n",
    "    education_pivoted.reset_index(inplace=True)\n",
    "\n",
    "    # Create all year-state combinations\n",
    "    all_combinations = pd.DataFrame([(year, state) for year in years for state in states], columns=['year', 'state'])\n",
    "\n",
    "    # Merge\n",
    "    all_combinations['year'] = all_combinations['year'].astype(int)\n",
    "    education_pivoted['year'] = education_pivoted['year'].astype(int)\n",
    "    education_state_year = all_combinations.merge(education_pivoted, on=['year', 'state'], how='left')\n",
    "\n",
    "    # Select only the year, state, and relevant columns by index\n",
    "    # Columns: year, state, \"Bachelor's degree or higher\", \"High school graduate or higher\"\n",
    "    education_state_year = education_state_year.iloc[:, [0, 1, 2, 3]]\n",
    "\n",
    "    # Calculate additional columns based on index\n",
    "    # 3rd column is \"Bachelor's degree or higher\" and the 4th is \"High school graduate or higher\"\n",
    "    education_state_year['Less than high school'] = 1 - education_state_year.iloc[:, 3]\n",
    "    education_state_year['High school or some college'] = education_state_year.iloc[:, 3] - education_state_year.iloc[:, 2]\n",
    "\n",
    "    # Define imputation function\n",
    "    def impute_column(df, column):\n",
    "        for i, row in df.iterrows():\n",
    "            if pd.isnull(row[column]):\n",
    "                state, year = row['state'], row['year']\n",
    "                prev_years = df[(df['state'] == state) & (df['year'] < year)][['year', column]].dropna().sort_values('year', ascending=False)\n",
    "                next_years = df[(df['state'] == state) & (df['year'] > year)][['year', column]].dropna().sort_values('year', ascending=True)\n",
    "                prev_value = prev_years[column].values[0] if not prev_years.empty else None\n",
    "                next_value = next_years[column].values[0] if not next_years.empty else None\n",
    "                if prev_value is not None and next_value is not None:\n",
    "                    df.at[i, column] = (prev_value + next_value) / 2\n",
    "                elif prev_value is not None:\n",
    "                    df.at[i, column] = prev_value\n",
    "                elif next_value is not None:\n",
    "                    df.at[i, column] = next_value\n",
    "\n",
    "    # Apply imputation to the relevant columns (by position)\n",
    "    columns_to_impute = education_state_year.columns[2:]  # Impute from the 3rd column onward\n",
    "    for column in columns_to_impute:\n",
    "        impute_column(education_state_year, column)\n",
    "\n",
    "    # Drop any rows with remaining NaN values and reset index\n",
    "    education_state_year.dropna(inplace=True)\n",
    "    education_state_year.reset_index(drop=True, inplace=True)\n",
    "    education_state_year.drop(education_state_year.columns[3], axis=1, inplace=True)\n",
    "    education_state_year = education_state_year.rename(columns={'year': 'Year', 'state': 'State', 'Less than high school': 'percent_less_than_high_school', 'High school or some college': 'percent_high_school_or_some_college', \"\\xa0\\xa0\\xa0\\xa0Bachelor's degree or higher\": \"percent_bachelors_or_higher\"})\n",
    "    education_state_year.to_csv('processed_data/education_state_year.csv', index=False)\n"
   ]
  },
  {
   "cell_type": "markdown",
   "id": "540d1af0",
   "metadata": {},
   "source": [
    "#### Impute SPM"
   ]
  },
  {
   "cell_type": "code",
   "execution_count": 34,
   "id": "5ca1a833",
   "metadata": {},
   "outputs": [],
   "source": [
    "if not os.path.exists('processed_data/spm_state_year.csv'):\n",
    "\n",
    "    SPM_df = pd.read_csv('data/SPM.csv')\n",
    "\n",
    "    # Rename columns to lowercase\n",
    "    SPM_df = SPM_df.rename(columns={\n",
    "        \"Year\": \"year\",\n",
    "        \"States\": \"state\",\n",
    "        \"Estimate\": \"estimate\"\n",
    "    })\n",
    "\n",
    "    # Filter for states and years\n",
    "    SPM_df = SPM_df[(SPM_df['state'].isin(states)) & (SPM_df['year'].between(2014, 2022))]\n",
    "\n",
    "    # Convert 'estimate' column to numeric\n",
    "    SPM_df['estimate'] = pd.to_numeric(SPM_df['estimate'], errors='coerce')\n",
    "\n",
    "    # Find missing rows for 2020\n",
    "    states_missing_2020 = set(SPM_df[SPM_df['year'] == 2020]['state'])\n",
    "    states_all = set(SPM_df['state'].unique())\n",
    "    missing_states_2020 = states_all - states_missing_2020\n",
    "\n",
    "    imputed_rows = []\n",
    "\n",
    "    for state in missing_states_2020:\n",
    "        # Get the estimate values for 2019 and 2021\n",
    "        estimate_2019 = SPM_df[(SPM_df['state'] == state) & (SPM_df['year'] == 2019)]['estimate'].values\n",
    "        estimate_2021 = SPM_df[(SPM_df['state'] == state) & (SPM_df['year'] == 2021)]['estimate'].values\n",
    "        \n",
    "        # Calculate the average for 2020\n",
    "        if estimate_2019.size > 0 and estimate_2021.size > 0:\n",
    "            estimate_2020 = (estimate_2019[0] + estimate_2021[0]) / 2\n",
    "            imputed_rows.append({'year': 2020, 'state': state, 'estimate': estimate_2020})\n",
    "\n",
    "    # Imputed DF\n",
    "    imputed_df = pd.DataFrame(imputed_rows)\n",
    "    spm_state_year = pd.concat([SPM_df, imputed_df], ignore_index=True)\n",
    "    spm_state_year = spm_state_year.rename(columns={'year': 'Year', 'state': 'State', 'estimate': 'poverty_measure'})\n",
    "    spm_state_year.to_csv('processed_data/spm_state_year.csv', index=False)\n"
   ]
  },
  {
   "cell_type": "markdown",
   "id": "017d7e0e",
   "metadata": {},
   "source": [
    "#### Impute foreign born"
   ]
  },
  {
   "cell_type": "code",
   "execution_count": 35,
   "id": "580a3c11",
   "metadata": {},
   "outputs": [],
   "source": [
    "if not os.path.exists('processed_data/foreignborn_state_year.csv'):\n",
    "\n",
    "        # Load foreign-born data and display structure\n",
    "    foreignborn_df = pd.read_csv('data/foreignborn.csv', header=None)\n",
    "    foreignborn_df.columns = foreignborn_df.iloc[0]  # Set the header to the first row\n",
    "    foreignborn_df = foreignborn_df.drop(0)  # Drop the first row as it is now the header\n",
    "    foreignborn_df.reset_index(drop=True, inplace=True)  # Reset the index if needed\n",
    "\n",
    "    # Rename columns \n",
    "    foreignborn_df = foreignborn_df.rename(columns={ \"State\": \"state\"})\n",
    "    foreignborn_df.columns.values[1] = \"2022\"\n",
    "    foreignborn_df.columns.values[2] = \"2010\"\n",
    "\n",
    "    # Reshape \n",
    "    foreignborn_df_long = pd.melt(\n",
    "        foreignborn_df, \n",
    "        id_vars=[\"state\"],\n",
    "        value_vars=[\"2022\", \"2010\"],\n",
    "        var_name=\"year\",\n",
    "        value_name=\"foreignborn\"\n",
    "    )\n",
    "\n",
    "    # Convert year to integer\n",
    "    foreignborn_df_long['year'] = foreignborn_df_long['year'].astype(int)\n",
    "\n",
    "    # Create a DataFrame with all combinations of state and year\n",
    "    years_to_impute = list(range(2010, 2023))\n",
    "    states = foreignborn_df_long['state'].unique()\n",
    "    all_combinations = pd.DataFrame([(state, year) for state in states for year in years_to_impute], columns=['state', 'year'])\n",
    "\n",
    "    # Merge with the original data\n",
    "    foreignborn_complete = pd.merge(all_combinations, foreignborn_df_long, on=['state', 'year'], how='left')\n",
    "\n",
    "    # Function to fill in missing years\n",
    "    def linear_impute(df):\n",
    "        start_value = df.loc[df['year'] == 2010, 'foreignborn'].values[0]\n",
    "        end_value = df.loc[df['year'] == 2022, 'foreignborn'].values[0]\n",
    "        \n",
    "        # Calculate the incremental change for each year\n",
    "        step = (end_value - start_value) / 12  # 12 intervals between 2010 and 2022\n",
    "        \n",
    "        # Fill in each year with the interpolated value\n",
    "        for i, year in enumerate(range(2011, 2022), start=1):\n",
    "            df.loc[df['year'] == year, 'foreignborn'] = start_value + step * i\n",
    "        \n",
    "        return df\n",
    "\n",
    "    # Apply imputation function \n",
    "    foreignborn_complete = foreignborn_complete.groupby('state').apply(linear_impute)\n",
    "\n",
    "    # Filter years\n",
    "    foreignborn_state_year = foreignborn_complete[(foreignborn_complete['year'] >= 2014) & (foreignborn_complete['year'] <= 2022)]\n",
    "    foreignborn_state_year = foreignborn_state_year.drop_duplicates(subset=['state', 'year'])\n",
    "\n",
    "    # Reset index\n",
    "    foreignborn_state_year.reset_index(drop=True, inplace=True)\n",
    "    foreignborn_state_year = foreignborn_state_year.rename(columns={'state': 'State', 'year': 'Year', 'foreignborn': 'foreign_born'})\n",
    "    foreignborn_state_year.to_csv('processed_data/foreignborn_state_year.csv', index=False)\n",
    "\n"
   ]
  },
  {
   "cell_type": "markdown",
   "id": "6adaa205",
   "metadata": {},
   "source": [
    "### Religion Data Preprocessing"
   ]
  },
  {
   "cell_type": "markdown",
   "id": "97ec6ea7",
   "metadata": {},
   "source": [
    "Peter -- write desc"
   ]
  },
  {
   "cell_type": "code",
   "execution_count": 36,
   "id": "219a9662",
   "metadata": {},
   "outputs": [],
   "source": [
    "if not os.path.exists('processed_data/religion_state_year.csv'):\n",
    "    religion_data = pd.read_csv('data/religion_data.csv')\n",
    "\n",
    "    data_2010 = religion_data[religion_data['Year'] == 2010]\n",
    "    data_2020 = religion_data[religion_data['Year'] == 2020]\n",
    "\n",
    "    common_states = set(data_2010['State']).intersection(set(data_2020['State']))\n",
    "    data_2010 = data_2010[data_2010['State'].isin(common_states)]\n",
    "    data_2020 = data_2020[data_2020['State'].isin(common_states)]\n",
    "\n",
    "    data_2010 = data_2010.sort_values(by='State').reset_index(drop=True)\n",
    "    data_2020 = data_2020.sort_values(by='State').reset_index(drop=True)\n",
    "\n",
    "    years_rel = np.array([2010, 2020]).reshape(-1, 1)\n",
    "    adherence_rates_2010 = data_2010['Adherence Rate per 1000'].values\n",
    "    adherence_rates_2020 = data_2020['Adherence Rate per 1000'].values\n",
    "\n",
    "    imputed_data = []\n",
    "    for state in common_states:\n",
    "        adherence_rates = np.array([adherence_rates_2010[data_2010['State'] == state].item(),\n",
    "                                    adherence_rates_2020[data_2020['State'] == state].item()]).reshape(-1, 1)\n",
    "        \n",
    "        model = LinearRegression()\n",
    "        model.fit(years_rel, adherence_rates)\n",
    "        \n",
    "        for year in range(2011, 2023):\n",
    "            imputed_rate = model.predict(np.array([[year]]))[0][0]\n",
    "            imputed_data.append({'Year': year, 'State': state, 'Adherence Rate per 1000': imputed_rate})\n",
    "\n",
    "    imputed_df = pd.DataFrame(imputed_data)\n",
    "\n",
    "    combined_data = pd.concat([religion_data, imputed_df], ignore_index=True)\n",
    "    combined_data = combined_data.sort_values(by=['State', 'Year']).reset_index(drop=True)\n",
    "    combined_data = combined_data.drop_duplicates(subset=['State', 'Year'])\n",
    "    combined_data = combined_data[combined_data['State'] != 'DC']\n",
    "    combined_data['State'] =combined_data['State'].replace(state_abbrev_to_name)\n",
    "\n",
    "    years_to_drop = list(range(2000, 2014))\n",
    "\n",
    "    for y in years_to_drop:\n",
    "        combined_data = combined_data[combined_data['Year'] != y]\n",
    "\n",
    "    state_counts = combined_data['State'].value_counts()\n",
    "    religion_state_year = combined_data.rename(columns={'Adherence Rate per 1000': \"religousness_rate\"})\n",
    "    religion_state_year.to_csv('processed_data/religion_state_year.csv', index=False)\n",
    "\n"
   ]
  },
  {
   "cell_type": "markdown",
   "id": "f5923c4f",
   "metadata": {},
   "source": [
    "### Politics Data Preprocessing"
   ]
  },
  {
   "cell_type": "markdown",
   "id": "5c369558",
   "metadata": {},
   "source": [
    "To pre-process the Cook PVI values, we calculated the Cook PVI for 2022 using the methodology that the index had used prior to that year (50/50 split between the last two elections). We determined the difference in vote share between the Democrat and Republican candidates in each state in the 2020 and 2016 elections and then calculated the difference in each state’s leaning from the national popular vote leaning in each of the election years. Then, I divided the values by four, in accordance with the Cook PVI’s methodology, and used MinMaxScaler() to scale the values to be between 0 and 1. "
   ]
  },
  {
   "cell_type": "code",
   "execution_count": 37,
   "id": "6fce0433",
   "metadata": {},
   "outputs": [],
   "source": [
    "if not os.path.exists('processed_data/pol_state_year.csv'):\n",
    "\n",
    "    pol_2022_df = pd.read_csv('data/cook_pvi_2022.csv')\n",
    "\n",
    "    #Drop DC because it's not a state: \n",
    "    pol_2022_df = pol_2022_df[pol_2022_df['State'] != 'District of Columbia']\n",
    "    pol_2022_df.reset_index(drop=True, inplace=True)\n",
    "\n",
    "    # Convert 2020_Biden, 2020_Trump, 2016_Clinton, 2016_Trump to ints for future calculations\n",
    "    perc_to_int_columns = ['2020_Biden', '2020_Trump', '2016_Clinton', '2016_Trump']\n",
    "    pol_2022_df[perc_to_int_columns] = pol_2022_df[perc_to_int_columns].apply(\n",
    "        lambda col: col.astype(str).str.rstrip('%').astype(float)\n",
    "    )\n",
    "\n",
    "    # Calculate the 2022 PVI using the old methodology:\n",
    "    national_2020 = 4.4 #D+4.4\n",
    "    national_2016 = 2.1 #D+2.1 \n",
    "    lean_2020 =  pol_2022_df[\"2020_Biden\"] - pol_2022_df[\"2020_Trump\"] #How democrat it leans (- democrat is republican)\n",
    "    lean_2016 =  pol_2022_df[\"2016_Clinton\"] - pol_2022_df[\"2016_Trump\"] #same as lean_2020\n",
    "\n",
    "    # Positive differences are d\n",
    "    diff_from_nat_2016 = lean_2016 - national_2016 # If positive leans dem, if negative leans republican\n",
    "    diff_from_nat_2020 = lean_2020 - national_2020 # Sams as ^\n",
    "\n",
    "    # Make a column for old methodology - unscaled rating (negative is Republican, positive is Dem)\n",
    "    # Dividing by two twice bc that's what it seems like Cook PVI methodology did\n",
    "    # Also rounding to the nearest int\n",
    "    pol_2022_df[\"2022_unscaled_rating_old\"] = round(((diff_from_nat_2016 + diff_from_nat_2020) / 2) / 2)\n",
    "\n",
    "    # Now, scale the 2020_unscaled_rating_old\n",
    "    pol_rating_scaler = MinMaxScaler()\n",
    "    scaled_2022_ratings_old = pol_rating_scaler.fit_transform(pol_2022_df['2022_unscaled_rating_old'].values.reshape(-1,1))\n",
    "\n",
    "    pol_2022_df[\"2022_scaled_rating_old\"] = scaled_2022_ratings_old\n",
    "    pol_2022_df[:20]\n",
    "\n",
    "    pol_2022_df[\"Year\"] = 2022\n",
    "\n",
    "    years_2021 =  list(range(2014, 2022))\n",
    "    pol_by_year = []\n",
    "\n",
    "    for i in range(len(years_2021)):\n",
    "        year_df = f'pol_{years_2021[i]}_df'\n",
    "        year_df = pol_2022_df.copy()\n",
    "        year_df[\"Year\"] = years_2021[i]\n",
    "        pol_by_year.append(year_df)\n",
    "\n",
    "    print(len(pol_by_year))\n",
    "    print(type(pol_by_year[0]))\n",
    "\n",
    "    pol_by_year.append(pol_2022_df)\n",
    "\n",
    "    # 0 is extreme conservartive, 1 is extreme liberal\n",
    "    pol_state_year = pd.concat(pol_by_year, ignore_index=True)\n",
    "    pol_state_year = pol_state_year[['State', 'Year', '2022_scaled_rating_old']]\n",
    "    pol_state_year = pol_state_year.rename(columns={'2022_scaled_rating_old': 'political_ranking'})\n",
    "    pol_state_year.to_csv('processed_data/pol_state_year.csv', index=False)\n"
   ]
  },
  {
   "cell_type": "markdown",
   "id": "e16d65b9",
   "metadata": {},
   "source": [
    "### Abortion Data Preprocessing"
   ]
  },
  {
   "cell_type": "markdown",
   "id": "452fe48d",
   "metadata": {},
   "source": [
    "The abortion data starts off as a table where each column is a type of abortion restriction and each row is for a law passed in a certain state. I start off by reshaping the data such that there is a column denoting the latest number of weeks at which abortion allowed (by the strictest law) in a given state and also added an indicator column denoting if there are no laws at all. Then, for the missing years (when no laws were enacted), I copied over the value from the previous year"
   ]
  },
  {
   "cell_type": "code",
   "execution_count": 38,
   "id": "d5dd95fa",
   "metadata": {},
   "outputs": [],
   "source": [
    "if not os.path.exists('processed_data/abortion_state_year.csv'):\n",
    "\n",
    "    # read data\n",
    "    abortion_data = pd.read_csv('data/abortion_data.csv')\n",
    "\n",
    "    # swap column names to be the number of weeks until abortion is banned\n",
    "    columns = [\"State\",\"Effective Date\",\"Valid Through Date\",\"Bans_gest_4 weeks postfertilization (6 weeks LMP) \" ,\"Bans_gest_6 weeks postfertilization (8 weeks LMP) \" ,\"Bans_gest_8 weeks postfertilization (10 weeks LMP)\",\"Bans_gest_10 weeks postfertilization (12 weeks LMP) \" ,\"Bans_gest_12 weeks postfertilization (14 weeks LMP)\",\"Bans_gest_13 weeks postfertilization (15 weeks LMP)\",\"Bans_gest_16 weeks postfertilization (18 weeks LMP) \",\"Bans_gest_18 weeks postfertilization (20 weeks LMP)\",\"Bans_gest_19 weeks postfertilization (21 weeks LMP)\",\"Bans_gest20 weeks postfertilization (22 weeks LMP)\",\"Bans_gest_21 weeks postfertilization (23 weeks LMP) \" ,\"Bans_gest_22 weeks postfertilization (24 weeks LMP)\",\"Bans_gest_24 weeks postfertilization (26 weeks LMP)\",\"Bans_gestViability\",\"Bans_gest_Fetus is capable of feeling pain\",\"Bans_gest_3rd trimester\"]\n",
    "    abortion_data = abortion_data[columns]\n",
    "    abortion_data = abortion_data.rename(columns=law_to_week)\n",
    "\n",
    "    # create a column, latest_abortion, that has the value of the number of weeks allowed until abortion is banned\n",
    "    abortion_processed = abortion_data[['State', 'start', 'end']].copy()\n",
    "    abortion_processed['latest_abortion'] = abortion_data[abortion_data.columns].apply(\n",
    "        lambda row: next((int(col) for col in abortion_data.columns  if str(row[col]) == \"1\"), 40), axis=1)\n",
    "\n",
    "    # add an indicator column if there is no abortion law\n",
    "    abortion_processed['no_abortion_law'] = int(0)\n",
    "    abortion_processed.loc[abortion_processed['latest_abortion'] == 40, 'no_abortion_law'] = int(1)\n",
    "\n",
    "    # if there are multiple laws in a year, choose the one with the longest duration\n",
    "    abortion_processed['start'] = pd.to_datetime(abortion_processed['start'])\n",
    "    abortion_processed['end'] = pd.to_datetime(abortion_processed['end'])\n",
    "    abortion_processed['Year'] = abortion_processed['start'].dt.year\n",
    "    abortion_processed['length'] = (abortion_processed['end'] - abortion_processed['start']).dt.days\n",
    "    abortion_processed = abortion_processed.loc[abortion_processed.groupby(['State', 'Year'])['length'].idxmax()]\n",
    "    abortion_processed = abortion_processed.drop(columns=['start', 'end', 'length'])\n",
    "\n",
    "    # remove dc\n",
    "    abortion_no_dc = abortion_processed[abortion_processed['State'] != \"District of Columbia\"]\n",
    "\n",
    "    # create a dataframe include missing years\n",
    "    years_2018 = range(2018, 2022+1)\n",
    "    all_combinations = pd.MultiIndex.from_product(\n",
    "        [abortion_no_dc['State'].unique(), years_2018],\n",
    "        names=['State', 'Year']\n",
    "    )\n",
    "\n",
    "    #impute with most recent law\n",
    "    abortion_state_year = abortion_no_dc.set_index(['State', 'Year']).reindex(all_combinations).reset_index()\n",
    "    abortion_state_year['latest_abortion'] = abortion_state_year.groupby('State')['latest_abortion'].ffill()\n",
    "    abortion_state_year['no_abortion_law'] = abortion_state_year.groupby('State')['no_abortion_law'].ffill()\n",
    "    abortion_state_year.to_csv('processed_data/abortion_state_year.csv', index=False)\n"
   ]
  },
  {
   "cell_type": "markdown",
   "id": "fe58d43f",
   "metadata": {},
   "source": [
    "### Fertility Rate Data Preprocessing"
   ]
  },
  {
   "cell_type": "code",
   "execution_count": 39,
   "id": "c983340a",
   "metadata": {},
   "outputs": [],
   "source": [
    "if not os.path.exists('processed_data/fertility_state_year.csv'):\n",
    "\n",
    "    fertility_rate = pd.read_csv('data/fertility_rate_census.csv')\n",
    "    fertility_rate_renamed = fertility_rate.rename(columns={\n",
    "        'YEAR': 'Year',\n",
    "        'STATE': 'State',\n",
    "        'FERTILITY RATE': 'fertility_rate'\n",
    "    })[['Year', 'State', 'fertility_rate']]\n",
    "    fertility_state_year = fertility_rate_renamed[fertility_rate_renamed['State'] != \"District of Columbia\"]\n",
    "    fertility_state_year['State'] =fertility_state_year['State'].replace(state_abbrev_to_name)\n",
    "\n",
    "    # add a covid indicator\n",
    "    fertility_state_year['covid_year'] = 0\n",
    "    fertility_state_year.loc[fertility_state_year['Year'] == 2021, 'covid_year'] = 1\n",
    "    fertility_state_year.to_csv('processed_data/fertility_state_year.csv', index=False)"
   ]
  },
  {
   "cell_type": "markdown",
   "id": "46cfe90d",
   "metadata": {},
   "source": [
    "## Now we combine our different datasets along State and Years"
   ]
  },
  {
   "cell_type": "markdown",
   "id": "00352189",
   "metadata": {},
   "source": [
    "Note since we only have abortion data from 2018-2022, we made two datasetes, one including 2014-2017 and one without it"
   ]
  },
  {
   "cell_type": "code",
   "execution_count": 40,
   "id": "6f97e495",
   "metadata": {},
   "outputs": [],
   "source": [
    "cleaned_dfs = [\n",
    "    pd.read_csv('processed_data/fertility_state_year.csv'),\n",
    "    pd.read_csv('processed_data/religion_state_year.csv'), \n",
    "    pd.read_csv('processed_data/race_state_year.csv'), \n",
    "    pd.read_csv('processed_data/spm_state_year.csv'), \n",
    "    pd.read_csv('processed_data/foreignborn_state_year.csv'), \n",
    "    pd.read_csv('processed_data/education_state_year.csv'),\n",
    "    pd.read_csv('processed_data/pol_state_year.csv'),\n",
    "    pd.read_csv('processed_data/abortion_state_year.csv')\n",
    "]"
   ]
  },
  {
   "cell_type": "code",
   "execution_count": 41,
   "id": "16b23d0c",
   "metadata": {},
   "outputs": [
    {
     "data": {
      "text/html": [
       "<div>\n",
       "<style scoped>\n",
       "    .dataframe tbody tr th:only-of-type {\n",
       "        vertical-align: middle;\n",
       "    }\n",
       "\n",
       "    .dataframe tbody tr th {\n",
       "        vertical-align: top;\n",
       "    }\n",
       "\n",
       "    .dataframe thead th {\n",
       "        text-align: right;\n",
       "    }\n",
       "</style>\n",
       "<table border=\"1\" class=\"dataframe\">\n",
       "  <thead>\n",
       "    <tr style=\"text-align: right;\">\n",
       "      <th></th>\n",
       "      <th>0</th>\n",
       "      <th>1</th>\n",
       "      <th>2</th>\n",
       "      <th>3</th>\n",
       "      <th>4</th>\n",
       "    </tr>\n",
       "  </thead>\n",
       "  <tbody>\n",
       "    <tr>\n",
       "      <th>Year</th>\n",
       "      <td>2022</td>\n",
       "      <td>2022</td>\n",
       "      <td>2022</td>\n",
       "      <td>2022</td>\n",
       "      <td>2022</td>\n",
       "    </tr>\n",
       "    <tr>\n",
       "      <th>State</th>\n",
       "      <td>Alabama</td>\n",
       "      <td>Alaska</td>\n",
       "      <td>Arizona</td>\n",
       "      <td>Arkansas</td>\n",
       "      <td>California</td>\n",
       "    </tr>\n",
       "    <tr>\n",
       "      <th>fertility_rate</th>\n",
       "      <td>58.7</td>\n",
       "      <td>64.9</td>\n",
       "      <td>54.9</td>\n",
       "      <td>60.2</td>\n",
       "      <td>52.8</td>\n",
       "    </tr>\n",
       "    <tr>\n",
       "      <th>covid_year</th>\n",
       "      <td>0</td>\n",
       "      <td>0</td>\n",
       "      <td>0</td>\n",
       "      <td>0</td>\n",
       "      <td>0</td>\n",
       "    </tr>\n",
       "    <tr>\n",
       "      <th>religousness_rate</th>\n",
       "      <td>637.366</td>\n",
       "      <td>354.366</td>\n",
       "      <td>454.326</td>\n",
       "      <td>582.44</td>\n",
       "      <td>448.0</td>\n",
       "    </tr>\n",
       "    <tr>\n",
       "      <th>percent_white</th>\n",
       "      <td>0.645</td>\n",
       "      <td>0.577</td>\n",
       "      <td>0.518</td>\n",
       "      <td>0.677</td>\n",
       "      <td>0.337</td>\n",
       "    </tr>\n",
       "    <tr>\n",
       "      <th>percent_black</th>\n",
       "      <td>0.252</td>\n",
       "      <td>0.028</td>\n",
       "      <td>0.043</td>\n",
       "      <td>0.141</td>\n",
       "      <td>0.051</td>\n",
       "    </tr>\n",
       "    <tr>\n",
       "      <th>percent_hispanic</th>\n",
       "      <td>0.048</td>\n",
       "      <td>0.073</td>\n",
       "      <td>0.325</td>\n",
       "      <td>0.085</td>\n",
       "      <td>0.404</td>\n",
       "    </tr>\n",
       "    <tr>\n",
       "      <th>percent_asian</th>\n",
       "      <td>0.014</td>\n",
       "      <td>0.061</td>\n",
       "      <td>0.035</td>\n",
       "      <td>0.015</td>\n",
       "      <td>0.153</td>\n",
       "    </tr>\n",
       "    <tr>\n",
       "      <th>percent_mixed_race</th>\n",
       "      <td>0.039</td>\n",
       "      <td>0.116</td>\n",
       "      <td>0.044</td>\n",
       "      <td>0.074</td>\n",
       "      <td>0.049</td>\n",
       "    </tr>\n",
       "    <tr>\n",
       "      <th>poverty_measure</th>\n",
       "      <td>16.3</td>\n",
       "      <td>10.8</td>\n",
       "      <td>12.3</td>\n",
       "      <td>16.6</td>\n",
       "      <td>11.7</td>\n",
       "    </tr>\n",
       "    <tr>\n",
       "      <th>foreign_born</th>\n",
       "      <td>3.8</td>\n",
       "      <td>7.5</td>\n",
       "      <td>13.1</td>\n",
       "      <td>5.1</td>\n",
       "      <td>26.7</td>\n",
       "    </tr>\n",
       "    <tr>\n",
       "      <th>percent_bachelors_or_higher</th>\n",
       "      <td>0.082</td>\n",
       "      <td>0.104</td>\n",
       "      <td>0.09</td>\n",
       "      <td>0.093</td>\n",
       "      <td>0.116</td>\n",
       "    </tr>\n",
       "    <tr>\n",
       "      <th>percent_less_than_high_school</th>\n",
       "      <td>0.705</td>\n",
       "      <td>0.644</td>\n",
       "      <td>0.699</td>\n",
       "      <td>0.701</td>\n",
       "      <td>0.734</td>\n",
       "    </tr>\n",
       "    <tr>\n",
       "      <th>percent_high_school_or_some_college</th>\n",
       "      <td>0.213</td>\n",
       "      <td>0.252</td>\n",
       "      <td>0.211</td>\n",
       "      <td>0.206</td>\n",
       "      <td>0.15</td>\n",
       "    </tr>\n",
       "    <tr>\n",
       "      <th>political_ranking</th>\n",
       "      <td>0.236842</td>\n",
       "      <td>0.421053</td>\n",
       "      <td>0.578947</td>\n",
       "      <td>0.236842</td>\n",
       "      <td>0.973684</td>\n",
       "    </tr>\n",
       "    <tr>\n",
       "      <th>latest_abortion</th>\n",
       "      <td>20.0</td>\n",
       "      <td>40.0</td>\n",
       "      <td>18.0</td>\n",
       "      <td>16.0</td>\n",
       "      <td>40.0</td>\n",
       "    </tr>\n",
       "    <tr>\n",
       "      <th>no_abortion_law</th>\n",
       "      <td>0.0</td>\n",
       "      <td>1.0</td>\n",
       "      <td>0.0</td>\n",
       "      <td>0.0</td>\n",
       "      <td>1.0</td>\n",
       "    </tr>\n",
       "  </tbody>\n",
       "</table>\n",
       "</div>"
      ],
      "text/plain": [
       "                                            0         1         2         3  \\\n",
       "Year                                     2022      2022      2022      2022   \n",
       "State                                 Alabama    Alaska   Arizona  Arkansas   \n",
       "fertility_rate                           58.7      64.9      54.9      60.2   \n",
       "covid_year                                  0         0         0         0   \n",
       "religousness_rate                     637.366   354.366   454.326    582.44   \n",
       "percent_white                           0.645     0.577     0.518     0.677   \n",
       "percent_black                           0.252     0.028     0.043     0.141   \n",
       "percent_hispanic                        0.048     0.073     0.325     0.085   \n",
       "percent_asian                           0.014     0.061     0.035     0.015   \n",
       "percent_mixed_race                      0.039     0.116     0.044     0.074   \n",
       "poverty_measure                          16.3      10.8      12.3      16.6   \n",
       "foreign_born                              3.8       7.5      13.1       5.1   \n",
       "percent_bachelors_or_higher             0.082     0.104      0.09     0.093   \n",
       "percent_less_than_high_school           0.705     0.644     0.699     0.701   \n",
       "percent_high_school_or_some_college     0.213     0.252     0.211     0.206   \n",
       "political_ranking                    0.236842  0.421053  0.578947  0.236842   \n",
       "latest_abortion                          20.0      40.0      18.0      16.0   \n",
       "no_abortion_law                           0.0       1.0       0.0       0.0   \n",
       "\n",
       "                                              4  \n",
       "Year                                       2022  \n",
       "State                                California  \n",
       "fertility_rate                             52.8  \n",
       "covid_year                                    0  \n",
       "religousness_rate                         448.0  \n",
       "percent_white                             0.337  \n",
       "percent_black                             0.051  \n",
       "percent_hispanic                          0.404  \n",
       "percent_asian                             0.153  \n",
       "percent_mixed_race                        0.049  \n",
       "poverty_measure                            11.7  \n",
       "foreign_born                               26.7  \n",
       "percent_bachelors_or_higher               0.116  \n",
       "percent_less_than_high_school             0.734  \n",
       "percent_high_school_or_some_college        0.15  \n",
       "political_ranking                      0.973684  \n",
       "latest_abortion                            40.0  \n",
       "no_abortion_law                             1.0  "
      ]
     },
     "execution_count": 41,
     "metadata": {},
     "output_type": "execute_result"
    }
   ],
   "source": [
    "combined_2018_to_2022 = reduce(lambda left, right: pd.merge(left, right, on=['State', 'Year'], how='inner'), cleaned_dfs)\n",
    "combined_2018_to_2022.to_csv('combined_dfs/combined_2018_to_2022.csv', index=False)\n",
    "\n",
    "combined_2018_to_2022.head().T"
   ]
  },
  {
   "cell_type": "markdown",
   "id": "be66dfb6",
   "metadata": {},
   "source": [
    "**Note we don't have abortion included in this df as we don't have data from 2014-2017**"
   ]
  },
  {
   "cell_type": "code",
   "execution_count": 42,
   "id": "0c96d052",
   "metadata": {},
   "outputs": [
    {
     "data": {
      "text/html": [
       "<div>\n",
       "<style scoped>\n",
       "    .dataframe tbody tr th:only-of-type {\n",
       "        vertical-align: middle;\n",
       "    }\n",
       "\n",
       "    .dataframe tbody tr th {\n",
       "        vertical-align: top;\n",
       "    }\n",
       "\n",
       "    .dataframe thead th {\n",
       "        text-align: right;\n",
       "    }\n",
       "</style>\n",
       "<table border=\"1\" class=\"dataframe\">\n",
       "  <thead>\n",
       "    <tr style=\"text-align: right;\">\n",
       "      <th></th>\n",
       "      <th>0</th>\n",
       "      <th>1</th>\n",
       "      <th>2</th>\n",
       "      <th>3</th>\n",
       "      <th>4</th>\n",
       "    </tr>\n",
       "  </thead>\n",
       "  <tbody>\n",
       "    <tr>\n",
       "      <th>Year</th>\n",
       "      <td>2014</td>\n",
       "      <td>2015</td>\n",
       "      <td>2016</td>\n",
       "      <td>2017</td>\n",
       "      <td>2018</td>\n",
       "    </tr>\n",
       "    <tr>\n",
       "      <th>State</th>\n",
       "      <td>Alabama</td>\n",
       "      <td>Alabama</td>\n",
       "      <td>Alabama</td>\n",
       "      <td>Alabama</td>\n",
       "      <td>Alabama</td>\n",
       "    </tr>\n",
       "    <tr>\n",
       "      <th>fertility_rate</th>\n",
       "      <td>61.8</td>\n",
       "      <td>62.2</td>\n",
       "      <td>62.1</td>\n",
       "      <td>62.0</td>\n",
       "      <td>60.9</td>\n",
       "    </tr>\n",
       "    <tr>\n",
       "      <th>covid_year</th>\n",
       "      <td>0</td>\n",
       "      <td>0</td>\n",
       "      <td>0</td>\n",
       "      <td>0</td>\n",
       "      <td>0</td>\n",
       "    </tr>\n",
       "    <tr>\n",
       "      <th>religousness_rate</th>\n",
       "      <td>631.942</td>\n",
       "      <td>632.62</td>\n",
       "      <td>633.298</td>\n",
       "      <td>633.976</td>\n",
       "      <td>634.654</td>\n",
       "    </tr>\n",
       "    <tr>\n",
       "      <th>percent_white</th>\n",
       "      <td>0.664</td>\n",
       "      <td>0.662</td>\n",
       "      <td>0.66</td>\n",
       "      <td>0.658</td>\n",
       "      <td>0.656</td>\n",
       "    </tr>\n",
       "    <tr>\n",
       "      <th>percent_black</th>\n",
       "      <td>0.263</td>\n",
       "      <td>0.265</td>\n",
       "      <td>0.265</td>\n",
       "      <td>0.266</td>\n",
       "      <td>0.265</td>\n",
       "    </tr>\n",
       "    <tr>\n",
       "      <th>percent_hispanic</th>\n",
       "      <td>0.039</td>\n",
       "      <td>0.04</td>\n",
       "      <td>0.041</td>\n",
       "      <td>0.041</td>\n",
       "      <td>0.043</td>\n",
       "    </tr>\n",
       "    <tr>\n",
       "      <th>percent_asian</th>\n",
       "      <td>0.012</td>\n",
       "      <td>0.012</td>\n",
       "      <td>0.012</td>\n",
       "      <td>0.013</td>\n",
       "      <td>0.013</td>\n",
       "    </tr>\n",
       "    <tr>\n",
       "      <th>percent_mixed_race</th>\n",
       "      <td>0.018</td>\n",
       "      <td>0.018</td>\n",
       "      <td>0.017</td>\n",
       "      <td>0.017</td>\n",
       "      <td>0.019</td>\n",
       "    </tr>\n",
       "    <tr>\n",
       "      <th>poverty_measure</th>\n",
       "      <td>19.3</td>\n",
       "      <td>18.7</td>\n",
       "      <td>17.1</td>\n",
       "      <td>16.6</td>\n",
       "      <td>16.6</td>\n",
       "    </tr>\n",
       "    <tr>\n",
       "      <th>foreign_born</th>\n",
       "      <td>3.6</td>\n",
       "      <td>3.625</td>\n",
       "      <td>3.65</td>\n",
       "      <td>3.675</td>\n",
       "      <td>3.7</td>\n",
       "    </tr>\n",
       "    <tr>\n",
       "      <th>percent_bachelors_or_higher</th>\n",
       "      <td>0.094</td>\n",
       "      <td>0.094</td>\n",
       "      <td>0.082</td>\n",
       "      <td>0.082</td>\n",
       "      <td>0.082</td>\n",
       "    </tr>\n",
       "    <tr>\n",
       "      <th>percent_less_than_high_school</th>\n",
       "      <td>0.717</td>\n",
       "      <td>0.717</td>\n",
       "      <td>0.705</td>\n",
       "      <td>0.705</td>\n",
       "      <td>0.705</td>\n",
       "    </tr>\n",
       "    <tr>\n",
       "      <th>percent_high_school_or_some_college</th>\n",
       "      <td>0.189</td>\n",
       "      <td>0.189</td>\n",
       "      <td>0.213</td>\n",
       "      <td>0.213</td>\n",
       "      <td>0.213</td>\n",
       "    </tr>\n",
       "    <tr>\n",
       "      <th>political_ranking</th>\n",
       "      <td>0.236842</td>\n",
       "      <td>0.236842</td>\n",
       "      <td>0.236842</td>\n",
       "      <td>0.236842</td>\n",
       "      <td>0.236842</td>\n",
       "    </tr>\n",
       "  </tbody>\n",
       "</table>\n",
       "</div>"
      ],
      "text/plain": [
       "                                            0         1         2         3  \\\n",
       "Year                                     2014      2015      2016      2017   \n",
       "State                                 Alabama   Alabama   Alabama   Alabama   \n",
       "fertility_rate                           61.8      62.2      62.1      62.0   \n",
       "covid_year                                  0         0         0         0   \n",
       "religousness_rate                     631.942    632.62   633.298   633.976   \n",
       "percent_white                           0.664     0.662      0.66     0.658   \n",
       "percent_black                           0.263     0.265     0.265     0.266   \n",
       "percent_hispanic                        0.039      0.04     0.041     0.041   \n",
       "percent_asian                           0.012     0.012     0.012     0.013   \n",
       "percent_mixed_race                      0.018     0.018     0.017     0.017   \n",
       "poverty_measure                          19.3      18.7      17.1      16.6   \n",
       "foreign_born                              3.6     3.625      3.65     3.675   \n",
       "percent_bachelors_or_higher             0.094     0.094     0.082     0.082   \n",
       "percent_less_than_high_school           0.717     0.717     0.705     0.705   \n",
       "percent_high_school_or_some_college     0.189     0.189     0.213     0.213   \n",
       "political_ranking                    0.236842  0.236842  0.236842  0.236842   \n",
       "\n",
       "                                            4  \n",
       "Year                                     2018  \n",
       "State                                 Alabama  \n",
       "fertility_rate                           60.9  \n",
       "covid_year                                  0  \n",
       "religousness_rate                     634.654  \n",
       "percent_white                           0.656  \n",
       "percent_black                           0.265  \n",
       "percent_hispanic                        0.043  \n",
       "percent_asian                           0.013  \n",
       "percent_mixed_race                      0.019  \n",
       "poverty_measure                          16.6  \n",
       "foreign_born                              3.7  \n",
       "percent_bachelors_or_higher             0.082  \n",
       "percent_less_than_high_school           0.705  \n",
       "percent_high_school_or_some_college     0.213  \n",
       "political_ranking                    0.236842  "
      ]
     },
     "execution_count": 42,
     "metadata": {},
     "output_type": "execute_result"
    }
   ],
   "source": [
    "combined_2014_to_2022 = reduce(lambda left, right: pd.merge(left, right, on=['State', 'Year'], how='outer'), cleaned_dfs[:-1])\n",
    "combined_2014_to_2022.to_csv('combined_dfs/combined_2014_to_2022.csv', index=False)\n",
    "\n",
    "combined_2014_to_2022.head().T"
   ]
  },
  {
   "cell_type": "markdown",
   "id": "a3a031ef",
   "metadata": {},
   "source": [
    "## Then we visualize"
   ]
  },
  {
   "cell_type": "code",
   "execution_count": 43,
   "id": "76a5b06c",
   "metadata": {},
   "outputs": [
    {
     "data": {
      "text/plain": [
       "{'Shape': (250, 18),\n",
       " 'Data Types': {'Year': dtype('int64'),\n",
       "  'State': dtype('O'),\n",
       "  'fertility_rate': dtype('float64'),\n",
       "  'covid_year': dtype('int64'),\n",
       "  'religousness_rate': dtype('float64'),\n",
       "  'percent_white': dtype('float64'),\n",
       "  'percent_black': dtype('float64'),\n",
       "  'percent_hispanic': dtype('float64'),\n",
       "  'percent_asian': dtype('float64'),\n",
       "  'percent_mixed_race': dtype('float64'),\n",
       "  'poverty_measure': dtype('float64'),\n",
       "  'foreign_born': dtype('float64'),\n",
       "  'percent_bachelors_or_higher': dtype('float64'),\n",
       "  'percent_less_than_high_school': dtype('float64'),\n",
       "  'percent_high_school_or_some_college': dtype('float64'),\n",
       "  'political_ranking': dtype('float64'),\n",
       "  'latest_abortion': dtype('float64'),\n",
       "  'no_abortion_law': dtype('float64')},\n",
       " 'Descriptive Statistics': {'Year': {'count': 250.0,\n",
       "   'mean': 2020.0,\n",
       "   'std': 1.4170505031628393,\n",
       "   'min': 2018.0,\n",
       "   '25%': 2019.0,\n",
       "   '50%': 2020.0,\n",
       "   '75%': 2021.0,\n",
       "   'max': 2022.0},\n",
       "  'fertility_rate': {'count': 250.0,\n",
       "   'mean': 57.7468,\n",
       "   'std': 5.396117316029501,\n",
       "   'min': 44.3,\n",
       "   '25%': 54.375,\n",
       "   '50%': 58.0,\n",
       "   '75%': 61.0,\n",
       "   'max': 73.6},\n",
       "  'covid_year': {'count': 250.0,\n",
       "   'mean': 0.2,\n",
       "   'std': 0.4008024080281012,\n",
       "   'min': 0.0,\n",
       "   '25%': 0.0,\n",
       "   '50%': 0.0,\n",
       "   '75%': 0.0,\n",
       "   'max': 1.0},\n",
       "  'religousness_rate': {'count': 250.0,\n",
       "   'mean': 476.16159999999996,\n",
       "   'std': 90.62553431433679,\n",
       "   'min': 256.3239999999987,\n",
       "   '25%': 414.90325,\n",
       "   '50%': 480.22300000000064,\n",
       "   '75%': 525.7654999999997,\n",
       "   'max': 766.9799999999996},\n",
       "  'percent_white': {'count': 250.0,\n",
       "   'mean': 0.6727519999999999,\n",
       "   'std': 0.1577337065586774,\n",
       "   'min': 0.195,\n",
       "   '25%': 0.5774999999999999,\n",
       "   '50%': 0.6859999999999999,\n",
       "   '75%': 0.7907500000000001,\n",
       "   'max': 0.934},\n",
       "  'percent_black': {'count': 250.0,\n",
       "   'mean': 0.09981,\n",
       "   'std': 0.09195992284489235,\n",
       "   'min': 0.003,\n",
       "   '25%': 0.028125,\n",
       "   '50%': 0.067,\n",
       "   '75%': 0.136,\n",
       "   'max': 0.377},\n",
       "  'percent_hispanic': {'count': 250.0,\n",
       "   'mean': 0.12451000000000001,\n",
       "   'std': 0.10535909574509883,\n",
       "   'min': 0.013,\n",
       "   '25%': 0.05225,\n",
       "   '50%': 0.099,\n",
       "   '75%': 0.145125,\n",
       "   'max': 0.505},\n",
       "  'percent_asian': {'count': 250.0,\n",
       "   'mean': 0.043372,\n",
       "   'std': 0.055669777370219456,\n",
       "   'min': 0.006,\n",
       "   '25%': 0.016,\n",
       "   '50%': 0.028,\n",
       "   '75%': 0.049375,\n",
       "   'max': 0.394},\n",
       "  'percent_mixed_race': {'count': 250.0,\n",
       "   'mean': 0.042508000000000004,\n",
       "   'std': 0.02835397197761948,\n",
       "   'min': 0.014,\n",
       "   '25%': 0.027,\n",
       "   '50%': 0.038,\n",
       "   '75%': 0.048,\n",
       "   'max': 0.232},\n",
       "  'poverty_measure': {'count': 250.0,\n",
       "   'mean': 12.206400000000002,\n",
       "   'std': 2.7385979469172614,\n",
       "   'min': 6.6,\n",
       "   '25%': 10.1125,\n",
       "   '50%': 11.8,\n",
       "   '75%': 13.575,\n",
       "   'max': 19.8},\n",
       "  'foreign_born': {'count': 250.0,\n",
       "   'mean': 9.413333333333336,\n",
       "   'std': 6.162666038305795,\n",
       "   'min': 1.6,\n",
       "   '25%': 4.856249999999999,\n",
       "   '50%': 7.104166666666666,\n",
       "   '75%': 14.1,\n",
       "   'max': 26.866666666666667},\n",
       "  'percent_bachelors_or_higher': {'count': 250.0,\n",
       "   'mean': 0.12251999999999998,\n",
       "   'std': 0.03296355538978984,\n",
       "   'min': 0.064,\n",
       "   '25%': 0.103,\n",
       "   '50%': 0.11849999999999994,\n",
       "   '75%': 0.143,\n",
       "   'max': 0.207},\n",
       "  'percent_less_than_high_school': {'count': 250.0,\n",
       "   'mean': 0.71638,\n",
       "   'std': 0.028490039124530332,\n",
       "   'min': 0.64,\n",
       "   '25%': 0.6970000000000001,\n",
       "   '50%': 0.7195,\n",
       "   '75%': 0.736,\n",
       "   'max': 0.771},\n",
       "  'percent_high_school_or_some_college': {'count': 250.0,\n",
       "   'mean': 0.16109999999999997,\n",
       "   'std': 0.053359149123470125,\n",
       "   'min': 0.034,\n",
       "   '25%': 0.126,\n",
       "   '50%': 0.1669999999999999,\n",
       "   '75%': 0.194,\n",
       "   'max': 0.2699999999999999},\n",
       "  'political_ranking': {'count': 250.0,\n",
       "   'mean': 0.5373684210526316,\n",
       "   'std': 0.2670443306284518,\n",
       "   'min': 0.0,\n",
       "   '25%': 0.3421052631578947,\n",
       "   '50%': 0.5526315789473684,\n",
       "   '75%': 0.763157894736842,\n",
       "   'max': 1.0},\n",
       "  'latest_abortion': {'count': 250.0,\n",
       "   'mean': 28.764,\n",
       "   'std': 10.607089392549028,\n",
       "   'min': 4.0,\n",
       "   '25%': 20.0,\n",
       "   '50%': 28.0,\n",
       "   '75%': 40.0,\n",
       "   'max': 40.0},\n",
       "  'no_abortion_law': {'count': 250.0,\n",
       "   'mean': 0.436,\n",
       "   'std': 0.4968818433642552,\n",
       "   'min': 0.0,\n",
       "   '25%': 0.0,\n",
       "   '50%': 0.0,\n",
       "   '75%': 1.0,\n",
       "   'max': 1.0}}}"
      ]
     },
     "execution_count": 43,
     "metadata": {},
     "output_type": "execute_result"
    }
   ],
   "source": [
    "# Load the data\n",
    "file_path = 'combined_dfs/combined_2018_to_2022.csv'\n",
    "data = pd.read_csv(file_path)\n",
    "\n",
    "# Display the first few rows and basic information about the dataset\n",
    "data_info = {\n",
    "    \"Shape\": data.shape,\n",
    "    \"Data Types\": data.dtypes.to_dict(),\n",
    "    \"Descriptive Statistics\": data.describe().to_dict()\n",
    "}\n",
    "\n",
    "data_info"
   ]
  },
  {
   "cell_type": "code",
   "execution_count": 44,
   "id": "76a5b06c",
   "metadata": {},
   "outputs": [],
   "source": [
    "output_dir = 'pictures'\n",
    "if not os.path.exists(output_dir):\n",
    "    os.makedirs(output_dir)\n",
    "\n",
    "# Define colors and years for consistent plotting\n",
    "years = data[\"Year\"].unique()\n",
    "colors = plt.cm.viridis(np.linspace(0, 1, len(years)))\n",
    "\n",
    "data_basic_filtered = data.drop(columns=[\"Year\", \"covid_year\", \"State\", \"no_abortion_law\"])\n",
    "no_fertility = data_basic_filtered.columns.drop('fertility_rate')"
   ]
  },
  {
   "cell_type": "markdown",
   "id": "def505c3",
   "metadata": {},
   "source": [
    "### PCA"
   ]
  },
  {
   "cell_type": "code",
   "execution_count": 45,
   "id": "4ecc0196",
   "metadata": {},
   "outputs": [
    {
     "name": "stdout",
     "output_type": "stream",
     "text": [
      "this accounts for 94.28 % variance\n"
     ]
    }
   ],
   "source": [
    "fertility_rate = pd.read_csv('processed_data/fertility_state_year.csv')\n",
    "pivoted_fertility = fertility_rate.pivot(index='State', columns='Year', values='fertility_rate')\n",
    "X_std =  StandardScaler().fit_transform(pivoted_fertility.fillna(0)) \n",
    "pca = PCA(n_components=1) \n",
    "principal_components = pca.fit_transform(X_std)\n",
    "states = pivoted_fertility.index\n",
    "pca_states = pd.DataFrame(data=principal_components, columns=['PC1'], index=states).reset_index()\n",
    "pca_states.columns = ['state', 'PC1']\n",
    "state_name_to_abbrev = {v: k for k, v in state_abbrev_to_name.items()}\n",
    "pca_states['state'] = pca_states['state'].map(state_name_to_abbrev)\n",
    "print(\"this accounts for\", np.round(100*pca.explained_variance_ratio_[0], 2), \"% variance\")"
   ]
  },
  {
   "cell_type": "code",
   "execution_count": 46,
   "id": "d627617c",
   "metadata": {},
   "outputs": [
    {
     "data": {
      "application/vnd.plotly.v1+json": {
       "config": {
        "plotlyServerURL": "https://plot.ly"
       },
       "data": [
        {
         "coloraxis": "coloraxis",
         "geo": "geo",
         "hovertemplate": "state=%{location}<br>Principal Component Value=%{z}<extra></extra>",
         "locationmode": "USA-states",
         "locations": [
          "AL",
          "AK",
          "AZ",
          "AR",
          "CA",
          "CO",
          "CT",
          "DE",
          "FL",
          "GA",
          "HI",
          "ID",
          "IL",
          "IN",
          "IA",
          "KS",
          "KY",
          "LA",
          "ME",
          "MD",
          "MA",
          "MI",
          "MN",
          "MS",
          "MO",
          "MT",
          "NE",
          "NV",
          "NH",
          "NJ",
          "NM",
          "NY",
          "NC",
          "ND",
          "OH",
          "OK",
          "OR",
          "PA",
          "RI",
          "SC",
          "SD",
          "TN",
          "TX",
          "UT",
          "VT",
          "VA",
          "WA",
          "WV",
          "WI",
          "WY"
         ],
         "name": "",
         "type": "choropleth",
         "z": [
          0.6389698508268763,
          5.47027895995348,
          -0.41036478918466207,
          2.10558457342765,
          -1.7636992767804016,
          -2.464872264857112,
          -4.26327129909806,
          -1.1925246294588532,
          -1.449181276376853,
          -0.6436636583940268,
          2.250982429777462,
          2.7699886167201044,
          -1.5867105859612598,
          1.2976194077709158,
          2.0266141954012777,
          2.5026147301495265,
          1.8056429496689392,
          2.608760505520148,
          -4.179522685454732,
          -0.3179580111483743,
          -5.183748509013689,
          -1.0788810555643733,
          1.2436842195755389,
          1.3590512225700881,
          0.7451124615400967,
          -0.14306769422695495,
          4.411780850989206,
          -0.6005777468485126,
          -5.524481097615249,
          -0.27239737408052234,
          -0.7400698841854704,
          -1.6824965262911222,
          -0.5688771302070547,
          6.080209810840947,
          0.3983802752210723,
          2.5203572508188885,
          -4.047705552231621,
          -1.7407935992755519,
          -5.270136404875152,
          -0.6992097736032304,
          6.775491497850916,
          0.5489495324711658,
          2.4575396794364384,
          5.123830160014034,
          -6.450138497884483,
          -0.7207031742693325,
          -1.0451502661531196,
          -1.4803090092970528,
          -0.7613731033765273,
          1.1404416951685779
         ]
        }
       ],
       "layout": {
        "coloraxis": {
         "cmax": 5,
         "cmin": -5,
         "colorbar": {
          "title": {
           "text": "Principal Component Value"
          }
         },
         "colorscale": [
          [
           0,
           "purple"
          ],
          [
           0.5,
           "white"
          ],
          [
           1,
           "green"
          ]
         ]
        },
        "geo": {
         "center": {},
         "domain": {
          "x": [
           0,
           1
          ],
          "y": [
           0,
           1
          ]
         },
         "scope": "usa"
        },
        "height": 600,
        "legend": {
         "tracegroupgap": 0
        },
        "margin": {
         "t": 60
        },
        "template": {
         "data": {
          "bar": [
           {
            "error_x": {
             "color": "#2a3f5f"
            },
            "error_y": {
             "color": "#2a3f5f"
            },
            "marker": {
             "line": {
              "color": "#E5ECF6",
              "width": 0.5
             },
             "pattern": {
              "fillmode": "overlay",
              "size": 10,
              "solidity": 0.2
             }
            },
            "type": "bar"
           }
          ],
          "barpolar": [
           {
            "marker": {
             "line": {
              "color": "#E5ECF6",
              "width": 0.5
             },
             "pattern": {
              "fillmode": "overlay",
              "size": 10,
              "solidity": 0.2
             }
            },
            "type": "barpolar"
           }
          ],
          "carpet": [
           {
            "aaxis": {
             "endlinecolor": "#2a3f5f",
             "gridcolor": "white",
             "linecolor": "white",
             "minorgridcolor": "white",
             "startlinecolor": "#2a3f5f"
            },
            "baxis": {
             "endlinecolor": "#2a3f5f",
             "gridcolor": "white",
             "linecolor": "white",
             "minorgridcolor": "white",
             "startlinecolor": "#2a3f5f"
            },
            "type": "carpet"
           }
          ],
          "choropleth": [
           {
            "colorbar": {
             "outlinewidth": 0,
             "ticks": ""
            },
            "type": "choropleth"
           }
          ],
          "contour": [
           {
            "colorbar": {
             "outlinewidth": 0,
             "ticks": ""
            },
            "colorscale": [
             [
              0,
              "#0d0887"
             ],
             [
              0.1111111111111111,
              "#46039f"
             ],
             [
              0.2222222222222222,
              "#7201a8"
             ],
             [
              0.3333333333333333,
              "#9c179e"
             ],
             [
              0.4444444444444444,
              "#bd3786"
             ],
             [
              0.5555555555555556,
              "#d8576b"
             ],
             [
              0.6666666666666666,
              "#ed7953"
             ],
             [
              0.7777777777777778,
              "#fb9f3a"
             ],
             [
              0.8888888888888888,
              "#fdca26"
             ],
             [
              1,
              "#f0f921"
             ]
            ],
            "type": "contour"
           }
          ],
          "contourcarpet": [
           {
            "colorbar": {
             "outlinewidth": 0,
             "ticks": ""
            },
            "type": "contourcarpet"
           }
          ],
          "heatmap": [
           {
            "colorbar": {
             "outlinewidth": 0,
             "ticks": ""
            },
            "colorscale": [
             [
              0,
              "#0d0887"
             ],
             [
              0.1111111111111111,
              "#46039f"
             ],
             [
              0.2222222222222222,
              "#7201a8"
             ],
             [
              0.3333333333333333,
              "#9c179e"
             ],
             [
              0.4444444444444444,
              "#bd3786"
             ],
             [
              0.5555555555555556,
              "#d8576b"
             ],
             [
              0.6666666666666666,
              "#ed7953"
             ],
             [
              0.7777777777777778,
              "#fb9f3a"
             ],
             [
              0.8888888888888888,
              "#fdca26"
             ],
             [
              1,
              "#f0f921"
             ]
            ],
            "type": "heatmap"
           }
          ],
          "heatmapgl": [
           {
            "colorbar": {
             "outlinewidth": 0,
             "ticks": ""
            },
            "colorscale": [
             [
              0,
              "#0d0887"
             ],
             [
              0.1111111111111111,
              "#46039f"
             ],
             [
              0.2222222222222222,
              "#7201a8"
             ],
             [
              0.3333333333333333,
              "#9c179e"
             ],
             [
              0.4444444444444444,
              "#bd3786"
             ],
             [
              0.5555555555555556,
              "#d8576b"
             ],
             [
              0.6666666666666666,
              "#ed7953"
             ],
             [
              0.7777777777777778,
              "#fb9f3a"
             ],
             [
              0.8888888888888888,
              "#fdca26"
             ],
             [
              1,
              "#f0f921"
             ]
            ],
            "type": "heatmapgl"
           }
          ],
          "histogram": [
           {
            "marker": {
             "pattern": {
              "fillmode": "overlay",
              "size": 10,
              "solidity": 0.2
             }
            },
            "type": "histogram"
           }
          ],
          "histogram2d": [
           {
            "colorbar": {
             "outlinewidth": 0,
             "ticks": ""
            },
            "colorscale": [
             [
              0,
              "#0d0887"
             ],
             [
              0.1111111111111111,
              "#46039f"
             ],
             [
              0.2222222222222222,
              "#7201a8"
             ],
             [
              0.3333333333333333,
              "#9c179e"
             ],
             [
              0.4444444444444444,
              "#bd3786"
             ],
             [
              0.5555555555555556,
              "#d8576b"
             ],
             [
              0.6666666666666666,
              "#ed7953"
             ],
             [
              0.7777777777777778,
              "#fb9f3a"
             ],
             [
              0.8888888888888888,
              "#fdca26"
             ],
             [
              1,
              "#f0f921"
             ]
            ],
            "type": "histogram2d"
           }
          ],
          "histogram2dcontour": [
           {
            "colorbar": {
             "outlinewidth": 0,
             "ticks": ""
            },
            "colorscale": [
             [
              0,
              "#0d0887"
             ],
             [
              0.1111111111111111,
              "#46039f"
             ],
             [
              0.2222222222222222,
              "#7201a8"
             ],
             [
              0.3333333333333333,
              "#9c179e"
             ],
             [
              0.4444444444444444,
              "#bd3786"
             ],
             [
              0.5555555555555556,
              "#d8576b"
             ],
             [
              0.6666666666666666,
              "#ed7953"
             ],
             [
              0.7777777777777778,
              "#fb9f3a"
             ],
             [
              0.8888888888888888,
              "#fdca26"
             ],
             [
              1,
              "#f0f921"
             ]
            ],
            "type": "histogram2dcontour"
           }
          ],
          "mesh3d": [
           {
            "colorbar": {
             "outlinewidth": 0,
             "ticks": ""
            },
            "type": "mesh3d"
           }
          ],
          "parcoords": [
           {
            "line": {
             "colorbar": {
              "outlinewidth": 0,
              "ticks": ""
             }
            },
            "type": "parcoords"
           }
          ],
          "pie": [
           {
            "automargin": true,
            "type": "pie"
           }
          ],
          "scatter": [
           {
            "fillpattern": {
             "fillmode": "overlay",
             "size": 10,
             "solidity": 0.2
            },
            "type": "scatter"
           }
          ],
          "scatter3d": [
           {
            "line": {
             "colorbar": {
              "outlinewidth": 0,
              "ticks": ""
             }
            },
            "marker": {
             "colorbar": {
              "outlinewidth": 0,
              "ticks": ""
             }
            },
            "type": "scatter3d"
           }
          ],
          "scattercarpet": [
           {
            "marker": {
             "colorbar": {
              "outlinewidth": 0,
              "ticks": ""
             }
            },
            "type": "scattercarpet"
           }
          ],
          "scattergeo": [
           {
            "marker": {
             "colorbar": {
              "outlinewidth": 0,
              "ticks": ""
             }
            },
            "type": "scattergeo"
           }
          ],
          "scattergl": [
           {
            "marker": {
             "colorbar": {
              "outlinewidth": 0,
              "ticks": ""
             }
            },
            "type": "scattergl"
           }
          ],
          "scattermapbox": [
           {
            "marker": {
             "colorbar": {
              "outlinewidth": 0,
              "ticks": ""
             }
            },
            "type": "scattermapbox"
           }
          ],
          "scatterpolar": [
           {
            "marker": {
             "colorbar": {
              "outlinewidth": 0,
              "ticks": ""
             }
            },
            "type": "scatterpolar"
           }
          ],
          "scatterpolargl": [
           {
            "marker": {
             "colorbar": {
              "outlinewidth": 0,
              "ticks": ""
             }
            },
            "type": "scatterpolargl"
           }
          ],
          "scatterternary": [
           {
            "marker": {
             "colorbar": {
              "outlinewidth": 0,
              "ticks": ""
             }
            },
            "type": "scatterternary"
           }
          ],
          "surface": [
           {
            "colorbar": {
             "outlinewidth": 0,
             "ticks": ""
            },
            "colorscale": [
             [
              0,
              "#0d0887"
             ],
             [
              0.1111111111111111,
              "#46039f"
             ],
             [
              0.2222222222222222,
              "#7201a8"
             ],
             [
              0.3333333333333333,
              "#9c179e"
             ],
             [
              0.4444444444444444,
              "#bd3786"
             ],
             [
              0.5555555555555556,
              "#d8576b"
             ],
             [
              0.6666666666666666,
              "#ed7953"
             ],
             [
              0.7777777777777778,
              "#fb9f3a"
             ],
             [
              0.8888888888888888,
              "#fdca26"
             ],
             [
              1,
              "#f0f921"
             ]
            ],
            "type": "surface"
           }
          ],
          "table": [
           {
            "cells": {
             "fill": {
              "color": "#EBF0F8"
             },
             "line": {
              "color": "white"
             }
            },
            "header": {
             "fill": {
              "color": "#C8D4E3"
             },
             "line": {
              "color": "white"
             }
            },
            "type": "table"
           }
          ]
         },
         "layout": {
          "annotationdefaults": {
           "arrowcolor": "#2a3f5f",
           "arrowhead": 0,
           "arrowwidth": 1
          },
          "autotypenumbers": "strict",
          "coloraxis": {
           "colorbar": {
            "outlinewidth": 0,
            "ticks": ""
           }
          },
          "colorscale": {
           "diverging": [
            [
             0,
             "#8e0152"
            ],
            [
             0.1,
             "#c51b7d"
            ],
            [
             0.2,
             "#de77ae"
            ],
            [
             0.3,
             "#f1b6da"
            ],
            [
             0.4,
             "#fde0ef"
            ],
            [
             0.5,
             "#f7f7f7"
            ],
            [
             0.6,
             "#e6f5d0"
            ],
            [
             0.7,
             "#b8e186"
            ],
            [
             0.8,
             "#7fbc41"
            ],
            [
             0.9,
             "#4d9221"
            ],
            [
             1,
             "#276419"
            ]
           ],
           "sequential": [
            [
             0,
             "#0d0887"
            ],
            [
             0.1111111111111111,
             "#46039f"
            ],
            [
             0.2222222222222222,
             "#7201a8"
            ],
            [
             0.3333333333333333,
             "#9c179e"
            ],
            [
             0.4444444444444444,
             "#bd3786"
            ],
            [
             0.5555555555555556,
             "#d8576b"
            ],
            [
             0.6666666666666666,
             "#ed7953"
            ],
            [
             0.7777777777777778,
             "#fb9f3a"
            ],
            [
             0.8888888888888888,
             "#fdca26"
            ],
            [
             1,
             "#f0f921"
            ]
           ],
           "sequentialminus": [
            [
             0,
             "#0d0887"
            ],
            [
             0.1111111111111111,
             "#46039f"
            ],
            [
             0.2222222222222222,
             "#7201a8"
            ],
            [
             0.3333333333333333,
             "#9c179e"
            ],
            [
             0.4444444444444444,
             "#bd3786"
            ],
            [
             0.5555555555555556,
             "#d8576b"
            ],
            [
             0.6666666666666666,
             "#ed7953"
            ],
            [
             0.7777777777777778,
             "#fb9f3a"
            ],
            [
             0.8888888888888888,
             "#fdca26"
            ],
            [
             1,
             "#f0f921"
            ]
           ]
          },
          "colorway": [
           "#636efa",
           "#EF553B",
           "#00cc96",
           "#ab63fa",
           "#FFA15A",
           "#19d3f3",
           "#FF6692",
           "#B6E880",
           "#FF97FF",
           "#FECB52"
          ],
          "font": {
           "color": "#2a3f5f"
          },
          "geo": {
           "bgcolor": "white",
           "lakecolor": "white",
           "landcolor": "#E5ECF6",
           "showlakes": true,
           "showland": true,
           "subunitcolor": "white"
          },
          "hoverlabel": {
           "align": "left"
          },
          "hovermode": "closest",
          "mapbox": {
           "style": "light"
          },
          "paper_bgcolor": "white",
          "plot_bgcolor": "#E5ECF6",
          "polar": {
           "angularaxis": {
            "gridcolor": "white",
            "linecolor": "white",
            "ticks": ""
           },
           "bgcolor": "#E5ECF6",
           "radialaxis": {
            "gridcolor": "white",
            "linecolor": "white",
            "ticks": ""
           }
          },
          "scene": {
           "xaxis": {
            "backgroundcolor": "#E5ECF6",
            "gridcolor": "white",
            "gridwidth": 2,
            "linecolor": "white",
            "showbackground": true,
            "ticks": "",
            "zerolinecolor": "white"
           },
           "yaxis": {
            "backgroundcolor": "#E5ECF6",
            "gridcolor": "white",
            "gridwidth": 2,
            "linecolor": "white",
            "showbackground": true,
            "ticks": "",
            "zerolinecolor": "white"
           },
           "zaxis": {
            "backgroundcolor": "#E5ECF6",
            "gridcolor": "white",
            "gridwidth": 2,
            "linecolor": "white",
            "showbackground": true,
            "ticks": "",
            "zerolinecolor": "white"
           }
          },
          "shapedefaults": {
           "line": {
            "color": "#2a3f5f"
           }
          },
          "ternary": {
           "aaxis": {
            "gridcolor": "white",
            "linecolor": "white",
            "ticks": ""
           },
           "baxis": {
            "gridcolor": "white",
            "linecolor": "white",
            "ticks": ""
           },
           "bgcolor": "#E5ECF6",
           "caxis": {
            "gridcolor": "white",
            "linecolor": "white",
            "ticks": ""
           }
          },
          "title": {
           "x": 0.05
          },
          "xaxis": {
           "automargin": true,
           "gridcolor": "white",
           "linecolor": "white",
           "ticks": "",
           "title": {
            "standoff": 15
           },
           "zerolinecolor": "white",
           "zerolinewidth": 2
          },
          "yaxis": {
           "automargin": true,
           "gridcolor": "white",
           "linecolor": "white",
           "ticks": "",
           "title": {
            "standoff": 15
           },
           "zerolinecolor": "white",
           "zerolinewidth": 2
          }
         }
        },
        "title": {
         "text": "What states have the highest variation in fertility rates?: PC 1 by State"
        },
        "width": 800
       }
      }
     },
     "metadata": {},
     "output_type": "display_data"
    }
   ],
   "source": [
    "fig = px.choropleth(\n",
    "    pca_states,\n",
    "    locations='state',\n",
    "    locationmode=\"USA-states\",\n",
    "    color='PC1',\n",
    "    scope=\"usa\",  \n",
    "    range_color=[-5,5],\n",
    "    color_continuous_scale=['purple', 'white', 'green'], \n",
    "    labels={'PC1': 'Principal Component Value'}\n",
    ")\n",
    "\n",
    "\n",
    "fig.update_layout(\n",
    "    title_text=\"What states have the highest variation in fertility rates?: PC 1 by State\",\n",
    "    width=800, \n",
    "    height=600  \n",
    ")\n",
    "fig.show()\n"
   ]
  },
  {
   "cell_type": "markdown",
   "id": "354a5c55",
   "metadata": {},
   "source": [
    "We see that the first principle componetent represents 90% of varition over state and time. Thus, most of the change (net decrease) in fertility rate is seen when the coasts (purples) move strongly in one direction (presumably decrease given the net decrease) and the center of the US moves slightly in the other. We can use this information to understand what variables would be good predictors, aka the ones that match the coloring above. For example, a wealth distribution or political map would see similar differences with one color on the coast and another in the center. Thus we know that looking at household income and political affiliation are going to be really good predictor variables!!"
   ]
  },
  {
   "cell_type": "markdown",
   "id": "b7109035",
   "metadata": {},
   "source": [
    "### Politics Data Plotted on US Map"
   ]
  },
  {
   "cell_type": "code",
   "execution_count": 47,
   "id": "e0309b3e",
   "metadata": {},
   "outputs": [
    {
     "data": {
      "application/vnd.plotly.v1+json": {
       "config": {
        "plotlyServerURL": "https://plot.ly"
       },
       "data": [
        {
         "coloraxis": "coloraxis",
         "geo": "geo",
         "hovertemplate": "State_abbrev=%{location}<br>political_ranking=%{z}<extra></extra>",
         "locationmode": "USA-states",
         "locations": [
          "AL",
          "AK",
          "AZ",
          "AR",
          "CA",
          "CO",
          "CT",
          "DE",
          "FL",
          "GA",
          "HI",
          "ID",
          "IL",
          "IN",
          "IA",
          "KS",
          "KY",
          "LA",
          "ME",
          "MD",
          "MA",
          "MI",
          "MN",
          "MS",
          "MO",
          "MT",
          "NE",
          "NV",
          "NH",
          "NJ",
          "NM",
          "NY",
          "NC",
          "ND",
          "OH",
          "OK",
          "OR",
          "PA",
          "RI",
          "SC",
          "SD",
          "TN",
          "TX",
          "UT",
          "VT",
          "VA",
          "WA",
          "WV",
          "WI",
          "WY",
          "AL",
          "AK",
          "AZ",
          "AR",
          "CA",
          "CO",
          "CT",
          "DE",
          "FL",
          "GA",
          "HI",
          "ID",
          "IL",
          "IN",
          "IA",
          "KS",
          "KY",
          "LA",
          "ME",
          "MD",
          "MA",
          "MI",
          "MN",
          "MS",
          "MO",
          "MT",
          "NE",
          "NV",
          "NH",
          "NJ",
          "NM",
          "NY",
          "NC",
          "ND",
          "OH",
          "OK",
          "OR",
          "PA",
          "RI",
          "SC",
          "SD",
          "TN",
          "TX",
          "UT",
          "VT",
          "VA",
          "WA",
          "WV",
          "WI",
          "WY",
          "AL",
          "AK",
          "AZ",
          "AR",
          "CA",
          "CO",
          "CT",
          "DE",
          "FL",
          "GA",
          "HI",
          "ID",
          "IL",
          "IN",
          "IA",
          "KS",
          "KY",
          "LA",
          "ME",
          "MD",
          "MA",
          "MI",
          "MN",
          "MS",
          "MO",
          "MT",
          "NE",
          "NV",
          "NH",
          "NJ",
          "NM",
          "NY",
          "NC",
          "ND",
          "OH",
          "OK",
          "OR",
          "PA",
          "RI",
          "SC",
          "SD",
          "TN",
          "TX",
          "UT",
          "VT",
          "VA",
          "WA",
          "WV",
          "WI",
          "WY",
          "AL",
          "AK",
          "AZ",
          "AR",
          "CA",
          "CO",
          "CT",
          "DE",
          "FL",
          "GA",
          "HI",
          "ID",
          "IL",
          "IN",
          "IA",
          "KS",
          "KY",
          "LA",
          "ME",
          "MD",
          "MA",
          "MI",
          "MN",
          "MS",
          "MO",
          "MT",
          "NE",
          "NV",
          "NH",
          "NJ",
          "NM",
          "NY",
          "NC",
          "ND",
          "OH",
          "OK",
          "OR",
          "PA",
          "RI",
          "SC",
          "SD",
          "TN",
          "TX",
          "UT",
          "VT",
          "VA",
          "WA",
          "WV",
          "WI",
          "WY",
          "AL",
          "AK",
          "AZ",
          "AR",
          "CA",
          "CO",
          "CT",
          "DE",
          "FL",
          "GA",
          "HI",
          "ID",
          "IL",
          "IN",
          "IA",
          "KS",
          "KY",
          "LA",
          "ME",
          "MD",
          "MA",
          "MI",
          "MN",
          "MS",
          "MO",
          "MT",
          "NE",
          "NV",
          "NH",
          "NJ",
          "NM",
          "NY",
          "NC",
          "ND",
          "OH",
          "OK",
          "OR",
          "PA",
          "RI",
          "SC",
          "SD",
          "TN",
          "TX",
          "UT",
          "VT",
          "VA",
          "WA",
          "WV",
          "WI",
          "WY"
         ],
         "name": "",
         "type": "choropleth",
         "z": [
          0.2368421052631578,
          0.4210526315789473,
          0.5789473684210527,
          0.2368421052631578,
          0.9736842105263156,
          0.7105263157894737,
          0.8157894736842105,
          0.7894736842105263,
          0.5526315789473684,
          0.5526315789473684,
          1,
          0.1842105263157895,
          0.8157894736842105,
          0.3684210526315789,
          0.4736842105263157,
          0.3684210526315789,
          0.2105263157894736,
          0.3421052631578947,
          0.6578947368421052,
          0.9736842105263156,
          1,
          0.6052631578947368,
          0.6578947368421052,
          0.3684210526315789,
          0.3684210526315789,
          0.3421052631578947,
          0.2894736842105263,
          0.631578947368421,
          0.631578947368421,
          0.7894736842105263,
          0.7105263157894737,
          0.894736842105263,
          0.5526315789473684,
          0.131578947368421,
          0.4736842105263157,
          0.131578947368421,
          0.763157894736842,
          0.5789473684210527,
          0.8157894736842105,
          0.4210526315789473,
          0.2105263157894736,
          0.2631578947368421,
          0.5,
          0.3421052631578947,
          1,
          0.6842105263157894,
          0.8157894736842105,
          0.0526315789473683,
          0.5789473684210527,
          0,
          0.2368421052631578,
          0.4210526315789473,
          0.5789473684210527,
          0.2368421052631578,
          0.9736842105263156,
          0.7105263157894737,
          0.8157894736842105,
          0.7894736842105263,
          0.5526315789473684,
          0.5526315789473684,
          1,
          0.1842105263157895,
          0.8157894736842105,
          0.3684210526315789,
          0.4736842105263157,
          0.3684210526315789,
          0.2105263157894736,
          0.3421052631578947,
          0.6578947368421052,
          0.9736842105263156,
          1,
          0.6052631578947368,
          0.6578947368421052,
          0.3684210526315789,
          0.3684210526315789,
          0.3421052631578947,
          0.2894736842105263,
          0.631578947368421,
          0.631578947368421,
          0.7894736842105263,
          0.7105263157894737,
          0.894736842105263,
          0.5526315789473684,
          0.131578947368421,
          0.4736842105263157,
          0.131578947368421,
          0.763157894736842,
          0.5789473684210527,
          0.8157894736842105,
          0.4210526315789473,
          0.2105263157894736,
          0.2631578947368421,
          0.5,
          0.3421052631578947,
          1,
          0.6842105263157894,
          0.8157894736842105,
          0.0526315789473683,
          0.5789473684210527,
          0,
          0.2368421052631578,
          0.4210526315789473,
          0.5789473684210527,
          0.2368421052631578,
          0.9736842105263156,
          0.7105263157894737,
          0.8157894736842105,
          0.7894736842105263,
          0.5526315789473684,
          0.5526315789473684,
          1,
          0.1842105263157895,
          0.8157894736842105,
          0.3684210526315789,
          0.4736842105263157,
          0.3684210526315789,
          0.2105263157894736,
          0.3421052631578947,
          0.6578947368421052,
          0.9736842105263156,
          1,
          0.6052631578947368,
          0.6578947368421052,
          0.3684210526315789,
          0.3684210526315789,
          0.3421052631578947,
          0.2894736842105263,
          0.631578947368421,
          0.631578947368421,
          0.7894736842105263,
          0.7105263157894737,
          0.894736842105263,
          0.5526315789473684,
          0.131578947368421,
          0.4736842105263157,
          0.131578947368421,
          0.763157894736842,
          0.5789473684210527,
          0.8157894736842105,
          0.4210526315789473,
          0.2105263157894736,
          0.2631578947368421,
          0.5,
          0.3421052631578947,
          1,
          0.6842105263157894,
          0.8157894736842105,
          0.0526315789473683,
          0.5789473684210527,
          0,
          0.2368421052631578,
          0.4210526315789473,
          0.5789473684210527,
          0.2368421052631578,
          0.9736842105263156,
          0.7105263157894737,
          0.8157894736842105,
          0.7894736842105263,
          0.5526315789473684,
          0.5526315789473684,
          1,
          0.1842105263157895,
          0.8157894736842105,
          0.3684210526315789,
          0.4736842105263157,
          0.3684210526315789,
          0.2105263157894736,
          0.3421052631578947,
          0.6578947368421052,
          0.9736842105263156,
          1,
          0.6052631578947368,
          0.6578947368421052,
          0.3684210526315789,
          0.3684210526315789,
          0.3421052631578947,
          0.2894736842105263,
          0.631578947368421,
          0.631578947368421,
          0.7894736842105263,
          0.7105263157894737,
          0.894736842105263,
          0.5526315789473684,
          0.131578947368421,
          0.4736842105263157,
          0.131578947368421,
          0.763157894736842,
          0.5789473684210527,
          0.8157894736842105,
          0.4210526315789473,
          0.2105263157894736,
          0.2631578947368421,
          0.5,
          0.3421052631578947,
          1,
          0.6842105263157894,
          0.8157894736842105,
          0.0526315789473683,
          0.5789473684210527,
          0,
          0.2368421052631578,
          0.4210526315789473,
          0.5789473684210527,
          0.2368421052631578,
          0.9736842105263156,
          0.7105263157894737,
          0.8157894736842105,
          0.7894736842105263,
          0.5526315789473684,
          0.5526315789473684,
          1,
          0.1842105263157895,
          0.8157894736842105,
          0.3684210526315789,
          0.4736842105263157,
          0.3684210526315789,
          0.2105263157894736,
          0.3421052631578947,
          0.6578947368421052,
          0.9736842105263156,
          1,
          0.6052631578947368,
          0.6578947368421052,
          0.3684210526315789,
          0.3684210526315789,
          0.3421052631578947,
          0.2894736842105263,
          0.631578947368421,
          0.631578947368421,
          0.7894736842105263,
          0.7105263157894737,
          0.894736842105263,
          0.5526315789473684,
          0.131578947368421,
          0.4736842105263157,
          0.131578947368421,
          0.763157894736842,
          0.5789473684210527,
          0.8157894736842105,
          0.4210526315789473,
          0.2105263157894736,
          0.2631578947368421,
          0.5,
          0.3421052631578947,
          1,
          0.6842105263157894,
          0.8157894736842105,
          0.0526315789473683,
          0.5789473684210527,
          0
         ]
        }
       ],
       "layout": {
        "coloraxis": {
         "colorbar": {
          "title": {
           "text": "political_ranking"
          }
         },
         "colorscale": [
          [
           0,
           "red"
          ],
          [
           0.5,
           "white"
          ],
          [
           1,
           "blue"
          ]
         ]
        },
        "geo": {
         "center": {},
         "domain": {
          "x": [
           0,
           1
          ],
          "y": [
           0,
           1
          ]
         },
         "scope": "usa"
        },
        "height": 600,
        "legend": {
         "tracegroupgap": 0
        },
        "margin": {
         "t": 60
        },
        "template": {
         "data": {
          "bar": [
           {
            "error_x": {
             "color": "#2a3f5f"
            },
            "error_y": {
             "color": "#2a3f5f"
            },
            "marker": {
             "line": {
              "color": "#E5ECF6",
              "width": 0.5
             },
             "pattern": {
              "fillmode": "overlay",
              "size": 10,
              "solidity": 0.2
             }
            },
            "type": "bar"
           }
          ],
          "barpolar": [
           {
            "marker": {
             "line": {
              "color": "#E5ECF6",
              "width": 0.5
             },
             "pattern": {
              "fillmode": "overlay",
              "size": 10,
              "solidity": 0.2
             }
            },
            "type": "barpolar"
           }
          ],
          "carpet": [
           {
            "aaxis": {
             "endlinecolor": "#2a3f5f",
             "gridcolor": "white",
             "linecolor": "white",
             "minorgridcolor": "white",
             "startlinecolor": "#2a3f5f"
            },
            "baxis": {
             "endlinecolor": "#2a3f5f",
             "gridcolor": "white",
             "linecolor": "white",
             "minorgridcolor": "white",
             "startlinecolor": "#2a3f5f"
            },
            "type": "carpet"
           }
          ],
          "choropleth": [
           {
            "colorbar": {
             "outlinewidth": 0,
             "ticks": ""
            },
            "type": "choropleth"
           }
          ],
          "contour": [
           {
            "colorbar": {
             "outlinewidth": 0,
             "ticks": ""
            },
            "colorscale": [
             [
              0,
              "#0d0887"
             ],
             [
              0.1111111111111111,
              "#46039f"
             ],
             [
              0.2222222222222222,
              "#7201a8"
             ],
             [
              0.3333333333333333,
              "#9c179e"
             ],
             [
              0.4444444444444444,
              "#bd3786"
             ],
             [
              0.5555555555555556,
              "#d8576b"
             ],
             [
              0.6666666666666666,
              "#ed7953"
             ],
             [
              0.7777777777777778,
              "#fb9f3a"
             ],
             [
              0.8888888888888888,
              "#fdca26"
             ],
             [
              1,
              "#f0f921"
             ]
            ],
            "type": "contour"
           }
          ],
          "contourcarpet": [
           {
            "colorbar": {
             "outlinewidth": 0,
             "ticks": ""
            },
            "type": "contourcarpet"
           }
          ],
          "heatmap": [
           {
            "colorbar": {
             "outlinewidth": 0,
             "ticks": ""
            },
            "colorscale": [
             [
              0,
              "#0d0887"
             ],
             [
              0.1111111111111111,
              "#46039f"
             ],
             [
              0.2222222222222222,
              "#7201a8"
             ],
             [
              0.3333333333333333,
              "#9c179e"
             ],
             [
              0.4444444444444444,
              "#bd3786"
             ],
             [
              0.5555555555555556,
              "#d8576b"
             ],
             [
              0.6666666666666666,
              "#ed7953"
             ],
             [
              0.7777777777777778,
              "#fb9f3a"
             ],
             [
              0.8888888888888888,
              "#fdca26"
             ],
             [
              1,
              "#f0f921"
             ]
            ],
            "type": "heatmap"
           }
          ],
          "heatmapgl": [
           {
            "colorbar": {
             "outlinewidth": 0,
             "ticks": ""
            },
            "colorscale": [
             [
              0,
              "#0d0887"
             ],
             [
              0.1111111111111111,
              "#46039f"
             ],
             [
              0.2222222222222222,
              "#7201a8"
             ],
             [
              0.3333333333333333,
              "#9c179e"
             ],
             [
              0.4444444444444444,
              "#bd3786"
             ],
             [
              0.5555555555555556,
              "#d8576b"
             ],
             [
              0.6666666666666666,
              "#ed7953"
             ],
             [
              0.7777777777777778,
              "#fb9f3a"
             ],
             [
              0.8888888888888888,
              "#fdca26"
             ],
             [
              1,
              "#f0f921"
             ]
            ],
            "type": "heatmapgl"
           }
          ],
          "histogram": [
           {
            "marker": {
             "pattern": {
              "fillmode": "overlay",
              "size": 10,
              "solidity": 0.2
             }
            },
            "type": "histogram"
           }
          ],
          "histogram2d": [
           {
            "colorbar": {
             "outlinewidth": 0,
             "ticks": ""
            },
            "colorscale": [
             [
              0,
              "#0d0887"
             ],
             [
              0.1111111111111111,
              "#46039f"
             ],
             [
              0.2222222222222222,
              "#7201a8"
             ],
             [
              0.3333333333333333,
              "#9c179e"
             ],
             [
              0.4444444444444444,
              "#bd3786"
             ],
             [
              0.5555555555555556,
              "#d8576b"
             ],
             [
              0.6666666666666666,
              "#ed7953"
             ],
             [
              0.7777777777777778,
              "#fb9f3a"
             ],
             [
              0.8888888888888888,
              "#fdca26"
             ],
             [
              1,
              "#f0f921"
             ]
            ],
            "type": "histogram2d"
           }
          ],
          "histogram2dcontour": [
           {
            "colorbar": {
             "outlinewidth": 0,
             "ticks": ""
            },
            "colorscale": [
             [
              0,
              "#0d0887"
             ],
             [
              0.1111111111111111,
              "#46039f"
             ],
             [
              0.2222222222222222,
              "#7201a8"
             ],
             [
              0.3333333333333333,
              "#9c179e"
             ],
             [
              0.4444444444444444,
              "#bd3786"
             ],
             [
              0.5555555555555556,
              "#d8576b"
             ],
             [
              0.6666666666666666,
              "#ed7953"
             ],
             [
              0.7777777777777778,
              "#fb9f3a"
             ],
             [
              0.8888888888888888,
              "#fdca26"
             ],
             [
              1,
              "#f0f921"
             ]
            ],
            "type": "histogram2dcontour"
           }
          ],
          "mesh3d": [
           {
            "colorbar": {
             "outlinewidth": 0,
             "ticks": ""
            },
            "type": "mesh3d"
           }
          ],
          "parcoords": [
           {
            "line": {
             "colorbar": {
              "outlinewidth": 0,
              "ticks": ""
             }
            },
            "type": "parcoords"
           }
          ],
          "pie": [
           {
            "automargin": true,
            "type": "pie"
           }
          ],
          "scatter": [
           {
            "fillpattern": {
             "fillmode": "overlay",
             "size": 10,
             "solidity": 0.2
            },
            "type": "scatter"
           }
          ],
          "scatter3d": [
           {
            "line": {
             "colorbar": {
              "outlinewidth": 0,
              "ticks": ""
             }
            },
            "marker": {
             "colorbar": {
              "outlinewidth": 0,
              "ticks": ""
             }
            },
            "type": "scatter3d"
           }
          ],
          "scattercarpet": [
           {
            "marker": {
             "colorbar": {
              "outlinewidth": 0,
              "ticks": ""
             }
            },
            "type": "scattercarpet"
           }
          ],
          "scattergeo": [
           {
            "marker": {
             "colorbar": {
              "outlinewidth": 0,
              "ticks": ""
             }
            },
            "type": "scattergeo"
           }
          ],
          "scattergl": [
           {
            "marker": {
             "colorbar": {
              "outlinewidth": 0,
              "ticks": ""
             }
            },
            "type": "scattergl"
           }
          ],
          "scattermapbox": [
           {
            "marker": {
             "colorbar": {
              "outlinewidth": 0,
              "ticks": ""
             }
            },
            "type": "scattermapbox"
           }
          ],
          "scatterpolar": [
           {
            "marker": {
             "colorbar": {
              "outlinewidth": 0,
              "ticks": ""
             }
            },
            "type": "scatterpolar"
           }
          ],
          "scatterpolargl": [
           {
            "marker": {
             "colorbar": {
              "outlinewidth": 0,
              "ticks": ""
             }
            },
            "type": "scatterpolargl"
           }
          ],
          "scatterternary": [
           {
            "marker": {
             "colorbar": {
              "outlinewidth": 0,
              "ticks": ""
             }
            },
            "type": "scatterternary"
           }
          ],
          "surface": [
           {
            "colorbar": {
             "outlinewidth": 0,
             "ticks": ""
            },
            "colorscale": [
             [
              0,
              "#0d0887"
             ],
             [
              0.1111111111111111,
              "#46039f"
             ],
             [
              0.2222222222222222,
              "#7201a8"
             ],
             [
              0.3333333333333333,
              "#9c179e"
             ],
             [
              0.4444444444444444,
              "#bd3786"
             ],
             [
              0.5555555555555556,
              "#d8576b"
             ],
             [
              0.6666666666666666,
              "#ed7953"
             ],
             [
              0.7777777777777778,
              "#fb9f3a"
             ],
             [
              0.8888888888888888,
              "#fdca26"
             ],
             [
              1,
              "#f0f921"
             ]
            ],
            "type": "surface"
           }
          ],
          "table": [
           {
            "cells": {
             "fill": {
              "color": "#EBF0F8"
             },
             "line": {
              "color": "white"
             }
            },
            "header": {
             "fill": {
              "color": "#C8D4E3"
             },
             "line": {
              "color": "white"
             }
            },
            "type": "table"
           }
          ]
         },
         "layout": {
          "annotationdefaults": {
           "arrowcolor": "#2a3f5f",
           "arrowhead": 0,
           "arrowwidth": 1
          },
          "autotypenumbers": "strict",
          "coloraxis": {
           "colorbar": {
            "outlinewidth": 0,
            "ticks": ""
           }
          },
          "colorscale": {
           "diverging": [
            [
             0,
             "#8e0152"
            ],
            [
             0.1,
             "#c51b7d"
            ],
            [
             0.2,
             "#de77ae"
            ],
            [
             0.3,
             "#f1b6da"
            ],
            [
             0.4,
             "#fde0ef"
            ],
            [
             0.5,
             "#f7f7f7"
            ],
            [
             0.6,
             "#e6f5d0"
            ],
            [
             0.7,
             "#b8e186"
            ],
            [
             0.8,
             "#7fbc41"
            ],
            [
             0.9,
             "#4d9221"
            ],
            [
             1,
             "#276419"
            ]
           ],
           "sequential": [
            [
             0,
             "#0d0887"
            ],
            [
             0.1111111111111111,
             "#46039f"
            ],
            [
             0.2222222222222222,
             "#7201a8"
            ],
            [
             0.3333333333333333,
             "#9c179e"
            ],
            [
             0.4444444444444444,
             "#bd3786"
            ],
            [
             0.5555555555555556,
             "#d8576b"
            ],
            [
             0.6666666666666666,
             "#ed7953"
            ],
            [
             0.7777777777777778,
             "#fb9f3a"
            ],
            [
             0.8888888888888888,
             "#fdca26"
            ],
            [
             1,
             "#f0f921"
            ]
           ],
           "sequentialminus": [
            [
             0,
             "#0d0887"
            ],
            [
             0.1111111111111111,
             "#46039f"
            ],
            [
             0.2222222222222222,
             "#7201a8"
            ],
            [
             0.3333333333333333,
             "#9c179e"
            ],
            [
             0.4444444444444444,
             "#bd3786"
            ],
            [
             0.5555555555555556,
             "#d8576b"
            ],
            [
             0.6666666666666666,
             "#ed7953"
            ],
            [
             0.7777777777777778,
             "#fb9f3a"
            ],
            [
             0.8888888888888888,
             "#fdca26"
            ],
            [
             1,
             "#f0f921"
            ]
           ]
          },
          "colorway": [
           "#636efa",
           "#EF553B",
           "#00cc96",
           "#ab63fa",
           "#FFA15A",
           "#19d3f3",
           "#FF6692",
           "#B6E880",
           "#FF97FF",
           "#FECB52"
          ],
          "font": {
           "color": "#2a3f5f"
          },
          "geo": {
           "bgcolor": "white",
           "lakecolor": "white",
           "landcolor": "#E5ECF6",
           "showlakes": true,
           "showland": true,
           "subunitcolor": "white"
          },
          "hoverlabel": {
           "align": "left"
          },
          "hovermode": "closest",
          "mapbox": {
           "style": "light"
          },
          "paper_bgcolor": "white",
          "plot_bgcolor": "#E5ECF6",
          "polar": {
           "angularaxis": {
            "gridcolor": "white",
            "linecolor": "white",
            "ticks": ""
           },
           "bgcolor": "#E5ECF6",
           "radialaxis": {
            "gridcolor": "white",
            "linecolor": "white",
            "ticks": ""
           }
          },
          "scene": {
           "xaxis": {
            "backgroundcolor": "#E5ECF6",
            "gridcolor": "white",
            "gridwidth": 2,
            "linecolor": "white",
            "showbackground": true,
            "ticks": "",
            "zerolinecolor": "white"
           },
           "yaxis": {
            "backgroundcolor": "#E5ECF6",
            "gridcolor": "white",
            "gridwidth": 2,
            "linecolor": "white",
            "showbackground": true,
            "ticks": "",
            "zerolinecolor": "white"
           },
           "zaxis": {
            "backgroundcolor": "#E5ECF6",
            "gridcolor": "white",
            "gridwidth": 2,
            "linecolor": "white",
            "showbackground": true,
            "ticks": "",
            "zerolinecolor": "white"
           }
          },
          "shapedefaults": {
           "line": {
            "color": "#2a3f5f"
           }
          },
          "ternary": {
           "aaxis": {
            "gridcolor": "white",
            "linecolor": "white",
            "ticks": ""
           },
           "baxis": {
            "gridcolor": "white",
            "linecolor": "white",
            "ticks": ""
           },
           "bgcolor": "#E5ECF6",
           "caxis": {
            "gridcolor": "white",
            "linecolor": "white",
            "ticks": ""
           }
          },
          "title": {
           "x": 0.05
          },
          "xaxis": {
           "automargin": true,
           "gridcolor": "white",
           "linecolor": "white",
           "ticks": "",
           "title": {
            "standoff": 15
           },
           "zerolinecolor": "white",
           "zerolinewidth": 2
          },
          "yaxis": {
           "automargin": true,
           "gridcolor": "white",
           "linecolor": "white",
           "ticks": "",
           "title": {
            "standoff": 15
           },
           "zerolinecolor": "white",
           "zerolinewidth": 2
          }
         }
        },
        "title": {
         "text": "Political Leaning by State (plotted dataset)"
        },
        "width": 800
       }
      }
     },
     "metadata": {},
     "output_type": "display_data"
    }
   ],
   "source": [
    "data['State_abbrev'] = data['State'].map(state_name_to_abbrev)\n",
    "\n",
    "fig = px.choropleth(\n",
    "   data,\n",
    "   locations=\"State_abbrev\",\n",
    "   locationmode=\"USA-states\",  # Matches state names to US states\n",
    "   color=\"political_ranking\",  # The column to base color on\n",
    "   color_continuous_scale=[\"red\", \"white\", \"blue\"],  # Adjust color scale\n",
    "   scope=\"usa\",  # Focus on the US\n",
    ")\n",
    "\n",
    "fig.update_layout(\n",
    "    title_text=\"Political Leaning by State (plotted dataset)\",\n",
    "    width=800, \n",
    "    height=600  \n",
    ")\n",
    "\n",
    "\n",
    "fig.show()"
   ]
  },
  {
   "cell_type": "markdown",
   "id": "b5a8e7c7",
   "metadata": {},
   "source": [
    "### Histograms"
   ]
  },
  {
   "cell_type": "code",
   "execution_count": 48,
   "id": "eee8a115",
   "metadata": {},
   "outputs": [],
   "source": [
    "if not os.path.exists(output_dir+'/histogram.png'):\n",
    "\n",
    "    fig, axes = plt.subplots(5,3, figsize=(15, 15))\n",
    "    axes = axes.flatten()\n",
    "    for i, column in enumerate(data_basic_filtered.columns):\n",
    "        axes[i].hist(data_basic_filtered[column].dropna(), bins=20, color=\"skyblue\", edgecolor=\"black\")\n",
    "        axes[i].set_title(f\"Overall Distribution of {column.replace('_', ' ').capitalize()}\", fontsize=12)\n",
    "        axes[i].set_xlabel(column.replace('_', ' ').capitalize(), fontsize=12)\n",
    "        axes[i].set_ylabel(\"Frequency\", fontsize=12)\n",
    "        axes[i].grid(axis=\"y\", alpha=0.2)\n",
    "\n",
    "    for j in range(i + 1, len(axes)):\n",
    "        fig.delaxes(axes[j])\n",
    "    plt.suptitle(\"Histograms\", fontsize=24)\n",
    "    plt.tight_layout() \n",
    "    plt.savefig(os.path.join(output_dir, f\"histogram.png\"))\n",
    "    plt.show()"
   ]
  },
  {
   "cell_type": "code",
   "execution_count": 49,
   "id": "32e7847e",
   "metadata": {},
   "outputs": [],
   "source": [
    "if not os.path.exists(output_dir+'/yearly_histograms.png'):\n",
    "\n",
    "    fig, axes = plt.subplots(5,3, figsize=(15, 15))\n",
    "    axes = axes.flatten()\n",
    "\n",
    "    for i, column in enumerate(data_basic_filtered.columns):\n",
    "        for j, year in enumerate(years):\n",
    "            axes[i].hist(data[data[\"Year\"] == year][column].dropna(), bins=20, \n",
    "                        color=colors[j], alpha=0.5, label=f\"{year}\")\n",
    "        axes[i].set_title(f\"Distribution of {column.replace('_', ' ').capitalize()} by Year\", fontsize=10)\n",
    "        axes[i].set_xlabel(column.replace('_', ' ').capitalize(), fontsize=12)\n",
    "        axes[i].set_ylabel(\"Frequency\", fontsize=12)\n",
    "        axes[i].legend(title=\"Year\")\n",
    "        axes[i].grid(axis=\"y\", alpha=0.2)\n",
    "\n",
    "    for k in range(i + 1, len(axes)):\n",
    "        fig.delaxes(axes[k])\n",
    "    plt.suptitle(\"Histograms by Year\", fontsize=24)\n",
    "    plt.tight_layout()\n",
    "    plt.savefig(os.path.join(output_dir, \"yearly_histograms.png\"))\n",
    "    plt.show()\n"
   ]
  },
  {
   "cell_type": "markdown",
   "id": "23b22d85",
   "metadata": {},
   "source": [
    "### Scatter Plots"
   ]
  },
  {
   "cell_type": "code",
   "execution_count": 50,
   "id": "7cec1afc",
   "metadata": {},
   "outputs": [],
   "source": [
    "if not os.path.exists(output_dir+'/scatterplot.png'):\n",
    "\n",
    "    fig, axes = plt.subplots(5,3, figsize=(15, 15))\n",
    "    axes = axes.flatten()\n",
    "    for i, column in enumerate(no_fertility):\n",
    "        sns.scatterplot(x=data_basic_filtered[column], y=data_basic_filtered['fertility_rate'], ax=axes[i])\n",
    "        axes[i].set_title(f'{column} vs Fertility Rate')\n",
    "        axes[i].set_xlabel(column)\n",
    "        axes[i].set_ylabel('Fertility Rate')\n",
    "\n",
    "    for j in range(i + 1, len(axes)):\n",
    "        fig.delaxes(axes[j])\n",
    "    plt.suptitle(\"Clustering in Scatter Plots\", fontsize=24)\n",
    "    plt.tight_layout()\n",
    "    plt.savefig(os.path.join(output_dir, f\"scatterplot.png\"))\n",
    "    plt.show()"
   ]
  },
  {
   "cell_type": "code",
   "execution_count": 51,
   "id": "51810793",
   "metadata": {},
   "outputs": [],
   "source": [
    "if not os.path.exists(output_dir + '/fertility_rate_over_time.png'):\n",
    "    plt.figure(figsize=(10, 6))\n",
    "    sns.lineplot(x=data['Year'], y=data['fertility_rate'], marker='o')\n",
    "    plt.title(\"Fertility Rate Over Time\", fontsize=24)\n",
    "    plt.xlabel(\"Year\", fontsize=14)\n",
    "    plt.ylabel(\"Fertility Rate\", fontsize=14)\n",
    "    plt.grid(True)\n",
    "    plt.tight_layout()\n",
    "    plt.savefig(os.path.join(output_dir, \"fertility_rate_over_time.png\"))\n",
    "    plt.show()"
   ]
  },
  {
   "cell_type": "markdown",
   "id": "f9ebef33",
   "metadata": {},
   "source": [
    "### Box Plots"
   ]
  },
  {
   "cell_type": "code",
   "execution_count": 52,
   "id": "01b41117",
   "metadata": {},
   "outputs": [],
   "source": [
    "if not os.path.exists(output_dir+'/boxplots_overall.png'):\n",
    "\n",
    "    fig, axes = plt.subplots(5, 3, figsize=(15, 15))\n",
    "    axes = axes.flatten()\n",
    "    for i, column in enumerate(data_basic_filtered.columns):\n",
    "        axes[i].boxplot(data_basic_filtered[column].dropna(), vert=True, patch_artist=True)\n",
    "        axes[i].set_title(f\"Overall {column.replace('_', ' ').capitalize()}\", fontsize=14)\n",
    "        axes[i].set_ylabel(column.replace('_', ' ').capitalize(), fontsize=12)\n",
    "\n",
    "    for j in range(i + 1, len(axes)):\n",
    "        fig.delaxes(axes[j])\n",
    "    plt.suptitle(\"Box Plots (Overall per Variable)\", fontsize=24)\n",
    "    plt.tight_layout()\n",
    "    plt.savefig(os.path.join(output_dir, \"boxplots_overall.png\"))\n",
    "    plt.show()\n"
   ]
  },
  {
   "cell_type": "code",
   "execution_count": 53,
   "id": "77294307",
   "metadata": {},
   "outputs": [],
   "source": [
    "if not os.path.exists(output_dir+'/boxplots_year.png'):\n",
    "\n",
    "    years = sorted(years)\n",
    "    \n",
    "    fig, axes = plt.subplots(5, 3, figsize=(15, 15))\n",
    "    axes = axes.flatten()\n",
    "    for i, column in enumerate(data_basic_filtered.columns):\n",
    "        year_data = [data[data[\"Year\"] == year][column].dropna() for year in years]\n",
    "        axes[i].boxplot(year_data, vert=True, patch_artist=True, tick_labels=years)\n",
    "        axes[i].set_title(f\"{column.replace('_', ' ').capitalize()} by Year\", fontsize=14)\n",
    "        axes[i].set_xlabel(\"Year\", fontsize=12)\n",
    "\n",
    "    for j in range(i + 1, len(axes)):\n",
    "        fig.delaxes(axes[j])\n",
    "    plt.suptitle(\"Box Plots (by year)\", fontsize=24)\n",
    "    plt.tight_layout()\n",
    "    plt.savefig(os.path.join(output_dir, \"boxplots_year.png\"))\n",
    "    plt.show()\n",
    "\n",
    "\n"
   ]
  },
  {
   "cell_type": "markdown",
   "id": "be6a9a9a",
   "metadata": {},
   "source": [
    "### Heatmap"
   ]
  },
  {
   "cell_type": "code",
   "execution_count": 54,
   "id": "b050b77b",
   "metadata": {},
   "outputs": [],
   "source": [
    "if not os.path.exists(output_dir+'/correlation.png'):\n",
    "\n",
    "    numeric_data_only = data.select_dtypes(include=['number']).drop(columns=['Year'])\n",
    "    correlation_matrix = numeric_data_only.corr()\n",
    "    correlation_with_fertility_rate = correlation_matrix[['fertility_rate']].drop('fertility_rate')\n",
    "    fig, axes = plt.subplots(1,2, figsize=(20, 5))\n",
    "\n",
    "    sns.heatmap(abs(correlation_with_fertility_rate.T), annot=True, fmt=\".2f\", cmap=\"coolwarm\", cbar=True, ax=axes[0])\n",
    "    axes[0].set_title(\"Absolute correlation with Fertility Rate\")\n",
    "\n",
    "    sns.heatmap(correlation_with_fertility_rate.T, annot=True, fmt=\".2f\", cmap=\"coolwarm\", cbar=True, ax=axes[1])\n",
    "    axes[1].set_title(\"Correlation with Fertility Rate\")\n",
    "    plt.suptitle(\"Heatmap of Correlation\", fontsize=24)\n",
    "    plt.tight_layout()\n",
    "    plt.savefig(os.path.join(output_dir, \"correlation.png\"))\n",
    "    plt.show()\n"
   ]
  }
 ],
 "metadata": {
  "kernelspec": {
   "display_name": "Python 3",
   "language": "python",
   "name": "python3"
  },
  "language_info": {
   "codemirror_mode": {
    "name": "ipython",
    "version": 3
   },
   "file_extension": ".py",
   "mimetype": "text/x-python",
   "name": "python",
   "nbconvert_exporter": "python",
   "pygments_lexer": "ipython3",
   "version": "3.12.5"
  },
  "otter": {
   "OK_FORMAT": true,
   "tests": {
    "q1": {
     "name": "q1",
     "points": 10,
     "suites": [
      {
       "cases": [
        {
         "code": ">>> expected_url = './data/html/screenboston.html'\n>>> assert os.path.isfile(expected_url), f'Expected local file {expected_url}'\n",
         "hidden": false,
         "locked": false,
         "points": 3
        },
        {
         "code": ">>> expected_url = './data/html/screenboston.html'\n>>> with open(expected_url, 'r') as f:\n...     content = f.read()\n...     s = BeautifulSoup(content)\n...     assert s.select_one('p').text == 'Screen Boston', f'Content of file saved from {expected_url} should contain a <p> tag with the page name.'\n",
         "hidden": false,
         "locked": false,
         "points": 4
        },
        {
         "code": ">>> \n",
         "hidden": false,
         "locked": false
        }
       ],
       "scored": true,
       "setup": "",
       "teardown": "",
       "type": "doctest"
      }
     ]
    },
    "q2": {
     "name": "q2",
     "points": 15,
     "suites": [
      {
       "cases": [
        {
         "code": ">>> n = 50\n>>> assert len(movies) > n, f'`movies` should contain more than {n} elements; you have {len(movies)}.'\n>>> assert all((isinstance(m, dict) for m in movies)), 'Elements of `movies` should all be dictionaries.'\n",
         "hidden": false,
         "locked": false,
         "points": 4
        },
        {
         "code": ">>> keys = {'title', 'directors', 'year', 'genre', 'runtime', 'theater', 'screen_date', 'screen_times'}\n>>> assert all((set(keys).issubset(m.keys()) for m in movies)), f'Each dictionary in `movies` should contain all of these keys: {', '.join(keys)}. At least one dictionary is missing one or more keys.'\n",
         "hidden": false,
         "locked": false,
         "points": 4
        },
        {
         "code": ">>> assert all((isinstance(m['year'], int) for m in movies)), \"The 'year' value should be an integer in all dictionaries.\"\n",
         "hidden": false,
         "locked": false,
         "points": 2
        }
       ],
       "scored": true,
       "setup": "",
       "teardown": "",
       "type": "doctest"
      }
     ]
    },
    "q3": {
     "name": "q3",
     "points": 15,
     "suites": [
      {
       "cases": [
        {
         "code": ">>> snapshots = glob.glob('./data/html/snapshot_*.html')\n>>> assert len(snapshots) >= 4, f'You should have at least 4 snapshots, but found {len(snapshots)} files with paths like ./data/html/snapshot_*.html'\n",
         "hidden": false,
         "locked": false,
         "points": 3
        },
        {
         "code": ">>> snapshots = glob.glob('./data/html/snapshot_*.html')\n>>> assert all((re.match('snapshot_\\\\d{8}\\\\.html', os.path.basename(f)) for f in snapshots)), \"All snapshot files should be named in the format 'snapshot_YYYYMMDD.html'\"\n",
         "hidden": false,
         "locked": false,
         "points": 2
        },
        {
         "code": ">>> assert os.path.isfile('data/movies.json'), \"The file 'data/movies.json' should exist.\"\n",
         "hidden": false,
         "locked": false,
         "points": 2
        },
        {
         "code": ">>> with open('data/movies.json', 'r') as f:\n...     movies = json.load(f)\n>>> n = 300\n>>> assert len(movies) > n, f'`movies` should now contain more than {n} elements; you have {len(movies)}.'\n",
         "hidden": false,
         "locked": false,
         "points": 3
        },
        {
         "code": ">>> keys = {'title', 'directors', 'year', 'genre', 'runtime', 'theater', 'screen_date', 'screen_times'}\n>>> assert all((isinstance(m, dict) and set(keys).issubset(m.keys()) for m in movies)), f'Each dictionary in `movies` should contain all of these keys: {', '.join(keys)}. At least one dictionary is missing one or more keys.'\n",
         "hidden": false,
         "locked": false,
         "points": 5
        }
       ],
       "scored": true,
       "setup": "",
       "teardown": "",
       "type": "doctest"
      }
     ]
    },
    "q4": {
     "name": "q4",
     "points": 15,
     "suites": [
      {
       "cases": [
        {
         "code": ">>> assert isinstance(df, pd.DataFrame), \"You should have stored your DataFrame in a variable called 'df'\"\n>>> assert df.shape[1] == 8, 'Your DataFrame, df, should have 8 columns'\n",
         "hidden": false,
         "locked": false,
         "points": 3
        },
        {
         "code": ">>> assert df.shape[0] > 300, 'You should have found at least 300 non-duplicate rows'\n>>> assert df.shape[0] == df.drop_duplicates().shape[0], 'There are still duplicate rows in your DataFrame'\n",
         "hidden": false,
         "locked": false,
         "points": 3
        },
        {
         "code": ">>> def is_datetime_column_hacky(column):\n...     dtype_str = str(column.dtype)\n...     valid_types = ['date', 'timestamp', 'timedelta', 'duration']\n...     return any((t in dtype_str.lower() for t in valid_types))\n>>> assert is_datetime_column_hacky(df['screen_date']), \"The 'screen_date' column must be either a Pandas or PyArrow date/datetime type.\"\n",
         "hidden": false,
         "locked": false,
         "points": 2
        },
        {
         "code": ">>> def is_datetime_column_hacky(column):\n...     dtype_str = str(column.dtype)\n...     valid_types = ['date', 'timestamp', 'timedelta', 'duration']\n...     return any((t in dtype_str.lower() for t in valid_types))\n>>> assert is_datetime_column_hacky(df['runtime']), \"The 'runtime' column must be either a Pandas or PyArrow timedelta type.\"\n",
         "hidden": false,
         "locked": false,
         "points": 2
        },
        {
         "code": ">>> assert df['screen_date'].is_monotonic_increasing, \"The 'screen_date' column is not sorted in ascending order\"\n",
         "hidden": false,
         "locked": false,
         "points": 2
        },
        {
         "code": ">>> \n",
         "hidden": false,
         "locked": false
        }
       ],
       "scored": true,
       "setup": "",
       "teardown": "",
       "type": "doctest"
      }
     ]
    },
    "q6": {
     "name": "q6",
     "points": 7,
     "suites": [
      {
       "cases": [
        {
         "code": ">>> assert 'wiki_id' in df.columns, \"`df` should now have a column called 'wiki_id'.\"\n",
         "hidden": false,
         "locked": false,
         "points": 2
        },
        {
         "code": ">>> p = 0.5\n>>> assert (q := df['wiki_id'].notna().mean()) >= p, f'You should have been able to find wiki IDs for at least {p:.0%} of the screenings. You found {q:.0%}.'\n",
         "hidden": false,
         "locked": false,
         "points": 3
        },
        {
         "code": ">>> \n",
         "hidden": false,
         "locked": false
        }
       ],
       "scored": true,
       "setup": "",
       "teardown": "",
       "type": "doctest"
      }
     ]
    },
    "q7": {
     "name": "q7",
     "points": 3,
     "suites": [
      {
       "cases": [
        {
         "code": ">>> assert 'wiki_html' in df.columns, \"`df` should now have a column called 'wiki_html'.\"\n",
         "hidden": false,
         "locked": false,
         "points": 1
        },
        {
         "code": ">>> p = 0.5\n>>> assert (q := df['wiki_html'].notna().mean()) >= p, f'You should have been able to acquire wiki page HTML content for at least {p:.0%} of the screenings. You found {q:.0%}.'\n",
         "hidden": false,
         "locked": false,
         "points": 2
        }
       ],
       "scored": true,
       "setup": "",
       "teardown": "",
       "type": "doctest"
      }
     ]
    },
    "wrapup": {
     "name": "wrapup",
     "points": 5,
     "suites": [
      {
       "cases": [
        {
         "code": ">>> assert float(hours_spent_on_hw), 'Please select a time in hours (int or float) to specify how long you spent on this assignment.'\n",
         "hidden": false,
         "locked": false
        }
       ],
       "scored": true,
       "setup": "",
       "teardown": "",
       "type": "doctest"
      }
     ]
    }
   }
  }
 },
 "nbformat": 4,
 "nbformat_minor": 5
}
